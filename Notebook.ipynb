{
 "cells": [
  {
   "cell_type": "markdown",
   "metadata": {},
   "source": [
    "# KPMG Virtual Internship 1\n",
    "\n",
    "Sprocket Central Pty Ltd is a long-standing KPMG client whom specialises in high-quality bikes and accessible cycling accessories to riders. Their marketing team is looking to boost business by analysing their existing customer dataset to determine customer trends and behaviour. \n",
    "\n",
    "Using the existing 3 datasets (Customer demographic, customer address and transactions) as a labelled dataset, please recommend which of these 1000 new customers should be targeted to drive the most value for the organisation. "
   ]
  },
  {
   "cell_type": "code",
   "execution_count": 1,
   "metadata": {},
   "outputs": [],
   "source": [
    "# Importing Libraries\n",
    "import pandas as pd\n",
    "import matplotlib.pyplot as plt\n",
    "import seaborn as sns\n",
    "import numpy as np\n",
    "\n",
    "%matplotlib inline"
   ]
  },
  {
   "cell_type": "code",
   "execution_count": 2,
   "metadata": {},
   "outputs": [],
   "source": [
    "pd.set_option('display.max_columns', None, 'display.max_rows', None)"
   ]
  },
  {
   "cell_type": "code",
   "execution_count": 3,
   "metadata": {},
   "outputs": [],
   "source": [
    "# Importing datasets\n",
    "transactions = pd.read_excel(\"../KPMG Virtual Internship/KPMG_VI_New_raw_data_update_final.xlsx\", sheet_name='Transactions')\n",
    "customer_address = pd.read_excel(\"../KPMG Virtual Internship/KPMG_VI_New_raw_data_update_final.xlsx\", sheet_name='CustomerAddress')\n",
    "customer_demographic = pd.read_excel(\"../KPMG Virtual Internship/KPMG_VI_New_raw_data_update_final.xlsx\", sheet_name='CustomerDemographic')\n",
    "customer_list = pd.read_excel(\"../KPMG Virtual Internship/KPMG_VI_New_raw_data_update_final.xlsx\", sheet_name='NewCustomerList')\n",
    "\n",
    "# Datasets list\n",
    "Datasets = [transactions, customer_address, customer_demographic]"
   ]
  },
  {
   "cell_type": "markdown",
   "metadata": {},
   "source": [
    "# Data Cleaning"
   ]
  },
  {
   "cell_type": "code",
   "execution_count": 4,
   "metadata": {},
   "outputs": [
    {
     "data": {
      "text/html": [
       "<div>\n",
       "<style scoped>\n",
       "    .dataframe tbody tr th:only-of-type {\n",
       "        vertical-align: middle;\n",
       "    }\n",
       "\n",
       "    .dataframe tbody tr th {\n",
       "        vertical-align: top;\n",
       "    }\n",
       "\n",
       "    .dataframe thead th {\n",
       "        text-align: right;\n",
       "    }\n",
       "</style>\n",
       "<table border=\"1\" class=\"dataframe\">\n",
       "  <thead>\n",
       "    <tr style=\"text-align: right;\">\n",
       "      <th></th>\n",
       "      <th>transaction_id</th>\n",
       "      <th>product_id</th>\n",
       "      <th>customer_id</th>\n",
       "      <th>transaction_date</th>\n",
       "      <th>online_order</th>\n",
       "      <th>order_status</th>\n",
       "      <th>brand</th>\n",
       "      <th>product_line</th>\n",
       "      <th>product_class</th>\n",
       "      <th>product_size</th>\n",
       "      <th>list_price</th>\n",
       "      <th>standard_cost</th>\n",
       "      <th>product_first_sold_date</th>\n",
       "    </tr>\n",
       "  </thead>\n",
       "  <tbody>\n",
       "    <tr>\n",
       "      <th>7040</th>\n",
       "      <td>7041</td>\n",
       "      <td>1</td>\n",
       "      <td>3131</td>\n",
       "      <td>2017-02-19</td>\n",
       "      <td>0.0</td>\n",
       "      <td>Approved</td>\n",
       "      <td>Giant Bicycles</td>\n",
       "      <td>Standard</td>\n",
       "      <td>medium</td>\n",
       "      <td>medium</td>\n",
       "      <td>1403.50</td>\n",
       "      <td>954.82</td>\n",
       "      <td>41167.0</td>\n",
       "    </tr>\n",
       "    <tr>\n",
       "      <th>12601</th>\n",
       "      <td>12602</td>\n",
       "      <td>85</td>\n",
       "      <td>2226</td>\n",
       "      <td>2017-11-11</td>\n",
       "      <td>1.0</td>\n",
       "      <td>Approved</td>\n",
       "      <td>WeareA2B</td>\n",
       "      <td>Standard</td>\n",
       "      <td>medium</td>\n",
       "      <td>medium</td>\n",
       "      <td>752.64</td>\n",
       "      <td>205.36</td>\n",
       "      <td>42218.0</td>\n",
       "    </tr>\n",
       "    <tr>\n",
       "      <th>6464</th>\n",
       "      <td>6465</td>\n",
       "      <td>75</td>\n",
       "      <td>583</td>\n",
       "      <td>2017-10-02</td>\n",
       "      <td>1.0</td>\n",
       "      <td>Approved</td>\n",
       "      <td>Giant Bicycles</td>\n",
       "      <td>Touring</td>\n",
       "      <td>medium</td>\n",
       "      <td>large</td>\n",
       "      <td>1873.97</td>\n",
       "      <td>863.95</td>\n",
       "      <td>38859.0</td>\n",
       "    </tr>\n",
       "    <tr>\n",
       "      <th>3866</th>\n",
       "      <td>3867</td>\n",
       "      <td>13</td>\n",
       "      <td>1396</td>\n",
       "      <td>2017-07-05</td>\n",
       "      <td>0.0</td>\n",
       "      <td>Approved</td>\n",
       "      <td>Solex</td>\n",
       "      <td>Standard</td>\n",
       "      <td>medium</td>\n",
       "      <td>medium</td>\n",
       "      <td>1163.89</td>\n",
       "      <td>589.27</td>\n",
       "      <td>42560.0</td>\n",
       "    </tr>\n",
       "    <tr>\n",
       "      <th>7113</th>\n",
       "      <td>7114</td>\n",
       "      <td>19</td>\n",
       "      <td>1624</td>\n",
       "      <td>2017-08-26</td>\n",
       "      <td>0.0</td>\n",
       "      <td>Approved</td>\n",
       "      <td>OHM Cycles</td>\n",
       "      <td>Road</td>\n",
       "      <td>high</td>\n",
       "      <td>large</td>\n",
       "      <td>12.01</td>\n",
       "      <td>7.21</td>\n",
       "      <td>34165.0</td>\n",
       "    </tr>\n",
       "    <tr>\n",
       "      <th>6146</th>\n",
       "      <td>6147</td>\n",
       "      <td>34</td>\n",
       "      <td>3029</td>\n",
       "      <td>2017-02-17</td>\n",
       "      <td>1.0</td>\n",
       "      <td>Approved</td>\n",
       "      <td>Norco Bicycles</td>\n",
       "      <td>Road</td>\n",
       "      <td>high</td>\n",
       "      <td>large</td>\n",
       "      <td>774.53</td>\n",
       "      <td>464.72</td>\n",
       "      <td>37698.0</td>\n",
       "    </tr>\n",
       "  </tbody>\n",
       "</table>\n",
       "</div>"
      ],
      "text/plain": [
       "       transaction_id  product_id  customer_id transaction_date  online_order  \\\n",
       "7040             7041           1         3131       2017-02-19           0.0   \n",
       "12601           12602          85         2226       2017-11-11           1.0   \n",
       "6464             6465          75          583       2017-10-02           1.0   \n",
       "3866             3867          13         1396       2017-07-05           0.0   \n",
       "7113             7114          19         1624       2017-08-26           0.0   \n",
       "6146             6147          34         3029       2017-02-17           1.0   \n",
       "\n",
       "      order_status           brand product_line product_class product_size  \\\n",
       "7040      Approved  Giant Bicycles     Standard        medium       medium   \n",
       "12601     Approved        WeareA2B     Standard        medium       medium   \n",
       "6464      Approved  Giant Bicycles      Touring        medium        large   \n",
       "3866      Approved           Solex     Standard        medium       medium   \n",
       "7113      Approved      OHM Cycles         Road          high        large   \n",
       "6146      Approved  Norco Bicycles         Road          high        large   \n",
       "\n",
       "       list_price  standard_cost  product_first_sold_date  \n",
       "7040      1403.50         954.82                  41167.0  \n",
       "12601      752.64         205.36                  42218.0  \n",
       "6464      1873.97         863.95                  38859.0  \n",
       "3866      1163.89         589.27                  42560.0  \n",
       "7113        12.01           7.21                  34165.0  \n",
       "6146       774.53         464.72                  37698.0  "
      ]
     },
     "execution_count": 4,
     "metadata": {},
     "output_type": "execute_result"
    }
   ],
   "source": [
    "transactions.sample(6)  # Transactions"
   ]
  },
  {
   "cell_type": "code",
   "execution_count": 5,
   "metadata": {},
   "outputs": [
    {
     "data": {
      "text/html": [
       "<div>\n",
       "<style scoped>\n",
       "    .dataframe tbody tr th:only-of-type {\n",
       "        vertical-align: middle;\n",
       "    }\n",
       "\n",
       "    .dataframe tbody tr th {\n",
       "        vertical-align: top;\n",
       "    }\n",
       "\n",
       "    .dataframe thead th {\n",
       "        text-align: right;\n",
       "    }\n",
       "</style>\n",
       "<table border=\"1\" class=\"dataframe\">\n",
       "  <thead>\n",
       "    <tr style=\"text-align: right;\">\n",
       "      <th></th>\n",
       "      <th>customer_id</th>\n",
       "      <th>address</th>\n",
       "      <th>postcode</th>\n",
       "      <th>state</th>\n",
       "      <th>country</th>\n",
       "      <th>property_valuation</th>\n",
       "    </tr>\n",
       "  </thead>\n",
       "  <tbody>\n",
       "    <tr>\n",
       "      <th>2415</th>\n",
       "      <td>2420</td>\n",
       "      <td>290 Jay Drive</td>\n",
       "      <td>4210</td>\n",
       "      <td>QLD</td>\n",
       "      <td>Australia</td>\n",
       "      <td>3</td>\n",
       "    </tr>\n",
       "    <tr>\n",
       "      <th>3752</th>\n",
       "      <td>3757</td>\n",
       "      <td>20101 Prentice Terrace</td>\n",
       "      <td>2074</td>\n",
       "      <td>NSW</td>\n",
       "      <td>Australia</td>\n",
       "      <td>11</td>\n",
       "    </tr>\n",
       "    <tr>\n",
       "      <th>3098</th>\n",
       "      <td>3103</td>\n",
       "      <td>32304 Larry Road</td>\n",
       "      <td>4014</td>\n",
       "      <td>QLD</td>\n",
       "      <td>Australia</td>\n",
       "      <td>7</td>\n",
       "    </tr>\n",
       "    <tr>\n",
       "      <th>3325</th>\n",
       "      <td>3330</td>\n",
       "      <td>75106 Oriole Junction</td>\n",
       "      <td>2030</td>\n",
       "      <td>NSW</td>\n",
       "      <td>Australia</td>\n",
       "      <td>12</td>\n",
       "    </tr>\n",
       "    <tr>\n",
       "      <th>2637</th>\n",
       "      <td>2642</td>\n",
       "      <td>3 Old Gate Hill</td>\n",
       "      <td>4106</td>\n",
       "      <td>QLD</td>\n",
       "      <td>Australia</td>\n",
       "      <td>5</td>\n",
       "    </tr>\n",
       "    <tr>\n",
       "      <th>1156</th>\n",
       "      <td>1161</td>\n",
       "      <td>0386 Mayfield Way</td>\n",
       "      <td>4122</td>\n",
       "      <td>QLD</td>\n",
       "      <td>Australia</td>\n",
       "      <td>7</td>\n",
       "    </tr>\n",
       "  </tbody>\n",
       "</table>\n",
       "</div>"
      ],
      "text/plain": [
       "      customer_id                 address  postcode state    country  \\\n",
       "2415         2420           290 Jay Drive      4210   QLD  Australia   \n",
       "3752         3757  20101 Prentice Terrace      2074   NSW  Australia   \n",
       "3098         3103        32304 Larry Road      4014   QLD  Australia   \n",
       "3325         3330   75106 Oriole Junction      2030   NSW  Australia   \n",
       "2637         2642         3 Old Gate Hill      4106   QLD  Australia   \n",
       "1156         1161       0386 Mayfield Way      4122   QLD  Australia   \n",
       "\n",
       "      property_valuation  \n",
       "2415                   3  \n",
       "3752                  11  \n",
       "3098                   7  \n",
       "3325                  12  \n",
       "2637                   5  \n",
       "1156                   7  "
      ]
     },
     "execution_count": 5,
     "metadata": {},
     "output_type": "execute_result"
    }
   ],
   "source": [
    "customer_address.sample(6)"
   ]
  },
  {
   "cell_type": "code",
   "execution_count": 6,
   "metadata": {},
   "outputs": [
    {
     "data": {
      "text/html": [
       "<div>\n",
       "<style scoped>\n",
       "    .dataframe tbody tr th:only-of-type {\n",
       "        vertical-align: middle;\n",
       "    }\n",
       "\n",
       "    .dataframe tbody tr th {\n",
       "        vertical-align: top;\n",
       "    }\n",
       "\n",
       "    .dataframe thead th {\n",
       "        text-align: right;\n",
       "    }\n",
       "</style>\n",
       "<table border=\"1\" class=\"dataframe\">\n",
       "  <thead>\n",
       "    <tr style=\"text-align: right;\">\n",
       "      <th></th>\n",
       "      <th>customer_id</th>\n",
       "      <th>first_name</th>\n",
       "      <th>last_name</th>\n",
       "      <th>gender</th>\n",
       "      <th>past_3_years_bike_related_purchases</th>\n",
       "      <th>DOB</th>\n",
       "      <th>job_title</th>\n",
       "      <th>job_industry_category</th>\n",
       "      <th>wealth_segment</th>\n",
       "      <th>deceased_indicator</th>\n",
       "      <th>default</th>\n",
       "      <th>owns_car</th>\n",
       "      <th>tenure</th>\n",
       "    </tr>\n",
       "  </thead>\n",
       "  <tbody>\n",
       "    <tr>\n",
       "      <th>3274</th>\n",
       "      <td>3275</td>\n",
       "      <td>Lela</td>\n",
       "      <td>Carrell</td>\n",
       "      <td>Female</td>\n",
       "      <td>24</td>\n",
       "      <td>1975-10-22 00:00:00</td>\n",
       "      <td>Computer Systems Analyst IV</td>\n",
       "      <td>Manufacturing</td>\n",
       "      <td>Mass Customer</td>\n",
       "      <td>N</td>\n",
       "      <td>ÅâÂ´â°ËÃÂ¨ËÃâââ</td>\n",
       "      <td>No</td>\n",
       "      <td>6.0</td>\n",
       "    </tr>\n",
       "    <tr>\n",
       "      <th>3373</th>\n",
       "      <td>3374</td>\n",
       "      <td>Joann</td>\n",
       "      <td>Corrigan</td>\n",
       "      <td>Female</td>\n",
       "      <td>77</td>\n",
       "      <td>1959-11-17 00:00:00</td>\n",
       "      <td>Sales Associate</td>\n",
       "      <td>Manufacturing</td>\n",
       "      <td>Mass Customer</td>\n",
       "      <td>N</td>\n",
       "      <td>0/0</td>\n",
       "      <td>Yes</td>\n",
       "      <td>12.0</td>\n",
       "    </tr>\n",
       "    <tr>\n",
       "      <th>1065</th>\n",
       "      <td>1066</td>\n",
       "      <td>Hailey</td>\n",
       "      <td>Ricciardi</td>\n",
       "      <td>Male</td>\n",
       "      <td>45</td>\n",
       "      <td>1995-10-06 00:00:00</td>\n",
       "      <td>Recruiter</td>\n",
       "      <td>Telecommunications</td>\n",
       "      <td>High Net Worth</td>\n",
       "      <td>N</td>\n",
       "      <td>ï¼ï¼ï¼</td>\n",
       "      <td>No</td>\n",
       "      <td>12.0</td>\n",
       "    </tr>\n",
       "    <tr>\n",
       "      <th>54</th>\n",
       "      <td>55</td>\n",
       "      <td>Linc</td>\n",
       "      <td>Jillions</td>\n",
       "      <td>Male</td>\n",
       "      <td>48</td>\n",
       "      <td>1956-09-24 00:00:00</td>\n",
       "      <td>Paralegal</td>\n",
       "      <td>Financial Services</td>\n",
       "      <td>Affluent Customer</td>\n",
       "      <td>N</td>\n",
       "      <td>ZÌ®ÌÍÌ ÍÍAÌ¥ÌÌÍÌ»ÌLÌ£ÍÍÌ¯Ì¹ÌÍGÌ»OÌ­ÌÌ®</td>\n",
       "      <td>Yes</td>\n",
       "      <td>7.0</td>\n",
       "    </tr>\n",
       "    <tr>\n",
       "      <th>65</th>\n",
       "      <td>66</td>\n",
       "      <td>Anselm</td>\n",
       "      <td>Gawne</td>\n",
       "      <td>Male</td>\n",
       "      <td>46</td>\n",
       "      <td>2002-03-11 00:00:00</td>\n",
       "      <td>Account Executive</td>\n",
       "      <td>Argiculture</td>\n",
       "      <td>High Net Worth</td>\n",
       "      <td>N</td>\n",
       "      <td>ï½ï½¨(Â´âï½â©</td>\n",
       "      <td>No</td>\n",
       "      <td>1.0</td>\n",
       "    </tr>\n",
       "    <tr>\n",
       "      <th>3725</th>\n",
       "      <td>3726</td>\n",
       "      <td>Ange</td>\n",
       "      <td>Austick</td>\n",
       "      <td>Female</td>\n",
       "      <td>36</td>\n",
       "      <td>1976-06-17 00:00:00</td>\n",
       "      <td>GIS Technical Architect</td>\n",
       "      <td>Property</td>\n",
       "      <td>Mass Customer</td>\n",
       "      <td>N</td>\n",
       "      <td>Ø«Ù ÙÙØ³ Ø³ÙØ·Øª ÙØ¨Ø§ÙØªØ­Ø¯ÙØ¯Ø, Ø¬Ø²ÙØ±ØªÙ ...</td>\n",
       "      <td>No</td>\n",
       "      <td>19.0</td>\n",
       "    </tr>\n",
       "  </tbody>\n",
       "</table>\n",
       "</div>"
      ],
      "text/plain": [
       "      customer_id first_name  last_name  gender  \\\n",
       "3274         3275       Lela    Carrell  Female   \n",
       "3373         3374      Joann   Corrigan  Female   \n",
       "1065         1066     Hailey  Ricciardi    Male   \n",
       "54             55       Linc   Jillions    Male   \n",
       "65             66     Anselm      Gawne    Male   \n",
       "3725         3726       Ange    Austick  Female   \n",
       "\n",
       "      past_3_years_bike_related_purchases                  DOB  \\\n",
       "3274                                   24  1975-10-22 00:00:00   \n",
       "3373                                   77  1959-11-17 00:00:00   \n",
       "1065                                   45  1995-10-06 00:00:00   \n",
       "54                                     48  1956-09-24 00:00:00   \n",
       "65                                     46  2002-03-11 00:00:00   \n",
       "3725                                   36  1976-06-17 00:00:00   \n",
       "\n",
       "                        job_title job_industry_category     wealth_segment  \\\n",
       "3274  Computer Systems Analyst IV         Manufacturing      Mass Customer   \n",
       "3373              Sales Associate         Manufacturing      Mass Customer   \n",
       "1065                    Recruiter    Telecommunications     High Net Worth   \n",
       "54                      Paralegal    Financial Services  Affluent Customer   \n",
       "65              Account Executive           Argiculture     High Net Worth   \n",
       "3725      GIS Technical Architect              Property      Mass Customer   \n",
       "\n",
       "     deceased_indicator                                            default  \\\n",
       "3274                  N                                    ÅâÂ´â°ËÃÂ¨ËÃâââ   \n",
       "3373                  N                                                0/0   \n",
       "1065                  N                                             ï¼ï¼ï¼   \n",
       "54                    N             ZÌ®ÌÍÌ ÍÍAÌ¥ÌÌÍÌ»ÌLÌ£ÍÍÌ¯Ì¹ÌÍGÌ»OÌ­ÌÌ®   \n",
       "65                    N                                      ï½ï½¨(Â´âï½â©   \n",
       "3725                  N  Ø«Ù ÙÙØ³ Ø³ÙØ·Øª ÙØ¨Ø§ÙØªØ­Ø¯ÙØ¯Ø, Ø¬Ø²ÙØ±ØªÙ ...   \n",
       "\n",
       "     owns_car  tenure  \n",
       "3274       No     6.0  \n",
       "3373      Yes    12.0  \n",
       "1065       No    12.0  \n",
       "54        Yes     7.0  \n",
       "65         No     1.0  \n",
       "3725       No    19.0  "
      ]
     },
     "execution_count": 6,
     "metadata": {},
     "output_type": "execute_result"
    }
   ],
   "source": [
    "customer_demographic.sample(6)"
   ]
  },
  {
   "cell_type": "code",
   "execution_count": 8,
   "metadata": {},
   "outputs": [],
   "source": [
    "# for _ in Datasets:\n",
    "#     print(_.info())"
   ]
  },
  {
   "cell_type": "code",
   "execution_count": 9,
   "metadata": {},
   "outputs": [],
   "source": [
    "customer_demographic.rename({'past_3_years_bike_related_purchases': 'past_3_years_purchases'}, axis=1, inplace=True)"
   ]
  },
  {
   "cell_type": "markdown",
   "metadata": {},
   "source": [
    "Customer ID can be used to join the data.\n",
    "\n",
    "Columns of concern:\n",
    "- transactions['product_first_sold_date']\n",
    "- customer_demographic['default']\n",
    "- customer_demographic['DOB'] should be datetime format"
   ]
  },
  {
   "cell_type": "code",
   "execution_count": 10,
   "metadata": {},
   "outputs": [],
   "source": [
    "customer_demographic['DOB'] = pd.to_datetime(customer_demographic['DOB'])"
   ]
  },
  {
   "cell_type": "code",
   "execution_count": 11,
   "metadata": {},
   "outputs": [
    {
     "data": {
      "text/plain": [
       "2934     42172.0\n",
       "14742    37539.0\n",
       "13996    38193.0\n",
       "18569    37823.0\n",
       "16863    38482.0\n",
       "17479    36334.0\n",
       "17226    40649.0\n",
       "14636    42710.0\n",
       "2113     38482.0\n",
       "18553        NaN\n",
       "Name: product_first_sold_date, dtype: float64"
      ]
     },
     "execution_count": 11,
     "metadata": {},
     "output_type": "execute_result"
    }
   ],
   "source": [
    "transactions['product_first_sold_date'].sample(10)"
   ]
  },
  {
   "cell_type": "code",
   "execution_count": 12,
   "metadata": {},
   "outputs": [
    {
     "data": {
      "text/plain": [
       "2668                                           __ï¾(,_,*)\n",
       "2739               /dev/null; touch /tmp/blns.fail ; echo\n",
       "119                                                â°â´âµ\n",
       "3421                                                    '\n",
       "3043    ×Ö¼Ö°×¨Öµ××©×Ö´××ª, ×Ö¼Ö¸×¨Ö¸× ×Ö±×Ö¹×Ö´××, ×Ö...\n",
       "1547                                                  100\n",
       "544                <svg><script>0<1>alert('XSS')</script>\n",
       "648                                                     á\n",
       "1483                                              é¨è½æ ¼\n",
       "2008                                                   \"'\n",
       "Name: default, dtype: object"
      ]
     },
     "execution_count": 12,
     "metadata": {},
     "output_type": "execute_result"
    }
   ],
   "source": [
    "customer_demographic['default'].sample(10)"
   ]
  },
  {
   "cell_type": "code",
   "execution_count": 13,
   "metadata": {},
   "outputs": [],
   "source": [
    "transactions.drop('product_first_sold_date', axis=1, inplace=True)\n",
    "customer_demographic.drop('default', axis=1, inplace=True)"
   ]
  },
  {
   "cell_type": "markdown",
   "metadata": {},
   "source": [
    "## Nan Values Check"
   ]
  },
  {
   "cell_type": "code",
   "execution_count": 14,
   "metadata": {},
   "outputs": [
    {
     "data": {
      "text/plain": [
       "transaction_id      0.000\n",
       "product_id          0.000\n",
       "customer_id         0.000\n",
       "transaction_date    0.000\n",
       "online_order        1.800\n",
       "order_status        0.000\n",
       "brand               0.985\n",
       "product_line        0.985\n",
       "product_class       0.985\n",
       "product_size        0.985\n",
       "list_price          0.000\n",
       "standard_cost       0.985\n",
       "dtype: float64"
      ]
     },
     "execution_count": 14,
     "metadata": {},
     "output_type": "execute_result"
    }
   ],
   "source": [
    "transactions.isna().sum() / transactions.shape[0] * 100"
   ]
  },
  {
   "cell_type": "code",
   "execution_count": 15,
   "metadata": {},
   "outputs": [
    {
     "data": {
      "text/plain": [
       "customer_id           0.0\n",
       "address               0.0\n",
       "postcode              0.0\n",
       "state                 0.0\n",
       "country               0.0\n",
       "property_valuation    0.0\n",
       "dtype: float64"
      ]
     },
     "execution_count": 15,
     "metadata": {},
     "output_type": "execute_result"
    }
   ],
   "source": [
    "customer_address.isna().sum() / customer_address.shape[0] * 100"
   ]
  },
  {
   "cell_type": "code",
   "execution_count": 16,
   "metadata": {},
   "outputs": [
    {
     "data": {
      "text/plain": [
       "customer_id                0.000\n",
       "first_name                 0.000\n",
       "last_name                  3.125\n",
       "gender                     0.000\n",
       "past_3_years_purchases     0.000\n",
       "DOB                        2.175\n",
       "job_title                 12.650\n",
       "job_industry_category     16.400\n",
       "wealth_segment             0.000\n",
       "deceased_indicator         0.000\n",
       "owns_car                   0.000\n",
       "tenure                     2.175\n",
       "dtype: float64"
      ]
     },
     "execution_count": 16,
     "metadata": {},
     "output_type": "execute_result"
    }
   ],
   "source": [
    "customer_demographic.isna().sum() / customer_demographic.shape[0] * 100"
   ]
  },
  {
   "cell_type": "markdown",
   "metadata": {},
   "source": [
    "Transactions Data\n",
    "\n",
    "- Brand and product related columns are difficult to fill considering the sensitivity of this information to the analysis. Therefore missing values will be dropped\n",
    "\n",
    "Customer Address Data has no missing values\n",
    "\n",
    "Customer Demographic \n",
    "\n",
    "- job related columns have a sizeable number of missing values and are sensitive to the analysis\n",
    "  - Consider dropping them since only about ~ 500 values are missing leaving > 3500 records\n",
    "- DOB values should also be dropped"
   ]
  },
  {
   "cell_type": "code",
   "execution_count": 17,
   "metadata": {},
   "outputs": [],
   "source": [
    "transactions.dropna(subset=['brand', 'product_class', 'product_line', 'product_size'], inplace=True)\n",
    "customer_demographic.dropna(subset=['job_title', 'job_industry_category', 'DOB'], inplace=True)"
   ]
  },
  {
   "cell_type": "code",
   "execution_count": 20,
   "metadata": {},
   "outputs": [],
   "source": [
    "# for df in Datasets:\n",
    "#     print(df.info())"
   ]
  },
  {
   "cell_type": "markdown",
   "metadata": {},
   "source": [
    "Transactions\n",
    "\n",
    "- Numeric = transaction_id, product_id, customer_id, online_order, list_price, standard_cost\n",
    "- Datetime = transaction_date\n",
    "- Object = order_status, brand, product_line, product_class, product_size\n",
    "\n",
    "Customer Address\n",
    "- Numeric = customer_id, postcode, property_valuation\n",
    "- object = address, state, country\n",
    "\n",
    "Customer Demographic\n",
    "- Numeric = customer_id, past_3_years_purchases, tenure\n",
    "- Datetime = DOB\n",
    "- Object = first_name, last_name, gender, job_title, job_industry_category, wealth_segment, deceased_indicator"
   ]
  },
  {
   "cell_type": "code",
   "execution_count": 19,
   "metadata": {},
   "outputs": [
    {
     "data": {
      "text/plain": [
       "online_order\n",
       "1.0    9739\n",
       "0.0    9706\n",
       "Name: count, dtype: int64"
      ]
     },
     "execution_count": 19,
     "metadata": {},
     "output_type": "execute_result"
    }
   ],
   "source": [
    "transactions['online_order'].value_counts()"
   ]
  },
  {
   "cell_type": "markdown",
   "metadata": {},
   "source": [
    "Since there is a balance of classes in online_order, filling with ffill or bfill is a better method. Also renaming Nan last_names to unknown to preserve the data."
   ]
  },
  {
   "cell_type": "code",
   "execution_count": 22,
   "metadata": {},
   "outputs": [],
   "source": [
    "transactions['online_order'].fillna(method='ffill', inplace=True)"
   ]
  },
  {
   "cell_type": "code",
   "execution_count": 23,
   "metadata": {},
   "outputs": [],
   "source": [
    "customer_demographic['last_name'].fillna(value='Unknown', inplace=True)"
   ]
  },
  {
   "cell_type": "markdown",
   "metadata": {},
   "source": [
    "## Outliers Check"
   ]
  },
  {
   "cell_type": "code",
   "execution_count": 24,
   "metadata": {},
   "outputs": [],
   "source": [
    "num_transactions = ['list_price', 'standard_cost', 'transaction_date']\n",
    "num_address = ['property_valuation']\n",
    "num_demographic = ['DOB', 'past_3_years_purchases', 'tenure']"
   ]
  },
  {
   "cell_type": "code",
   "execution_count": 25,
   "metadata": {},
   "outputs": [
    {
     "data": {
      "image/png": "[encoded data removed]",
      "text/plain": [
       "<Figure size 640x480 with 1 Axes>"
      ]
     },
     "metadata": {},
     "output_type": "display_data"
    }
   ],
   "source": [
    "transactions[num_transactions].boxplot();"
   ]
  },
  {
   "cell_type": "code",
   "execution_count": 26,
   "metadata": {},
   "outputs": [
    {
     "data": {
      "image/png": "[encoded data removed]",
      "text/plain": [
       "<Figure size 640x480 with 1 Axes>"
      ]
     },
     "metadata": {},
     "output_type": "display_data"
    }
   ],
   "source": [
    "customer_address[num_address].boxplot();"
   ]
  },
  {
   "cell_type": "code",
   "execution_count": 28,
   "metadata": {},
   "outputs": [
    {
     "data": {
      "image/png": "[encoded data removed]",
      "text/plain": [
       "<Figure size 640x480 with 1 Axes>"
      ]
     },
     "metadata": {},
     "output_type": "display_data"
    }
   ],
   "source": [
    "customer_demographic[num_demographic].boxplot();"
   ]
  },
  {
   "cell_type": "markdown",
   "metadata": {},
   "source": [
    "There is an outlier in transactions dataset's standard_cost"
   ]
  },
  {
   "cell_type": "code",
   "execution_count": 29,
   "metadata": {},
   "outputs": [],
   "source": [
    "# Fuction for removing outliers\n",
    "def filter_outliers(df, column):\n",
    "    Q1 = df[column].quantile(q=0.25)\n",
    "    Q3 = df[column].quantile(q=0.75)\n",
    "\n",
    "    IQR = Q3 - Q1\n",
    "\n",
    "    lower_limit = Q1 - 1.5 * IQR\n",
    "    \n",
    "    upper_limit = Q3 + 1.5 * IQR\n",
    "\n",
    "    return (df[column] < lower_limit) | (df[column] > upper_limit)"
   ]
  },
  {
   "cell_type": "code",
   "execution_count": 30,
   "metadata": {},
   "outputs": [],
   "source": [
    "# Removing outliers in transactions\n",
    "transactions_mask = filter_outliers(transactions, 'standard_cost')\n",
    "transactions = transactions[~transactions_mask]"
   ]
  },
  {
   "cell_type": "code",
   "execution_count": 31,
   "metadata": {},
   "outputs": [
    {
     "data": {
      "text/plain": [
       "min   2017-01-01\n",
       "max   2017-12-30\n",
       "Name: transaction_date, dtype: datetime64[ns]"
      ]
     },
     "execution_count": 31,
     "metadata": {},
     "output_type": "execute_result"
    }
   ],
   "source": [
    "transactions['transaction_date'].agg(['min', 'max'])"
   ]
  },
  {
   "cell_type": "code",
   "execution_count": 32,
   "metadata": {},
   "outputs": [
    {
     "data": {
      "text/plain": [
       "min   1843-12-21\n",
       "max   2002-03-11\n",
       "Name: DOB, dtype: datetime64[ns]"
      ]
     },
     "execution_count": 32,
     "metadata": {},
     "output_type": "execute_result"
    }
   ],
   "source": [
    "customer_demographic['DOB'].agg(['min', 'max'])"
   ]
  },
  {
   "cell_type": "code",
   "execution_count": 33,
   "metadata": {},
   "outputs": [],
   "source": [
    "# Dropping 1843-12-21 00:00:00 value\n",
    "customer_demographic = customer_demographic[~(customer_demographic['DOB'] == '1843-12-21 00:00:00')].copy()"
   ]
  },
  {
   "cell_type": "markdown",
   "metadata": {},
   "source": [
    "## Object columns Exploration & Cleaning"
   ]
  },
  {
   "cell_type": "code",
   "execution_count": 34,
   "metadata": {},
   "outputs": [],
   "source": [
    "obj_transactions = ['order_status', 'brand', 'product_line', 'product_class', 'product_size'] \n",
    "obj_address = ['address', 'state', 'country']\n",
    "obj_demographic = ['first_name', 'last_name', 'gender', 'job_title', 'job_industry_category', 'wealth_segment', 'deceased_indicator']"
   ]
  },
  {
   "cell_type": "code",
   "execution_count": 35,
   "metadata": {},
   "outputs": [],
   "source": [
    "# for col in obj_transactions:\n",
    "#     print(transactions[col].value_counts(), '\\n')"
   ]
  },
  {
   "cell_type": "code",
   "execution_count": 36,
   "metadata": {},
   "outputs": [],
   "source": [
    "# for col in obj_address:\n",
    "#     print(customer_address[col].value_counts(), '\\n')"
   ]
  },
  {
   "cell_type": "code",
   "execution_count": 37,
   "metadata": {},
   "outputs": [],
   "source": [
    "# for col in obj_demographic:\n",
    "#     print(customer_demographic[col].value_counts(), '\\n')"
   ]
  },
  {
   "cell_type": "markdown",
   "metadata": {},
   "source": [
    "Transactions has no errors in recording\n",
    "\n",
    "Customer Address state column has some errors (new south wales instead of NSW and Victoria instead of VIC)\n",
    "\n",
    "Customer Demographic gender column has errors (F and Femal instead of Female)"
   ]
  },
  {
   "cell_type": "code",
   "execution_count": 38,
   "metadata": {},
   "outputs": [],
   "source": [
    "customer_address['state'].replace({'New South Wales': 'NSW', 'Victoria': 'VIC'}, inplace=True)\n",
    "customer_demographic['gender'].replace({'Femal': 'Female', 'F': 'Female'}, inplace=True)"
   ]
  },
  {
   "cell_type": "code",
   "execution_count": 39,
   "metadata": {},
   "outputs": [],
   "source": [
    "# for _ in Datasets:\n",
    "#     print(_.info())"
   ]
  },
  {
   "cell_type": "markdown",
   "metadata": {},
   "source": [
    "# Joining the datasets\n",
    "\n",
    "The other datasets will be merged into the transactions dataset using the customer_id column."
   ]
  },
  {
   "cell_type": "code",
   "execution_count": 40,
   "metadata": {},
   "outputs": [
    {
     "name": "stdout",
     "output_type": "stream",
     "text": [
      "3494\n",
      "3999\n",
      "2865\n"
     ]
    }
   ],
   "source": [
    "for _ in Datasets:\n",
    "    print(_['customer_id'].nunique())"
   ]
  },
  {
   "cell_type": "markdown",
   "metadata": {},
   "source": [
    "The customer id total records are not equal in number in the datasets."
   ]
  },
  {
   "cell_type": "code",
   "execution_count": 41,
   "metadata": {},
   "outputs": [],
   "source": [
    "# Joining the datasets\n",
    "data = transactions.merge(customer_address, on='customer_id', how='left', suffixes=('_transactions', '_address')).merge(customer_demographic, on='customer_id', how='left', suffixes=('_address', '_demographic'))"
   ]
  },
  {
   "cell_type": "code",
   "execution_count": 44,
   "metadata": {},
   "outputs": [
    {
     "data": {
      "text/html": [
       "<div>\n",
       "<style scoped>\n",
       "    .dataframe tbody tr th:only-of-type {\n",
       "        vertical-align: middle;\n",
       "    }\n",
       "\n",
       "    .dataframe tbody tr th {\n",
       "        vertical-align: top;\n",
       "    }\n",
       "\n",
       "    .dataframe thead th {\n",
       "        text-align: right;\n",
       "    }\n",
       "</style>\n",
       "<table border=\"1\" class=\"dataframe\">\n",
       "  <thead>\n",
       "    <tr style=\"text-align: right;\">\n",
       "      <th></th>\n",
       "      <th>transaction_id</th>\n",
       "      <th>product_id</th>\n",
       "      <th>customer_id</th>\n",
       "      <th>transaction_date</th>\n",
       "      <th>online_order</th>\n",
       "      <th>order_status</th>\n",
       "      <th>brand</th>\n",
       "      <th>product_line</th>\n",
       "      <th>product_class</th>\n",
       "      <th>product_size</th>\n",
       "      <th>list_price</th>\n",
       "      <th>standard_cost</th>\n",
       "      <th>address</th>\n",
       "      <th>postcode</th>\n",
       "      <th>state</th>\n",
       "      <th>country</th>\n",
       "      <th>property_valuation</th>\n",
       "      <th>first_name</th>\n",
       "      <th>last_name</th>\n",
       "      <th>gender</th>\n",
       "      <th>past_3_years_purchases</th>\n",
       "      <th>DOB</th>\n",
       "      <th>job_title</th>\n",
       "      <th>job_industry_category</th>\n",
       "      <th>wealth_segment</th>\n",
       "      <th>deceased_indicator</th>\n",
       "      <th>owns_car</th>\n",
       "      <th>tenure</th>\n",
       "    </tr>\n",
       "  </thead>\n",
       "  <tbody>\n",
       "    <tr>\n",
       "      <th>11072</th>\n",
       "      <td>11281</td>\n",
       "      <td>44</td>\n",
       "      <td>2873</td>\n",
       "      <td>2017-01-02</td>\n",
       "      <td>0.0</td>\n",
       "      <td>Approved</td>\n",
       "      <td>WeareA2B</td>\n",
       "      <td>Standard</td>\n",
       "      <td>medium</td>\n",
       "      <td>medium</td>\n",
       "      <td>1769.64</td>\n",
       "      <td>108.76</td>\n",
       "      <td>62293 Raven Parkway</td>\n",
       "      <td>2486.0</td>\n",
       "      <td>NSW</td>\n",
       "      <td>Australia</td>\n",
       "      <td>8.0</td>\n",
       "      <td>Elvina</td>\n",
       "      <td>Saiger</td>\n",
       "      <td>Female</td>\n",
       "      <td>59.0</td>\n",
       "      <td>1981-06-25</td>\n",
       "      <td>Cost Accountant</td>\n",
       "      <td>Financial Services</td>\n",
       "      <td>Mass Customer</td>\n",
       "      <td>N</td>\n",
       "      <td>No</td>\n",
       "      <td>13.0</td>\n",
       "    </tr>\n",
       "    <tr>\n",
       "      <th>3954</th>\n",
       "      <td>4015</td>\n",
       "      <td>46</td>\n",
       "      <td>3451</td>\n",
       "      <td>2017-11-19</td>\n",
       "      <td>1.0</td>\n",
       "      <td>Approved</td>\n",
       "      <td>OHM Cycles</td>\n",
       "      <td>Standard</td>\n",
       "      <td>low</td>\n",
       "      <td>medium</td>\n",
       "      <td>1793.43</td>\n",
       "      <td>248.82</td>\n",
       "      <td>4233 Service Avenue</td>\n",
       "      <td>2340.0</td>\n",
       "      <td>NSW</td>\n",
       "      <td>Australia</td>\n",
       "      <td>5.0</td>\n",
       "      <td>NaN</td>\n",
       "      <td>NaN</td>\n",
       "      <td>NaN</td>\n",
       "      <td>NaN</td>\n",
       "      <td>NaT</td>\n",
       "      <td>NaN</td>\n",
       "      <td>NaN</td>\n",
       "      <td>NaN</td>\n",
       "      <td>NaN</td>\n",
       "      <td>NaN</td>\n",
       "      <td>NaN</td>\n",
       "    </tr>\n",
       "    <tr>\n",
       "      <th>11263</th>\n",
       "      <td>11474</td>\n",
       "      <td>46</td>\n",
       "      <td>1964</td>\n",
       "      <td>2017-02-27</td>\n",
       "      <td>0.0</td>\n",
       "      <td>Approved</td>\n",
       "      <td>Solex</td>\n",
       "      <td>Standard</td>\n",
       "      <td>low</td>\n",
       "      <td>medium</td>\n",
       "      <td>1289.85</td>\n",
       "      <td>74.51</td>\n",
       "      <td>7 Del Mar Crossing</td>\n",
       "      <td>4680.0</td>\n",
       "      <td>QLD</td>\n",
       "      <td>Australia</td>\n",
       "      <td>7.0</td>\n",
       "      <td>Cara</td>\n",
       "      <td>Campbell-Dunlop</td>\n",
       "      <td>Female</td>\n",
       "      <td>60.0</td>\n",
       "      <td>1964-06-19</td>\n",
       "      <td>Mechanical Systems Engineer</td>\n",
       "      <td>Financial Services</td>\n",
       "      <td>Affluent Customer</td>\n",
       "      <td>N</td>\n",
       "      <td>Yes</td>\n",
       "      <td>9.0</td>\n",
       "    </tr>\n",
       "    <tr>\n",
       "      <th>12097</th>\n",
       "      <td>12326</td>\n",
       "      <td>48</td>\n",
       "      <td>381</td>\n",
       "      <td>2017-09-05</td>\n",
       "      <td>0.0</td>\n",
       "      <td>Approved</td>\n",
       "      <td>WeareA2B</td>\n",
       "      <td>Standard</td>\n",
       "      <td>medium</td>\n",
       "      <td>medium</td>\n",
       "      <td>1762.96</td>\n",
       "      <td>950.52</td>\n",
       "      <td>010 Namekagon Parkway</td>\n",
       "      <td>2062.0</td>\n",
       "      <td>NSW</td>\n",
       "      <td>Australia</td>\n",
       "      <td>12.0</td>\n",
       "      <td>NaN</td>\n",
       "      <td>NaN</td>\n",
       "      <td>NaN</td>\n",
       "      <td>NaN</td>\n",
       "      <td>NaT</td>\n",
       "      <td>NaN</td>\n",
       "      <td>NaN</td>\n",
       "      <td>NaN</td>\n",
       "      <td>NaN</td>\n",
       "      <td>NaN</td>\n",
       "      <td>NaN</td>\n",
       "    </tr>\n",
       "    <tr>\n",
       "      <th>1124</th>\n",
       "      <td>1144</td>\n",
       "      <td>4</td>\n",
       "      <td>1288</td>\n",
       "      <td>2017-09-21</td>\n",
       "      <td>1.0</td>\n",
       "      <td>Approved</td>\n",
       "      <td>Giant Bicycles</td>\n",
       "      <td>Standard</td>\n",
       "      <td>high</td>\n",
       "      <td>medium</td>\n",
       "      <td>1129.13</td>\n",
       "      <td>677.48</td>\n",
       "      <td>55 Elgar Park</td>\n",
       "      <td>4306.0</td>\n",
       "      <td>QLD</td>\n",
       "      <td>Australia</td>\n",
       "      <td>7.0</td>\n",
       "      <td>Abra</td>\n",
       "      <td>Cuardall</td>\n",
       "      <td>Female</td>\n",
       "      <td>51.0</td>\n",
       "      <td>1979-10-07</td>\n",
       "      <td>Desktop Support Technician</td>\n",
       "      <td>Financial Services</td>\n",
       "      <td>Affluent Customer</td>\n",
       "      <td>N</td>\n",
       "      <td>Yes</td>\n",
       "      <td>18.0</td>\n",
       "    </tr>\n",
       "  </tbody>\n",
       "</table>\n",
       "</div>"
      ],
      "text/plain": [
       "       transaction_id  product_id  customer_id transaction_date  online_order  \\\n",
       "11072           11281          44         2873       2017-01-02           0.0   \n",
       "3954             4015          46         3451       2017-11-19           1.0   \n",
       "11263           11474          46         1964       2017-02-27           0.0   \n",
       "12097           12326          48          381       2017-09-05           0.0   \n",
       "1124             1144           4         1288       2017-09-21           1.0   \n",
       "\n",
       "      order_status           brand product_line product_class product_size  \\\n",
       "11072     Approved        WeareA2B     Standard        medium       medium   \n",
       "3954      Approved      OHM Cycles     Standard           low       medium   \n",
       "11263     Approved           Solex     Standard           low       medium   \n",
       "12097     Approved        WeareA2B     Standard        medium       medium   \n",
       "1124      Approved  Giant Bicycles     Standard          high       medium   \n",
       "\n",
       "       list_price  standard_cost                address  postcode state  \\\n",
       "11072     1769.64         108.76    62293 Raven Parkway    2486.0   NSW   \n",
       "3954      1793.43         248.82    4233 Service Avenue    2340.0   NSW   \n",
       "11263     1289.85          74.51     7 Del Mar Crossing    4680.0   QLD   \n",
       "12097     1762.96         950.52  010 Namekagon Parkway    2062.0   NSW   \n",
       "1124      1129.13         677.48          55 Elgar Park    4306.0   QLD   \n",
       "\n",
       "         country  property_valuation first_name        last_name  gender  \\\n",
       "11072  Australia                 8.0     Elvina           Saiger  Female   \n",
       "3954   Australia                 5.0        NaN              NaN     NaN   \n",
       "11263  Australia                 7.0       Cara  Campbell-Dunlop  Female   \n",
       "12097  Australia                12.0        NaN              NaN     NaN   \n",
       "1124   Australia                 7.0       Abra         Cuardall  Female   \n",
       "\n",
       "       past_3_years_purchases        DOB                    job_title  \\\n",
       "11072                    59.0 1981-06-25              Cost Accountant   \n",
       "3954                      NaN        NaT                          NaN   \n",
       "11263                    60.0 1964-06-19  Mechanical Systems Engineer   \n",
       "12097                     NaN        NaT                          NaN   \n",
       "1124                     51.0 1979-10-07   Desktop Support Technician   \n",
       "\n",
       "      job_industry_category     wealth_segment deceased_indicator owns_car  \\\n",
       "11072    Financial Services      Mass Customer                  N       No   \n",
       "3954                    NaN                NaN                NaN      NaN   \n",
       "11263    Financial Services  Affluent Customer                  N      Yes   \n",
       "12097                   NaN                NaN                NaN      NaN   \n",
       "1124     Financial Services  Affluent Customer                  N      Yes   \n",
       "\n",
       "       tenure  \n",
       "11072    13.0  \n",
       "3954      NaN  \n",
       "11263     9.0  \n",
       "12097     NaN  \n",
       "1124     18.0  "
      ]
     },
     "execution_count": 44,
     "metadata": {},
     "output_type": "execute_result"
    }
   ],
   "source": [
    "data.sample(5)"
   ]
  },
  {
   "cell_type": "code",
   "execution_count": 45,
   "metadata": {},
   "outputs": [
    {
     "data": {
      "text/plain": [
       "transaction_id               0\n",
       "product_id                   0\n",
       "customer_id                  0\n",
       "transaction_date             0\n",
       "online_order                 0\n",
       "order_status                 0\n",
       "brand                        0\n",
       "product_line                 0\n",
       "product_class                0\n",
       "product_size                 0\n",
       "list_price                   0\n",
       "standard_cost                0\n",
       "address                     30\n",
       "postcode                    30\n",
       "state                       30\n",
       "country                     30\n",
       "property_valuation          30\n",
       "first_name                5440\n",
       "last_name                 5440\n",
       "gender                    5440\n",
       "past_3_years_purchases    5440\n",
       "DOB                       5440\n",
       "job_title                 5440\n",
       "job_industry_category     5440\n",
       "wealth_segment            5440\n",
       "deceased_indicator        5440\n",
       "owns_car                  5440\n",
       "tenure                    5440\n",
       "dtype: int64"
      ]
     },
     "execution_count": 45,
     "metadata": {},
     "output_type": "execute_result"
    }
   ],
   "source": [
    "data.isna().sum()"
   ]
  },
  {
   "cell_type": "markdown",
   "metadata": {},
   "source": [
    "Due to the unmatched ID records there are a number of missing values"
   ]
  },
  {
   "cell_type": "code",
   "execution_count": 46,
   "metadata": {},
   "outputs": [
    {
     "data": {
      "text/html": [
       "<div>\n",
       "<style scoped>\n",
       "    .dataframe tbody tr th:only-of-type {\n",
       "        vertical-align: middle;\n",
       "    }\n",
       "\n",
       "    .dataframe tbody tr th {\n",
       "        vertical-align: top;\n",
       "    }\n",
       "\n",
       "    .dataframe thead th {\n",
       "        text-align: right;\n",
       "    }\n",
       "</style>\n",
       "<table border=\"1\" class=\"dataframe\">\n",
       "  <thead>\n",
       "    <tr style=\"text-align: right;\">\n",
       "      <th></th>\n",
       "      <th>transaction_id</th>\n",
       "      <th>product_id</th>\n",
       "      <th>customer_id</th>\n",
       "      <th>transaction_date</th>\n",
       "      <th>online_order</th>\n",
       "      <th>order_status</th>\n",
       "      <th>brand</th>\n",
       "      <th>product_line</th>\n",
       "      <th>product_class</th>\n",
       "      <th>product_size</th>\n",
       "      <th>list_price</th>\n",
       "      <th>standard_cost</th>\n",
       "      <th>address</th>\n",
       "      <th>postcode</th>\n",
       "      <th>state</th>\n",
       "      <th>country</th>\n",
       "      <th>property_valuation</th>\n",
       "      <th>first_name</th>\n",
       "      <th>last_name</th>\n",
       "      <th>gender</th>\n",
       "      <th>past_3_years_purchases</th>\n",
       "      <th>DOB</th>\n",
       "      <th>job_title</th>\n",
       "      <th>job_industry_category</th>\n",
       "      <th>wealth_segment</th>\n",
       "      <th>deceased_indicator</th>\n",
       "      <th>owns_car</th>\n",
       "      <th>tenure</th>\n",
       "    </tr>\n",
       "  </thead>\n",
       "  <tbody>\n",
       "    <tr>\n",
       "      <th>17840</th>\n",
       "      <td>18192</td>\n",
       "      <td>59</td>\n",
       "      <td>513</td>\n",
       "      <td>2017-01-04</td>\n",
       "      <td>1.0</td>\n",
       "      <td>Approved</td>\n",
       "      <td>Solex</td>\n",
       "      <td>Standard</td>\n",
       "      <td>medium</td>\n",
       "      <td>large</td>\n",
       "      <td>1061.56</td>\n",
       "      <td>733.58</td>\n",
       "      <td>5723 Raven Drive</td>\n",
       "      <td>3126.0</td>\n",
       "      <td>VIC</td>\n",
       "      <td>Australia</td>\n",
       "      <td>12.0</td>\n",
       "      <td>NaN</td>\n",
       "      <td>NaN</td>\n",
       "      <td>NaN</td>\n",
       "      <td>NaN</td>\n",
       "      <td>NaT</td>\n",
       "      <td>NaN</td>\n",
       "      <td>NaN</td>\n",
       "      <td>NaN</td>\n",
       "      <td>NaN</td>\n",
       "      <td>NaN</td>\n",
       "      <td>NaN</td>\n",
       "    </tr>\n",
       "    <tr>\n",
       "      <th>10013</th>\n",
       "      <td>10209</td>\n",
       "      <td>88</td>\n",
       "      <td>2548</td>\n",
       "      <td>2017-10-07</td>\n",
       "      <td>1.0</td>\n",
       "      <td>Approved</td>\n",
       "      <td>Norco Bicycles</td>\n",
       "      <td>Standard</td>\n",
       "      <td>medium</td>\n",
       "      <td>medium</td>\n",
       "      <td>1198.46</td>\n",
       "      <td>381.10</td>\n",
       "      <td>12 Fairfield Parkway</td>\n",
       "      <td>3029.0</td>\n",
       "      <td>VIC</td>\n",
       "      <td>Australia</td>\n",
       "      <td>7.0</td>\n",
       "      <td>NaN</td>\n",
       "      <td>NaN</td>\n",
       "      <td>NaN</td>\n",
       "      <td>NaN</td>\n",
       "      <td>NaT</td>\n",
       "      <td>NaN</td>\n",
       "      <td>NaN</td>\n",
       "      <td>NaN</td>\n",
       "      <td>NaN</td>\n",
       "      <td>NaN</td>\n",
       "      <td>NaN</td>\n",
       "    </tr>\n",
       "    <tr>\n",
       "      <th>5021</th>\n",
       "      <td>5109</td>\n",
       "      <td>70</td>\n",
       "      <td>381</td>\n",
       "      <td>2017-05-07</td>\n",
       "      <td>1.0</td>\n",
       "      <td>Approved</td>\n",
       "      <td>Trek Bicycles</td>\n",
       "      <td>Standard</td>\n",
       "      <td>high</td>\n",
       "      <td>medium</td>\n",
       "      <td>495.72</td>\n",
       "      <td>297.43</td>\n",
       "      <td>010 Namekagon Parkway</td>\n",
       "      <td>2062.0</td>\n",
       "      <td>NSW</td>\n",
       "      <td>Australia</td>\n",
       "      <td>12.0</td>\n",
       "      <td>NaN</td>\n",
       "      <td>NaN</td>\n",
       "      <td>NaN</td>\n",
       "      <td>NaN</td>\n",
       "      <td>NaT</td>\n",
       "      <td>NaN</td>\n",
       "      <td>NaN</td>\n",
       "      <td>NaN</td>\n",
       "      <td>NaN</td>\n",
       "      <td>NaN</td>\n",
       "      <td>NaN</td>\n",
       "    </tr>\n",
       "    <tr>\n",
       "      <th>5858</th>\n",
       "      <td>5960</td>\n",
       "      <td>0</td>\n",
       "      <td>2159</td>\n",
       "      <td>2017-07-11</td>\n",
       "      <td>0.0</td>\n",
       "      <td>Approved</td>\n",
       "      <td>Norco Bicycles</td>\n",
       "      <td>Road</td>\n",
       "      <td>medium</td>\n",
       "      <td>medium</td>\n",
       "      <td>543.39</td>\n",
       "      <td>407.54</td>\n",
       "      <td>1788 Columbus Trail</td>\n",
       "      <td>4510.0</td>\n",
       "      <td>QLD</td>\n",
       "      <td>Australia</td>\n",
       "      <td>4.0</td>\n",
       "      <td>NaN</td>\n",
       "      <td>NaN</td>\n",
       "      <td>NaN</td>\n",
       "      <td>NaN</td>\n",
       "      <td>NaT</td>\n",
       "      <td>NaN</td>\n",
       "      <td>NaN</td>\n",
       "      <td>NaN</td>\n",
       "      <td>NaN</td>\n",
       "      <td>NaN</td>\n",
       "      <td>NaN</td>\n",
       "    </tr>\n",
       "    <tr>\n",
       "      <th>9284</th>\n",
       "      <td>9463</td>\n",
       "      <td>49</td>\n",
       "      <td>1823</td>\n",
       "      <td>2017-04-26</td>\n",
       "      <td>0.0</td>\n",
       "      <td>Approved</td>\n",
       "      <td>Solex</td>\n",
       "      <td>Standard</td>\n",
       "      <td>medium</td>\n",
       "      <td>large</td>\n",
       "      <td>1061.56</td>\n",
       "      <td>733.58</td>\n",
       "      <td>1164 Toban Road</td>\n",
       "      <td>3806.0</td>\n",
       "      <td>VIC</td>\n",
       "      <td>Australia</td>\n",
       "      <td>5.0</td>\n",
       "      <td>NaN</td>\n",
       "      <td>NaN</td>\n",
       "      <td>NaN</td>\n",
       "      <td>NaN</td>\n",
       "      <td>NaT</td>\n",
       "      <td>NaN</td>\n",
       "      <td>NaN</td>\n",
       "      <td>NaN</td>\n",
       "      <td>NaN</td>\n",
       "      <td>NaN</td>\n",
       "      <td>NaN</td>\n",
       "    </tr>\n",
       "  </tbody>\n",
       "</table>\n",
       "</div>"
      ],
      "text/plain": [
       "       transaction_id  product_id  customer_id transaction_date  online_order  \\\n",
       "17840           18192          59          513       2017-01-04           1.0   \n",
       "10013           10209          88         2548       2017-10-07           1.0   \n",
       "5021             5109          70          381       2017-05-07           1.0   \n",
       "5858             5960           0         2159       2017-07-11           0.0   \n",
       "9284             9463          49         1823       2017-04-26           0.0   \n",
       "\n",
       "      order_status           brand product_line product_class product_size  \\\n",
       "17840     Approved           Solex     Standard        medium        large   \n",
       "10013     Approved  Norco Bicycles     Standard        medium       medium   \n",
       "5021      Approved   Trek Bicycles     Standard          high       medium   \n",
       "5858      Approved  Norco Bicycles         Road        medium       medium   \n",
       "9284      Approved           Solex     Standard        medium        large   \n",
       "\n",
       "       list_price  standard_cost                address  postcode state  \\\n",
       "17840     1061.56         733.58       5723 Raven Drive    3126.0   VIC   \n",
       "10013     1198.46         381.10   12 Fairfield Parkway    3029.0   VIC   \n",
       "5021       495.72         297.43  010 Namekagon Parkway    2062.0   NSW   \n",
       "5858       543.39         407.54    1788 Columbus Trail    4510.0   QLD   \n",
       "9284      1061.56         733.58        1164 Toban Road    3806.0   VIC   \n",
       "\n",
       "         country  property_valuation first_name last_name gender  \\\n",
       "17840  Australia                12.0        NaN       NaN    NaN   \n",
       "10013  Australia                 7.0        NaN       NaN    NaN   \n",
       "5021   Australia                12.0        NaN       NaN    NaN   \n",
       "5858   Australia                 4.0        NaN       NaN    NaN   \n",
       "9284   Australia                 5.0        NaN       NaN    NaN   \n",
       "\n",
       "       past_3_years_purchases DOB job_title job_industry_category  \\\n",
       "17840                     NaN NaT       NaN                   NaN   \n",
       "10013                     NaN NaT       NaN                   NaN   \n",
       "5021                      NaN NaT       NaN                   NaN   \n",
       "5858                      NaN NaT       NaN                   NaN   \n",
       "9284                      NaN NaT       NaN                   NaN   \n",
       "\n",
       "      wealth_segment deceased_indicator owns_car  tenure  \n",
       "17840            NaN                NaN      NaN     NaN  \n",
       "10013            NaN                NaN      NaN     NaN  \n",
       "5021             NaN                NaN      NaN     NaN  \n",
       "5858             NaN                NaN      NaN     NaN  \n",
       "9284             NaN                NaN      NaN     NaN  "
      ]
     },
     "execution_count": 46,
     "metadata": {},
     "output_type": "execute_result"
    }
   ],
   "source": [
    "data[data.isna().any(axis=1)].sample(5)"
   ]
  },
  {
   "cell_type": "code",
   "execution_count": 47,
   "metadata": {},
   "outputs": [],
   "source": [
    "# Dropping records with missing values\n",
    "data.dropna(inplace=True)"
   ]
  },
  {
   "cell_type": "code",
   "execution_count": 48,
   "metadata": {},
   "outputs": [
    {
     "data": {
      "text/plain": [
       "(14155, 28)"
      ]
     },
     "execution_count": 48,
     "metadata": {},
     "output_type": "execute_result"
    }
   ],
   "source": [
    "data.shape"
   ]
  },
  {
   "cell_type": "markdown",
   "metadata": {},
   "source": [
    "# Step 2\n",
    "\n",
    "Using the existing 3 datasets (Customer demographic, customer address and transactions) as a labelled dataset, please recommend which of these 1000 new customers should be targeted to drive the most value for the organisation. \n",
    "\n",
    "In building this recommendation, we need to start with a PowerPoint presentation which outlines the approach which we will be taking. The client has agreed on a 3 week scope with the following 3 phases as follows - Data Exploration; Model Development and Interpretation.\n",
    "\n",
    "Prepare a detailed approach for completing the analysis including activities – i.e. understanding the data distributions, feature engineering, data transformations, modelling, results interpretation and reporting. This detailed plan needs to be presented to the client to get a sign-off. Please advise what steps you would take. \n",
    "\n",
    "Please ensure your PowerPoint presentation includes a detailed approach for our strategy behind each of the 3 phases including activities involved in each - i.e. understanding the data distributions, feature engineering, data transformations, modelling, results interpretation and reporting. This detailed plan needs to be presented to the client to get a sign-off.\n",
    "\n",
    "Tips: Raw data fields may be transformed into other calculated fields for modelling purposes (i.e. converting D.O.B to age or age groups). Tips: You may source external data from the ABS / Census to add additional variables that may help support your model. "
   ]
  },
  {
   "cell_type": "code",
   "execution_count": null,
   "metadata": {},
   "outputs": [],
   "source": []
  }
 ],
 "metadata": {
  "kernelspec": {
   "display_name": "pylearn",
   "language": "python",
   "name": "python3"
  },
  "language_info": {
   "codemirror_mode": {
    "name": "ipython",
    "version": 3
   },
   "file_extension": ".py",
   "mimetype": "text/x-python",
   "name": "python",
   "nbconvert_exporter": "python",
   "pygments_lexer": "ipython3",
   "version": "3.11.4"
  },
  "orig_nbformat": 4
 },
 "nbformat": 4,
 "nbformat_minor": 2
}

{
 "cells": [
  {
   "cell_type": "markdown",
   "metadata": {},
   "source": [
    "# KPMG Virtual Internship 1\n",
    "\n",
    "Sprocket Central Pty Ltd is a long-standing KPMG client whom specialises in high-quality bikes and accessible cycling accessories to riders. Their marketing team is looking to boost business by analysing their existing customer dataset to determine customer trends and behaviour. \n",
    "\n",
    "Using the existing 3 datasets (Customer demographic, customer address and transactions) as a labelled dataset, please recommend which of these 1000 new customers should be targeted to drive the most value for the organisation. "
   ]
  },
  {
   "cell_type": "code",
   "execution_count": 180,
   "metadata": {},
   "outputs": [],
   "source": [
    "# Importing Libraries\n",
    "import pandas as pd\n",
    "import matplotlib.pyplot as plt\n",
    "import seaborn as sns\n",
    "import numpy as np\n",
    "\n",
    "%matplotlib inline"
   ]
  },
  {
   "cell_type": "code",
   "execution_count": 181,
   "metadata": {},
   "outputs": [],
   "source": [
    "pd.set_option('display.max_columns', None, 'display.max_rows', None)"
   ]
  },
  {
   "cell_type": "code",
   "execution_count": 182,
   "metadata": {},
   "outputs": [],
   "source": [
    "# Importing datasets\n",
    "transactions = pd.read_excel(\"../KPMG Virtual Internship/KPMG_VI_New_raw_data_update_final.xlsx\", sheet_name='Transactions')\n",
    "customer_address = pd.read_excel(\"../KPMG Virtual Internship/KPMG_VI_New_raw_data_update_final.xlsx\", sheet_name='CustomerAddress')\n",
    "customer_demographic = pd.read_excel(\"../KPMG Virtual Internship/KPMG_VI_New_raw_data_update_final.xlsx\", sheet_name='CustomerDemographic')\n",
    "customer_list = pd.read_excel(\"../KPMG Virtual Internship/KPMG_VI_New_raw_data_update_final.xlsx\", sheet_name='NewCustomerList')\n",
    "\n",
    "# Datasets list\n",
    "Datasets = [transactions, customer_address, customer_demographic]"
   ]
  },
  {
   "cell_type": "markdown",
   "metadata": {},
   "source": [
    "# Data Cleaning"
   ]
  },
  {
   "cell_type": "code",
   "execution_count": 183,
   "metadata": {},
   "outputs": [
    {
     "data": {
      "text/html": [
       "<div>\n",
       "<style scoped>\n",
       "    .dataframe tbody tr th:only-of-type {\n",
       "        vertical-align: middle;\n",
       "    }\n",
       "\n",
       "    .dataframe tbody tr th {\n",
       "        vertical-align: top;\n",
       "    }\n",
       "\n",
       "    .dataframe thead th {\n",
       "        text-align: right;\n",
       "    }\n",
       "</style>\n",
       "<table border=\"1\" class=\"dataframe\">\n",
       "  <thead>\n",
       "    <tr style=\"text-align: right;\">\n",
       "      <th></th>\n",
       "      <th>transaction_id</th>\n",
       "      <th>product_id</th>\n",
       "      <th>customer_id</th>\n",
       "      <th>transaction_date</th>\n",
       "      <th>online_order</th>\n",
       "      <th>order_status</th>\n",
       "      <th>brand</th>\n",
       "      <th>product_line</th>\n",
       "      <th>product_class</th>\n",
       "      <th>product_size</th>\n",
       "      <th>list_price</th>\n",
       "      <th>standard_cost</th>\n",
       "      <th>product_first_sold_date</th>\n",
       "    </tr>\n",
       "  </thead>\n",
       "  <tbody>\n",
       "    <tr>\n",
       "      <th>16586</th>\n",
       "      <td>16587</td>\n",
       "      <td>10</td>\n",
       "      <td>107</td>\n",
       "      <td>2017-04-13</td>\n",
       "      <td>0.0</td>\n",
       "      <td>Approved</td>\n",
       "      <td>WeareA2B</td>\n",
       "      <td>Touring</td>\n",
       "      <td>medium</td>\n",
       "      <td>medium</td>\n",
       "      <td>1466.68</td>\n",
       "      <td>363.25</td>\n",
       "      <td>35378.0</td>\n",
       "    </tr>\n",
       "    <tr>\n",
       "      <th>6163</th>\n",
       "      <td>6164</td>\n",
       "      <td>0</td>\n",
       "      <td>1577</td>\n",
       "      <td>2017-08-30</td>\n",
       "      <td>1.0</td>\n",
       "      <td>Approved</td>\n",
       "      <td>OHM Cycles</td>\n",
       "      <td>Standard</td>\n",
       "      <td>high</td>\n",
       "      <td>medium</td>\n",
       "      <td>227.88</td>\n",
       "      <td>136.73</td>\n",
       "      <td>37659.0</td>\n",
       "    </tr>\n",
       "    <tr>\n",
       "      <th>4718</th>\n",
       "      <td>4719</td>\n",
       "      <td>86</td>\n",
       "      <td>1137</td>\n",
       "      <td>2017-07-16</td>\n",
       "      <td>1.0</td>\n",
       "      <td>Approved</td>\n",
       "      <td>OHM Cycles</td>\n",
       "      <td>Standard</td>\n",
       "      <td>medium</td>\n",
       "      <td>medium</td>\n",
       "      <td>235.63</td>\n",
       "      <td>125.07</td>\n",
       "      <td>38206.0</td>\n",
       "    </tr>\n",
       "    <tr>\n",
       "      <th>18356</th>\n",
       "      <td>18357</td>\n",
       "      <td>0</td>\n",
       "      <td>2559</td>\n",
       "      <td>2017-01-31</td>\n",
       "      <td>0.0</td>\n",
       "      <td>Approved</td>\n",
       "      <td>OHM Cycles</td>\n",
       "      <td>Road</td>\n",
       "      <td>high</td>\n",
       "      <td>large</td>\n",
       "      <td>12.01</td>\n",
       "      <td>7.21</td>\n",
       "      <td>39880.0</td>\n",
       "    </tr>\n",
       "    <tr>\n",
       "      <th>17863</th>\n",
       "      <td>17864</td>\n",
       "      <td>33</td>\n",
       "      <td>2094</td>\n",
       "      <td>2017-08-18</td>\n",
       "      <td>1.0</td>\n",
       "      <td>Approved</td>\n",
       "      <td>Giant Bicycles</td>\n",
       "      <td>Standard</td>\n",
       "      <td>medium</td>\n",
       "      <td>small</td>\n",
       "      <td>1311.44</td>\n",
       "      <td>1167.18</td>\n",
       "      <td>33888.0</td>\n",
       "    </tr>\n",
       "    <tr>\n",
       "      <th>11502</th>\n",
       "      <td>11503</td>\n",
       "      <td>98</td>\n",
       "      <td>1031</td>\n",
       "      <td>2017-06-08</td>\n",
       "      <td>1.0</td>\n",
       "      <td>Cancelled</td>\n",
       "      <td>Trek Bicycles</td>\n",
       "      <td>Standard</td>\n",
       "      <td>high</td>\n",
       "      <td>medium</td>\n",
       "      <td>358.39</td>\n",
       "      <td>215.03</td>\n",
       "      <td>38002.0</td>\n",
       "    </tr>\n",
       "  </tbody>\n",
       "</table>\n",
       "</div>"
      ],
      "text/plain": [
       "       transaction_id  product_id  customer_id transaction_date  online_order  \\\n",
       "16586           16587          10          107       2017-04-13           0.0   \n",
       "6163             6164           0         1577       2017-08-30           1.0   \n",
       "4718             4719          86         1137       2017-07-16           1.0   \n",
       "18356           18357           0         2559       2017-01-31           0.0   \n",
       "17863           17864          33         2094       2017-08-18           1.0   \n",
       "11502           11503          98         1031       2017-06-08           1.0   \n",
       "\n",
       "      order_status           brand product_line product_class product_size  \\\n",
       "16586     Approved        WeareA2B      Touring        medium       medium   \n",
       "6163      Approved      OHM Cycles     Standard          high       medium   \n",
       "4718      Approved      OHM Cycles     Standard        medium       medium   \n",
       "18356     Approved      OHM Cycles         Road          high        large   \n",
       "17863     Approved  Giant Bicycles     Standard        medium        small   \n",
       "11502    Cancelled   Trek Bicycles     Standard          high       medium   \n",
       "\n",
       "       list_price  standard_cost  product_first_sold_date  \n",
       "16586     1466.68         363.25                  35378.0  \n",
       "6163       227.88         136.73                  37659.0  \n",
       "4718       235.63         125.07                  38206.0  \n",
       "18356       12.01           7.21                  39880.0  \n",
       "17863     1311.44        1167.18                  33888.0  \n",
       "11502      358.39         215.03                  38002.0  "
      ]
     },
     "execution_count": 183,
     "metadata": {},
     "output_type": "execute_result"
    }
   ],
   "source": [
    "transactions.sample(6)  # Transactions"
   ]
  },
  {
   "cell_type": "code",
   "execution_count": 184,
   "metadata": {},
   "outputs": [
    {
     "data": {
      "text/html": [
       "<div>\n",
       "<style scoped>\n",
       "    .dataframe tbody tr th:only-of-type {\n",
       "        vertical-align: middle;\n",
       "    }\n",
       "\n",
       "    .dataframe tbody tr th {\n",
       "        vertical-align: top;\n",
       "    }\n",
       "\n",
       "    .dataframe thead th {\n",
       "        text-align: right;\n",
       "    }\n",
       "</style>\n",
       "<table border=\"1\" class=\"dataframe\">\n",
       "  <thead>\n",
       "    <tr style=\"text-align: right;\">\n",
       "      <th></th>\n",
       "      <th>customer_id</th>\n",
       "      <th>address</th>\n",
       "      <th>postcode</th>\n",
       "      <th>state</th>\n",
       "      <th>country</th>\n",
       "      <th>property_valuation</th>\n",
       "    </tr>\n",
       "  </thead>\n",
       "  <tbody>\n",
       "    <tr>\n",
       "      <th>3064</th>\n",
       "      <td>3069</td>\n",
       "      <td>4351 Maywood Hill</td>\n",
       "      <td>3551</td>\n",
       "      <td>VIC</td>\n",
       "      <td>Australia</td>\n",
       "      <td>4</td>\n",
       "    </tr>\n",
       "    <tr>\n",
       "      <th>3442</th>\n",
       "      <td>3447</td>\n",
       "      <td>82591 Fallview Hill</td>\n",
       "      <td>3021</td>\n",
       "      <td>VIC</td>\n",
       "      <td>Australia</td>\n",
       "      <td>8</td>\n",
       "    </tr>\n",
       "    <tr>\n",
       "      <th>2743</th>\n",
       "      <td>2748</td>\n",
       "      <td>4320 Toban Avenue</td>\n",
       "      <td>2260</td>\n",
       "      <td>NSW</td>\n",
       "      <td>Australia</td>\n",
       "      <td>11</td>\n",
       "    </tr>\n",
       "    <tr>\n",
       "      <th>2992</th>\n",
       "      <td>2997</td>\n",
       "      <td>09 Texas Plaza</td>\n",
       "      <td>4285</td>\n",
       "      <td>QLD</td>\n",
       "      <td>Australia</td>\n",
       "      <td>3</td>\n",
       "    </tr>\n",
       "    <tr>\n",
       "      <th>1585</th>\n",
       "      <td>1590</td>\n",
       "      <td>5 Elgar Place</td>\n",
       "      <td>4132</td>\n",
       "      <td>QLD</td>\n",
       "      <td>Australia</td>\n",
       "      <td>5</td>\n",
       "    </tr>\n",
       "    <tr>\n",
       "      <th>2828</th>\n",
       "      <td>2833</td>\n",
       "      <td>2038 Esker Road</td>\n",
       "      <td>2650</td>\n",
       "      <td>NSW</td>\n",
       "      <td>Australia</td>\n",
       "      <td>4</td>\n",
       "    </tr>\n",
       "  </tbody>\n",
       "</table>\n",
       "</div>"
      ],
      "text/plain": [
       "      customer_id              address  postcode state    country  \\\n",
       "3064         3069    4351 Maywood Hill      3551   VIC  Australia   \n",
       "3442         3447  82591 Fallview Hill      3021   VIC  Australia   \n",
       "2743         2748    4320 Toban Avenue      2260   NSW  Australia   \n",
       "2992         2997       09 Texas Plaza      4285   QLD  Australia   \n",
       "1585         1590        5 Elgar Place      4132   QLD  Australia   \n",
       "2828         2833      2038 Esker Road      2650   NSW  Australia   \n",
       "\n",
       "      property_valuation  \n",
       "3064                   4  \n",
       "3442                   8  \n",
       "2743                  11  \n",
       "2992                   3  \n",
       "1585                   5  \n",
       "2828                   4  "
      ]
     },
     "execution_count": 184,
     "metadata": {},
     "output_type": "execute_result"
    }
   ],
   "source": [
    "customer_address.sample(6)"
   ]
  },
  {
   "cell_type": "code",
   "execution_count": 185,
   "metadata": {},
   "outputs": [
    {
     "data": {
      "text/html": [
       "<div>\n",
       "<style scoped>\n",
       "    .dataframe tbody tr th:only-of-type {\n",
       "        vertical-align: middle;\n",
       "    }\n",
       "\n",
       "    .dataframe tbody tr th {\n",
       "        vertical-align: top;\n",
       "    }\n",
       "\n",
       "    .dataframe thead th {\n",
       "        text-align: right;\n",
       "    }\n",
       "</style>\n",
       "<table border=\"1\" class=\"dataframe\">\n",
       "  <thead>\n",
       "    <tr style=\"text-align: right;\">\n",
       "      <th></th>\n",
       "      <th>customer_id</th>\n",
       "      <th>first_name</th>\n",
       "      <th>last_name</th>\n",
       "      <th>gender</th>\n",
       "      <th>past_3_years_bike_related_purchases</th>\n",
       "      <th>DOB</th>\n",
       "      <th>job_title</th>\n",
       "      <th>job_industry_category</th>\n",
       "      <th>wealth_segment</th>\n",
       "      <th>deceased_indicator</th>\n",
       "      <th>default</th>\n",
       "      <th>owns_car</th>\n",
       "      <th>tenure</th>\n",
       "    </tr>\n",
       "  </thead>\n",
       "  <tbody>\n",
       "    <tr>\n",
       "      <th>1960</th>\n",
       "      <td>1961</td>\n",
       "      <td>Licha</td>\n",
       "      <td>Lyes</td>\n",
       "      <td>Female</td>\n",
       "      <td>10</td>\n",
       "      <td>1960-11-22 00:00:00</td>\n",
       "      <td>Physical Therapy Assistant</td>\n",
       "      <td>NaN</td>\n",
       "      <td>Mass Customer</td>\n",
       "      <td>N</td>\n",
       "      <td>ç¤¾æç§å­¸é¢èªå­¸ç ç©¶æ</td>\n",
       "      <td>Yes</td>\n",
       "      <td>15.0</td>\n",
       "    </tr>\n",
       "    <tr>\n",
       "      <th>2182</th>\n",
       "      <td>2183</td>\n",
       "      <td>Jillie</td>\n",
       "      <td>Fyndon</td>\n",
       "      <td>Female</td>\n",
       "      <td>61</td>\n",
       "      <td>1972-02-07 00:00:00</td>\n",
       "      <td>Programmer Analyst IV</td>\n",
       "      <td>Manufacturing</td>\n",
       "      <td>Mass Customer</td>\n",
       "      <td>N</td>\n",
       "      <td>ï¼ï¼ï¼</td>\n",
       "      <td>Yes</td>\n",
       "      <td>7.0</td>\n",
       "    </tr>\n",
       "    <tr>\n",
       "      <th>2679</th>\n",
       "      <td>2680</td>\n",
       "      <td>Noella</td>\n",
       "      <td>Firk</td>\n",
       "      <td>Female</td>\n",
       "      <td>0</td>\n",
       "      <td>1959-05-11 00:00:00</td>\n",
       "      <td>Financial Analyst</td>\n",
       "      <td>Financial Services</td>\n",
       "      <td>Mass Customer</td>\n",
       "      <td>N</td>\n",
       "      <td>../../../../../../../../../../../etc/passwd%00</td>\n",
       "      <td>Yes</td>\n",
       "      <td>14.0</td>\n",
       "    </tr>\n",
       "    <tr>\n",
       "      <th>2011</th>\n",
       "      <td>2012</td>\n",
       "      <td>Maisey</td>\n",
       "      <td>Lavell</td>\n",
       "      <td>Female</td>\n",
       "      <td>55</td>\n",
       "      <td>1972-09-07 00:00:00</td>\n",
       "      <td>Health Coach I</td>\n",
       "      <td>Health</td>\n",
       "      <td>High Net Worth</td>\n",
       "      <td>N</td>\n",
       "      <td>__ï¾(,_,*)</td>\n",
       "      <td>No</td>\n",
       "      <td>4.0</td>\n",
       "    </tr>\n",
       "    <tr>\n",
       "      <th>716</th>\n",
       "      <td>717</td>\n",
       "      <td>Basilius</td>\n",
       "      <td>Spieck</td>\n",
       "      <td>Male</td>\n",
       "      <td>65</td>\n",
       "      <td>1976-11-20 00:00:00</td>\n",
       "      <td>VP Product Management</td>\n",
       "      <td>Manufacturing</td>\n",
       "      <td>Mass Customer</td>\n",
       "      <td>N</td>\n",
       "      <td>''''\"</td>\n",
       "      <td>Yes</td>\n",
       "      <td>11.0</td>\n",
       "    </tr>\n",
       "    <tr>\n",
       "      <th>384</th>\n",
       "      <td>385</td>\n",
       "      <td>Kendall</td>\n",
       "      <td>Humes</td>\n",
       "      <td>Male</td>\n",
       "      <td>69</td>\n",
       "      <td>1966-12-07 00:00:00</td>\n",
       "      <td>Project Manager</td>\n",
       "      <td>Health</td>\n",
       "      <td>High Net Worth</td>\n",
       "      <td>N</td>\n",
       "      <td>â</td>\n",
       "      <td>No</td>\n",
       "      <td>9.0</td>\n",
       "    </tr>\n",
       "  </tbody>\n",
       "</table>\n",
       "</div>"
      ],
      "text/plain": [
       "      customer_id first_name last_name  gender  \\\n",
       "1960         1961      Licha      Lyes  Female   \n",
       "2182         2183     Jillie    Fyndon  Female   \n",
       "2679         2680     Noella      Firk  Female   \n",
       "2011         2012     Maisey    Lavell  Female   \n",
       "716           717   Basilius    Spieck    Male   \n",
       "384           385    Kendall     Humes    Male   \n",
       "\n",
       "      past_3_years_bike_related_purchases                  DOB  \\\n",
       "1960                                   10  1960-11-22 00:00:00   \n",
       "2182                                   61  1972-02-07 00:00:00   \n",
       "2679                                    0  1959-05-11 00:00:00   \n",
       "2011                                   55  1972-09-07 00:00:00   \n",
       "716                                    65  1976-11-20 00:00:00   \n",
       "384                                    69  1966-12-07 00:00:00   \n",
       "\n",
       "                       job_title job_industry_category  wealth_segment  \\\n",
       "1960  Physical Therapy Assistant                   NaN   Mass Customer   \n",
       "2182       Programmer Analyst IV         Manufacturing   Mass Customer   \n",
       "2679           Financial Analyst    Financial Services   Mass Customer   \n",
       "2011              Health Coach I                Health  High Net Worth   \n",
       "716        VP Product Management         Manufacturing   Mass Customer   \n",
       "384              Project Manager                Health  High Net Worth   \n",
       "\n",
       "     deceased_indicator                                         default  \\\n",
       "1960                  N                          ç¤¾æç§å­¸é¢èªå­¸ç ç©¶æ   \n",
       "2182                  N                                          ï¼ï¼ï¼   \n",
       "2679                  N  ../../../../../../../../../../../etc/passwd%00   \n",
       "2011                  N                                      __ï¾(,_,*)   \n",
       "716                   N                                           ''''\"   \n",
       "384                   N                                               â   \n",
       "\n",
       "     owns_car  tenure  \n",
       "1960      Yes    15.0  \n",
       "2182      Yes     7.0  \n",
       "2679      Yes    14.0  \n",
       "2011       No     4.0  \n",
       "716       Yes    11.0  \n",
       "384        No     9.0  "
      ]
     },
     "execution_count": 185,
     "metadata": {},
     "output_type": "execute_result"
    }
   ],
   "source": [
    "customer_demographic.sample(6)"
   ]
  },
  {
   "cell_type": "code",
   "execution_count": 186,
   "metadata": {},
   "outputs": [],
   "source": [
    "# for _ in Datasets:\n",
    "#     print(_.info())"
   ]
  },
  {
   "cell_type": "code",
   "execution_count": 187,
   "metadata": {},
   "outputs": [],
   "source": [
    "customer_demographic.rename({'past_3_years_bike_related_purchases': 'past_3_years_purchases'}, axis=1, inplace=True)"
   ]
  },
  {
   "cell_type": "markdown",
   "metadata": {},
   "source": [
    "Customer ID can be used to join the data.\n",
    "\n",
    "Columns of concern:\n",
    "- transactions['product_first_sold_date']\n",
    "- customer_demographic['default']\n",
    "- customer_demographic['DOB'] should be datetime format"
   ]
  },
  {
   "cell_type": "code",
   "execution_count": 188,
   "metadata": {},
   "outputs": [],
   "source": [
    "customer_demographic['DOB'] = pd.to_datetime(customer_demographic['DOB'])"
   ]
  },
  {
   "cell_type": "code",
   "execution_count": 189,
   "metadata": {},
   "outputs": [
    {
     "data": {
      "text/plain": [
       "2784     38193.0\n",
       "18236    40618.0\n",
       "4785     34170.0\n",
       "353      41533.0\n",
       "15986    42226.0\n",
       "8297         NaN\n",
       "1983     35052.0\n",
       "7465     37823.0\n",
       "11267    38859.0\n",
       "19501    37626.0\n",
       "Name: product_first_sold_date, dtype: float64"
      ]
     },
     "execution_count": 189,
     "metadata": {},
     "output_type": "execute_result"
    }
   ],
   "source": [
    "transactions['product_first_sold_date'].sample(10)"
   ]
  },
  {
   "cell_type": "code",
   "execution_count": 190,
   "metadata": {},
   "outputs": [
    {
     "data": {
      "text/plain": [
       "3055                     -1\n",
       "1926       ð¾ ð ð ð ð ð ð ð\n",
       "2109                      1\n",
       "3076              â°â´âµâââ\n",
       "2751             !@#$%^&*()\n",
       "1876                      '\n",
       "1939                      1\n",
       "3571    2018-02-01 00:00:00\n",
       "3017                     â¡\n",
       "3430     ÅâÂ´Â®â Â¥Â¨ËÃ¸Ïââ\n",
       "Name: default, dtype: object"
      ]
     },
     "execution_count": 190,
     "metadata": {},
     "output_type": "execute_result"
    }
   ],
   "source": [
    "customer_demographic['default'].sample(10)"
   ]
  },
  {
   "cell_type": "code",
   "execution_count": 191,
   "metadata": {},
   "outputs": [],
   "source": [
    "transactions.drop('product_first_sold_date', axis=1, inplace=True)\n",
    "customer_demographic.drop('default', axis=1, inplace=True)"
   ]
  },
  {
   "cell_type": "markdown",
   "metadata": {},
   "source": [
    "## Nan Values Check"
   ]
  },
  {
   "cell_type": "code",
   "execution_count": 192,
   "metadata": {},
   "outputs": [
    {
     "data": {
      "text/plain": [
       "transaction_id      0.000\n",
       "product_id          0.000\n",
       "customer_id         0.000\n",
       "transaction_date    0.000\n",
       "online_order        1.800\n",
       "order_status        0.000\n",
       "brand               0.985\n",
       "product_line        0.985\n",
       "product_class       0.985\n",
       "product_size        0.985\n",
       "list_price          0.000\n",
       "standard_cost       0.985\n",
       "dtype: float64"
      ]
     },
     "execution_count": 192,
     "metadata": {},
     "output_type": "execute_result"
    }
   ],
   "source": [
    "transactions.isna().sum() / transactions.shape[0] * 100"
   ]
  },
  {
   "cell_type": "code",
   "execution_count": 193,
   "metadata": {},
   "outputs": [
    {
     "data": {
      "text/plain": [
       "customer_id           0.0\n",
       "address               0.0\n",
       "postcode              0.0\n",
       "state                 0.0\n",
       "country               0.0\n",
       "property_valuation    0.0\n",
       "dtype: float64"
      ]
     },
     "execution_count": 193,
     "metadata": {},
     "output_type": "execute_result"
    }
   ],
   "source": [
    "customer_address.isna().sum() / customer_address.shape[0] * 100"
   ]
  },
  {
   "cell_type": "code",
   "execution_count": 194,
   "metadata": {},
   "outputs": [
    {
     "data": {
      "text/plain": [
       "customer_id                0.000\n",
       "first_name                 0.000\n",
       "last_name                  3.125\n",
       "gender                     0.000\n",
       "past_3_years_purchases     0.000\n",
       "DOB                        2.175\n",
       "job_title                 12.650\n",
       "job_industry_category     16.400\n",
       "wealth_segment             0.000\n",
       "deceased_indicator         0.000\n",
       "owns_car                   0.000\n",
       "tenure                     2.175\n",
       "dtype: float64"
      ]
     },
     "execution_count": 194,
     "metadata": {},
     "output_type": "execute_result"
    }
   ],
   "source": [
    "customer_demographic.isna().sum() / customer_demographic.shape[0] * 100"
   ]
  },
  {
   "cell_type": "markdown",
   "metadata": {},
   "source": [
    "Transactions Data\n",
    "\n",
    "- Brand and product related columns are difficult to fill considering the sensitivity of this information to the analysis. Therefore missing values will be dropped\n",
    "\n",
    "Customer Address Data has no missing values\n",
    "\n",
    "Customer Demographic \n",
    "\n",
    "- job related columns have a sizeable number of missing values and are sensitive to the analysis\n",
    "  - Consider dropping them since only about ~ 500 values are missing leaving > 3500 records\n",
    "- DOB values should also be dropped"
   ]
  },
  {
   "cell_type": "code",
   "execution_count": 195,
   "metadata": {},
   "outputs": [],
   "source": [
    "transactions.dropna(subset=['brand', 'product_class', 'product_line', 'product_size'], inplace=True)\n",
    "customer_demographic.dropna(subset=['job_title', 'job_industry_category', 'DOB'], inplace=True)"
   ]
  },
  {
   "cell_type": "code",
   "execution_count": 196,
   "metadata": {},
   "outputs": [],
   "source": [
    "# for df in Datasets:\n",
    "#     print(df.info())"
   ]
  },
  {
   "cell_type": "markdown",
   "metadata": {},
   "source": [
    "Transactions\n",
    "\n",
    "- Numeric = transaction_id, product_id, customer_id, online_order, list_price, standard_cost\n",
    "- Datetime = transaction_date\n",
    "- Object = order_status, brand, product_line, product_class, product_size\n",
    "\n",
    "Customer Address\n",
    "- Numeric = customer_id, postcode, property_valuation\n",
    "- object = address, state, country\n",
    "\n",
    "Customer Demographic\n",
    "- Numeric = customer_id, past_3_years_purchases, tenure\n",
    "- Datetime = DOB\n",
    "- Object = first_name, last_name, gender, job_title, job_industry_category, wealth_segment, deceased_indicator"
   ]
  },
  {
   "cell_type": "code",
   "execution_count": 197,
   "metadata": {},
   "outputs": [
    {
     "data": {
      "text/plain": [
       "online_order\n",
       "1.0    9739\n",
       "0.0    9706\n",
       "Name: count, dtype: int64"
      ]
     },
     "execution_count": 197,
     "metadata": {},
     "output_type": "execute_result"
    }
   ],
   "source": [
    "transactions['online_order'].value_counts()"
   ]
  },
  {
   "cell_type": "markdown",
   "metadata": {},
   "source": [
    "Since there is a balance of classes in online_order, filling with ffill or bfill is a better method. Also renaming Nan last_names to unknown to preserve the data."
   ]
  },
  {
   "cell_type": "code",
   "execution_count": 198,
   "metadata": {},
   "outputs": [],
   "source": [
    "transactions['online_order'].fillna(method='ffill', inplace=True)"
   ]
  },
  {
   "cell_type": "code",
   "execution_count": 199,
   "metadata": {},
   "outputs": [],
   "source": [
    "customer_demographic['last_name'].fillna(value='Unknown', inplace=True)"
   ]
  },
  {
   "cell_type": "markdown",
   "metadata": {},
   "source": [
    "## Outliers Check"
   ]
  },
  {
   "cell_type": "code",
   "execution_count": 200,
   "metadata": {},
   "outputs": [],
   "source": [
    "num_transactions = ['list_price', 'standard_cost', 'transaction_date']\n",
    "num_address = ['property_valuation']\n",
    "num_demographic = ['DOB', 'past_3_years_purchases', 'tenure']"
   ]
  },
  {
   "cell_type": "code",
   "execution_count": 201,
   "metadata": {},
   "outputs": [
    {
     "data": {
      "image/png": "[encoded data removed]",
      "text/plain": [
       "<Figure size 640x480 with 1 Axes>"
      ]
     },
     "metadata": {},
     "output_type": "display_data"
    }
   ],
   "source": [
    "transactions[num_transactions].boxplot();"
   ]
  },
  {
   "cell_type": "code",
   "execution_count": 202,
   "metadata": {},
   "outputs": [
    {
     "data": {
      "image/png": "[encoded data removed]",
      "text/plain": [
       "<Figure size 640x480 with 1 Axes>"
      ]
     },
     "metadata": {},
     "output_type": "display_data"
    }
   ],
   "source": [
    "customer_address[num_address].boxplot();"
   ]
  },
  {
   "cell_type": "code",
   "execution_count": 203,
   "metadata": {},
   "outputs": [
    {
     "data": {
      "image/png": "[encoded data removed]",
      "text/plain": [
       "<Figure size 640x480 with 1 Axes>"
      ]
     },
     "metadata": {},
     "output_type": "display_data"
    }
   ],
   "source": [
    "customer_demographic[num_demographic].boxplot();"
   ]
  },
  {
   "cell_type": "markdown",
   "metadata": {},
   "source": [
    "There is an outlier in transactions dataset's standard_cost"
   ]
  },
  {
   "cell_type": "code",
   "execution_count": 204,
   "metadata": {},
   "outputs": [],
   "source": [
    "# Fuction for removing outliers\n",
    "def filter_outliers(df, column):\n",
    "    Q1 = df[column].quantile(q=0.25)\n",
    "    Q3 = df[column].quantile(q=0.75)\n",
    "\n",
    "    IQR = Q3 - Q1\n",
    "\n",
    "    lower_limit = Q1 - 1.5 * IQR\n",
    "    \n",
    "    upper_limit = Q3 + 1.5 * IQR\n",
    "\n",
    "    return (df[column] < lower_limit) | (df[column] > upper_limit)"
   ]
  },
  {
   "cell_type": "code",
   "execution_count": 205,
   "metadata": {},
   "outputs": [],
   "source": [
    "# Removing outliers in transactions\n",
    "transactions_mask = filter_outliers(transactions, 'standard_cost')\n",
    "transactions = transactions[~transactions_mask]"
   ]
  },
  {
   "cell_type": "code",
   "execution_count": 206,
   "metadata": {},
   "outputs": [
    {
     "data": {
      "text/plain": [
       "min   2017-01-01\n",
       "max   2017-12-30\n",
       "Name: transaction_date, dtype: datetime64[ns]"
      ]
     },
     "execution_count": 206,
     "metadata": {},
     "output_type": "execute_result"
    }
   ],
   "source": [
    "transactions['transaction_date'].agg(['min', 'max'])"
   ]
  },
  {
   "cell_type": "code",
   "execution_count": 207,
   "metadata": {},
   "outputs": [
    {
     "data": {
      "text/plain": [
       "min   1843-12-21\n",
       "max   2002-03-11\n",
       "Name: DOB, dtype: datetime64[ns]"
      ]
     },
     "execution_count": 207,
     "metadata": {},
     "output_type": "execute_result"
    }
   ],
   "source": [
    "customer_demographic['DOB'].agg(['min', 'max'])"
   ]
  },
  {
   "cell_type": "code",
   "execution_count": 208,
   "metadata": {},
   "outputs": [],
   "source": [
    "# Dropping 1843-12-21 00:00:00 value\n",
    "customer_demographic = customer_demographic[~(customer_demographic['DOB'] == '1843-12-21 00:00:00')].copy()"
   ]
  },
  {
   "cell_type": "markdown",
   "metadata": {},
   "source": [
    "## Object columns Exploration & Cleaning"
   ]
  },
  {
   "cell_type": "code",
   "execution_count": 209,
   "metadata": {},
   "outputs": [],
   "source": [
    "obj_transactions = ['order_status', 'brand', 'product_line', 'product_class', 'product_size'] \n",
    "obj_address = ['address', 'state', 'country']\n",
    "obj_demographic = ['first_name', 'last_name', 'gender', 'job_title', 'job_industry_category', 'wealth_segment', 'deceased_indicator']"
   ]
  },
  {
   "cell_type": "code",
   "execution_count": 210,
   "metadata": {},
   "outputs": [],
   "source": [
    "# for col in obj_transactions:\n",
    "#     print(transactions[col].value_counts(), '\\n')"
   ]
  },
  {
   "cell_type": "code",
   "execution_count": 211,
   "metadata": {},
   "outputs": [],
   "source": [
    "# for col in obj_address:\n",
    "#     print(customer_address[col].value_counts(), '\\n')"
   ]
  },
  {
   "cell_type": "code",
   "execution_count": 212,
   "metadata": {},
   "outputs": [],
   "source": [
    "# for col in obj_demographic:\n",
    "#     print(customer_demographic[col].value_counts(), '\\n')"
   ]
  },
  {
   "cell_type": "markdown",
   "metadata": {},
   "source": [
    "Transactions has no errors in recording\n",
    "\n",
    "Customer Address state column has some errors (new south wales instead of NSW and Victoria instead of VIC)\n",
    "\n",
    "Customer Demographic gender column has errors (F and Femal instead of Female)"
   ]
  },
  {
   "cell_type": "code",
   "execution_count": 213,
   "metadata": {},
   "outputs": [],
   "source": [
    "customer_address['state'].replace({'New South Wales': 'NSW', 'Victoria': 'VIC'}, inplace=True)\n",
    "customer_demographic['gender'].replace({'Femal': 'Female', 'F': 'Female'}, inplace=True)"
   ]
  },
  {
   "cell_type": "code",
   "execution_count": 214,
   "metadata": {},
   "outputs": [],
   "source": [
    "# for _ in Datasets:\n",
    "#     print(_.info())"
   ]
  },
  {
   "cell_type": "markdown",
   "metadata": {},
   "source": [
    "# Joining the datasets\n",
    "\n",
    "The other datasets will be merged into the transactions dataset using the customer_id column."
   ]
  },
  {
   "cell_type": "code",
   "execution_count": 215,
   "metadata": {},
   "outputs": [
    {
     "name": "stdout",
     "output_type": "stream",
     "text": [
      "3494\n",
      "3999\n",
      "2865\n"
     ]
    }
   ],
   "source": [
    "for _ in Datasets:\n",
    "    print(_['customer_id'].nunique())"
   ]
  },
  {
   "cell_type": "markdown",
   "metadata": {},
   "source": [
    "The customer id total records are not equal in number in the datasets."
   ]
  },
  {
   "cell_type": "code",
   "execution_count": 216,
   "metadata": {},
   "outputs": [],
   "source": [
    "# Joining the datasets\n",
    "data = transactions.merge(customer_address, on='customer_id', how='left', suffixes=('_transactions', '_address')).merge(customer_demographic, on='customer_id', how='left', suffixes=('_address', '_demographic'))"
   ]
  },
  {
   "cell_type": "code",
   "execution_count": 217,
   "metadata": {},
   "outputs": [
    {
     "data": {
      "text/html": [
       "<div>\n",
       "<style scoped>\n",
       "    .dataframe tbody tr th:only-of-type {\n",
       "        vertical-align: middle;\n",
       "    }\n",
       "\n",
       "    .dataframe tbody tr th {\n",
       "        vertical-align: top;\n",
       "    }\n",
       "\n",
       "    .dataframe thead th {\n",
       "        text-align: right;\n",
       "    }\n",
       "</style>\n",
       "<table border=\"1\" class=\"dataframe\">\n",
       "  <thead>\n",
       "    <tr style=\"text-align: right;\">\n",
       "      <th></th>\n",
       "      <th>transaction_id</th>\n",
       "      <th>product_id</th>\n",
       "      <th>customer_id</th>\n",
       "      <th>transaction_date</th>\n",
       "      <th>online_order</th>\n",
       "      <th>order_status</th>\n",
       "      <th>brand</th>\n",
       "      <th>product_line</th>\n",
       "      <th>product_class</th>\n",
       "      <th>product_size</th>\n",
       "      <th>list_price</th>\n",
       "      <th>standard_cost</th>\n",
       "      <th>address</th>\n",
       "      <th>postcode</th>\n",
       "      <th>state</th>\n",
       "      <th>country</th>\n",
       "      <th>property_valuation</th>\n",
       "      <th>first_name</th>\n",
       "      <th>last_name</th>\n",
       "      <th>gender</th>\n",
       "      <th>past_3_years_purchases</th>\n",
       "      <th>DOB</th>\n",
       "      <th>job_title</th>\n",
       "      <th>job_industry_category</th>\n",
       "      <th>wealth_segment</th>\n",
       "      <th>deceased_indicator</th>\n",
       "      <th>owns_car</th>\n",
       "      <th>tenure</th>\n",
       "    </tr>\n",
       "  </thead>\n",
       "  <tbody>\n",
       "    <tr>\n",
       "      <th>15160</th>\n",
       "      <td>15457</td>\n",
       "      <td>98</td>\n",
       "      <td>3133</td>\n",
       "      <td>2017-03-13</td>\n",
       "      <td>0.0</td>\n",
       "      <td>Approved</td>\n",
       "      <td>Trek Bicycles</td>\n",
       "      <td>Standard</td>\n",
       "      <td>high</td>\n",
       "      <td>medium</td>\n",
       "      <td>358.39</td>\n",
       "      <td>215.03</td>\n",
       "      <td>21 2nd Pass</td>\n",
       "      <td>2566.0</td>\n",
       "      <td>NSW</td>\n",
       "      <td>Australia</td>\n",
       "      <td>8.0</td>\n",
       "      <td>Eda</td>\n",
       "      <td>MacCheyne</td>\n",
       "      <td>Female</td>\n",
       "      <td>89.0</td>\n",
       "      <td>1999-05-10</td>\n",
       "      <td>Quality Control Specialist</td>\n",
       "      <td>Manufacturing</td>\n",
       "      <td>Mass Customer</td>\n",
       "      <td>N</td>\n",
       "      <td>No</td>\n",
       "      <td>2.0</td>\n",
       "    </tr>\n",
       "    <tr>\n",
       "      <th>5783</th>\n",
       "      <td>5885</td>\n",
       "      <td>88</td>\n",
       "      <td>1118</td>\n",
       "      <td>2017-07-10</td>\n",
       "      <td>0.0</td>\n",
       "      <td>Approved</td>\n",
       "      <td>Norco Bicycles</td>\n",
       "      <td>Standard</td>\n",
       "      <td>medium</td>\n",
       "      <td>medium</td>\n",
       "      <td>1198.46</td>\n",
       "      <td>381.10</td>\n",
       "      <td>20519 Katie Circle</td>\n",
       "      <td>2152.0</td>\n",
       "      <td>NSW</td>\n",
       "      <td>Australia</td>\n",
       "      <td>8.0</td>\n",
       "      <td>Colline</td>\n",
       "      <td>Coulman</td>\n",
       "      <td>Female</td>\n",
       "      <td>95.0</td>\n",
       "      <td>1975-12-19</td>\n",
       "      <td>Sales Representative</td>\n",
       "      <td>Retail</td>\n",
       "      <td>Mass Customer</td>\n",
       "      <td>N</td>\n",
       "      <td>Yes</td>\n",
       "      <td>9.0</td>\n",
       "    </tr>\n",
       "    <tr>\n",
       "      <th>16521</th>\n",
       "      <td>16843</td>\n",
       "      <td>25</td>\n",
       "      <td>132</td>\n",
       "      <td>2017-03-11</td>\n",
       "      <td>1.0</td>\n",
       "      <td>Approved</td>\n",
       "      <td>Giant Bicycles</td>\n",
       "      <td>Road</td>\n",
       "      <td>medium</td>\n",
       "      <td>medium</td>\n",
       "      <td>1538.99</td>\n",
       "      <td>829.65</td>\n",
       "      <td>12306 Lawn Street</td>\n",
       "      <td>2145.0</td>\n",
       "      <td>NSW</td>\n",
       "      <td>Australia</td>\n",
       "      <td>8.0</td>\n",
       "      <td>Celesta</td>\n",
       "      <td>Willavoys</td>\n",
       "      <td>Female</td>\n",
       "      <td>5.0</td>\n",
       "      <td>1963-07-07</td>\n",
       "      <td>Web Designer I</td>\n",
       "      <td>Manufacturing</td>\n",
       "      <td>Mass Customer</td>\n",
       "      <td>N</td>\n",
       "      <td>Yes</td>\n",
       "      <td>9.0</td>\n",
       "    </tr>\n",
       "    <tr>\n",
       "      <th>5623</th>\n",
       "      <td>5720</td>\n",
       "      <td>59</td>\n",
       "      <td>2150</td>\n",
       "      <td>2017-09-19</td>\n",
       "      <td>0.0</td>\n",
       "      <td>Approved</td>\n",
       "      <td>Solex</td>\n",
       "      <td>Standard</td>\n",
       "      <td>medium</td>\n",
       "      <td>large</td>\n",
       "      <td>1061.56</td>\n",
       "      <td>733.58</td>\n",
       "      <td>59694 1st Crossing</td>\n",
       "      <td>4503.0</td>\n",
       "      <td>QLD</td>\n",
       "      <td>Australia</td>\n",
       "      <td>7.0</td>\n",
       "      <td>NaN</td>\n",
       "      <td>NaN</td>\n",
       "      <td>NaN</td>\n",
       "      <td>NaN</td>\n",
       "      <td>NaT</td>\n",
       "      <td>NaN</td>\n",
       "      <td>NaN</td>\n",
       "      <td>NaN</td>\n",
       "      <td>NaN</td>\n",
       "      <td>NaN</td>\n",
       "      <td>NaN</td>\n",
       "    </tr>\n",
       "    <tr>\n",
       "      <th>995</th>\n",
       "      <td>1013</td>\n",
       "      <td>64</td>\n",
       "      <td>233</td>\n",
       "      <td>2017-05-29</td>\n",
       "      <td>1.0</td>\n",
       "      <td>Approved</td>\n",
       "      <td>Trek Bicycles</td>\n",
       "      <td>Standard</td>\n",
       "      <td>medium</td>\n",
       "      <td>large</td>\n",
       "      <td>1469.44</td>\n",
       "      <td>596.55</td>\n",
       "      <td>2 Northridge Street</td>\n",
       "      <td>2508.0</td>\n",
       "      <td>NSW</td>\n",
       "      <td>Australia</td>\n",
       "      <td>10.0</td>\n",
       "      <td>Art</td>\n",
       "      <td>Barwell</td>\n",
       "      <td>Male</td>\n",
       "      <td>34.0</td>\n",
       "      <td>1986-08-08</td>\n",
       "      <td>Environmental Tech</td>\n",
       "      <td>Property</td>\n",
       "      <td>Mass Customer</td>\n",
       "      <td>N</td>\n",
       "      <td>No</td>\n",
       "      <td>13.0</td>\n",
       "    </tr>\n",
       "  </tbody>\n",
       "</table>\n",
       "</div>"
      ],
      "text/plain": [
       "       transaction_id  product_id  customer_id transaction_date  online_order  \\\n",
       "15160           15457          98         3133       2017-03-13           0.0   \n",
       "5783             5885          88         1118       2017-07-10           0.0   \n",
       "16521           16843          25          132       2017-03-11           1.0   \n",
       "5623             5720          59         2150       2017-09-19           0.0   \n",
       "995              1013          64          233       2017-05-29           1.0   \n",
       "\n",
       "      order_status           brand product_line product_class product_size  \\\n",
       "15160     Approved   Trek Bicycles     Standard          high       medium   \n",
       "5783      Approved  Norco Bicycles     Standard        medium       medium   \n",
       "16521     Approved  Giant Bicycles         Road        medium       medium   \n",
       "5623      Approved           Solex     Standard        medium        large   \n",
       "995       Approved   Trek Bicycles     Standard        medium        large   \n",
       "\n",
       "       list_price  standard_cost              address  postcode state  \\\n",
       "15160      358.39         215.03          21 2nd Pass    2566.0   NSW   \n",
       "5783      1198.46         381.10   20519 Katie Circle    2152.0   NSW   \n",
       "16521     1538.99         829.65    12306 Lawn Street    2145.0   NSW   \n",
       "5623      1061.56         733.58   59694 1st Crossing    4503.0   QLD   \n",
       "995       1469.44         596.55  2 Northridge Street    2508.0   NSW   \n",
       "\n",
       "         country  property_valuation first_name  last_name  gender  \\\n",
       "15160  Australia                 8.0        Eda  MacCheyne  Female   \n",
       "5783   Australia                 8.0    Colline    Coulman  Female   \n",
       "16521  Australia                 8.0    Celesta  Willavoys  Female   \n",
       "5623   Australia                 7.0        NaN        NaN     NaN   \n",
       "995    Australia                10.0        Art    Barwell    Male   \n",
       "\n",
       "       past_3_years_purchases        DOB                   job_title  \\\n",
       "15160                    89.0 1999-05-10  Quality Control Specialist   \n",
       "5783                     95.0 1975-12-19        Sales Representative   \n",
       "16521                     5.0 1963-07-07              Web Designer I   \n",
       "5623                      NaN        NaT                         NaN   \n",
       "995                      34.0 1986-08-08          Environmental Tech   \n",
       "\n",
       "      job_industry_category wealth_segment deceased_indicator owns_car  tenure  \n",
       "15160         Manufacturing  Mass Customer                  N       No     2.0  \n",
       "5783                 Retail  Mass Customer                  N      Yes     9.0  \n",
       "16521         Manufacturing  Mass Customer                  N      Yes     9.0  \n",
       "5623                    NaN            NaN                NaN      NaN     NaN  \n",
       "995                Property  Mass Customer                  N       No    13.0  "
      ]
     },
     "execution_count": 217,
     "metadata": {},
     "output_type": "execute_result"
    }
   ],
   "source": [
    "data.sample(5)"
   ]
  },
  {
   "cell_type": "code",
   "execution_count": 218,
   "metadata": {},
   "outputs": [
    {
     "data": {
      "text/plain": [
       "transaction_id               0\n",
       "product_id                   0\n",
       "customer_id                  0\n",
       "transaction_date             0\n",
       "online_order                 0\n",
       "order_status                 0\n",
       "brand                        0\n",
       "product_line                 0\n",
       "product_class                0\n",
       "product_size                 0\n",
       "list_price                   0\n",
       "standard_cost                0\n",
       "address                     30\n",
       "postcode                    30\n",
       "state                       30\n",
       "country                     30\n",
       "property_valuation          30\n",
       "first_name                5440\n",
       "last_name                 5440\n",
       "gender                    5440\n",
       "past_3_years_purchases    5440\n",
       "DOB                       5440\n",
       "job_title                 5440\n",
       "job_industry_category     5440\n",
       "wealth_segment            5440\n",
       "deceased_indicator        5440\n",
       "owns_car                  5440\n",
       "tenure                    5440\n",
       "dtype: int64"
      ]
     },
     "execution_count": 218,
     "metadata": {},
     "output_type": "execute_result"
    }
   ],
   "source": [
    "data.isna().sum()"
   ]
  },
  {
   "cell_type": "markdown",
   "metadata": {},
   "source": [
    "Due to the unmatched ID records there are a number of missing values"
   ]
  },
  {
   "cell_type": "code",
   "execution_count": 219,
   "metadata": {},
   "outputs": [
    {
     "data": {
      "text/html": [
       "<div>\n",
       "<style scoped>\n",
       "    .dataframe tbody tr th:only-of-type {\n",
       "        vertical-align: middle;\n",
       "    }\n",
       "\n",
       "    .dataframe tbody tr th {\n",
       "        vertical-align: top;\n",
       "    }\n",
       "\n",
       "    .dataframe thead th {\n",
       "        text-align: right;\n",
       "    }\n",
       "</style>\n",
       "<table border=\"1\" class=\"dataframe\">\n",
       "  <thead>\n",
       "    <tr style=\"text-align: right;\">\n",
       "      <th></th>\n",
       "      <th>transaction_id</th>\n",
       "      <th>product_id</th>\n",
       "      <th>customer_id</th>\n",
       "      <th>transaction_date</th>\n",
       "      <th>online_order</th>\n",
       "      <th>order_status</th>\n",
       "      <th>brand</th>\n",
       "      <th>product_line</th>\n",
       "      <th>product_class</th>\n",
       "      <th>product_size</th>\n",
       "      <th>list_price</th>\n",
       "      <th>standard_cost</th>\n",
       "      <th>address</th>\n",
       "      <th>postcode</th>\n",
       "      <th>state</th>\n",
       "      <th>country</th>\n",
       "      <th>property_valuation</th>\n",
       "      <th>first_name</th>\n",
       "      <th>last_name</th>\n",
       "      <th>gender</th>\n",
       "      <th>past_3_years_purchases</th>\n",
       "      <th>DOB</th>\n",
       "      <th>job_title</th>\n",
       "      <th>job_industry_category</th>\n",
       "      <th>wealth_segment</th>\n",
       "      <th>deceased_indicator</th>\n",
       "      <th>owns_car</th>\n",
       "      <th>tenure</th>\n",
       "    </tr>\n",
       "  </thead>\n",
       "  <tbody>\n",
       "    <tr>\n",
       "      <th>14233</th>\n",
       "      <td>14507</td>\n",
       "      <td>0</td>\n",
       "      <td>963</td>\n",
       "      <td>2017-01-16</td>\n",
       "      <td>0.0</td>\n",
       "      <td>Approved</td>\n",
       "      <td>Norco Bicycles</td>\n",
       "      <td>Standard</td>\n",
       "      <td>medium</td>\n",
       "      <td>medium</td>\n",
       "      <td>360.40</td>\n",
       "      <td>270.30</td>\n",
       "      <td>4364 Gale Park</td>\n",
       "      <td>2196.0</td>\n",
       "      <td>NSW</td>\n",
       "      <td>Australia</td>\n",
       "      <td>10.0</td>\n",
       "      <td>NaN</td>\n",
       "      <td>NaN</td>\n",
       "      <td>NaN</td>\n",
       "      <td>NaN</td>\n",
       "      <td>NaT</td>\n",
       "      <td>NaN</td>\n",
       "      <td>NaN</td>\n",
       "      <td>NaN</td>\n",
       "      <td>NaN</td>\n",
       "      <td>NaN</td>\n",
       "      <td>NaN</td>\n",
       "    </tr>\n",
       "    <tr>\n",
       "      <th>19289</th>\n",
       "      <td>19676</td>\n",
       "      <td>0</td>\n",
       "      <td>59</td>\n",
       "      <td>2017-10-27</td>\n",
       "      <td>0.0</td>\n",
       "      <td>Approved</td>\n",
       "      <td>Solex</td>\n",
       "      <td>Standard</td>\n",
       "      <td>medium</td>\n",
       "      <td>medium</td>\n",
       "      <td>71.49</td>\n",
       "      <td>53.62</td>\n",
       "      <td>413 Mayer Street</td>\n",
       "      <td>2046.0</td>\n",
       "      <td>NSW</td>\n",
       "      <td>Australia</td>\n",
       "      <td>9.0</td>\n",
       "      <td>NaN</td>\n",
       "      <td>NaN</td>\n",
       "      <td>NaN</td>\n",
       "      <td>NaN</td>\n",
       "      <td>NaT</td>\n",
       "      <td>NaN</td>\n",
       "      <td>NaN</td>\n",
       "      <td>NaN</td>\n",
       "      <td>NaN</td>\n",
       "      <td>NaN</td>\n",
       "      <td>NaN</td>\n",
       "    </tr>\n",
       "    <tr>\n",
       "      <th>6605</th>\n",
       "      <td>6729</td>\n",
       "      <td>32</td>\n",
       "      <td>439</td>\n",
       "      <td>2017-06-28</td>\n",
       "      <td>0.0</td>\n",
       "      <td>Approved</td>\n",
       "      <td>Giant Bicycles</td>\n",
       "      <td>Standard</td>\n",
       "      <td>medium</td>\n",
       "      <td>medium</td>\n",
       "      <td>642.70</td>\n",
       "      <td>211.37</td>\n",
       "      <td>8788 Armistice Trail</td>\n",
       "      <td>3806.0</td>\n",
       "      <td>VIC</td>\n",
       "      <td>Australia</td>\n",
       "      <td>8.0</td>\n",
       "      <td>NaN</td>\n",
       "      <td>NaN</td>\n",
       "      <td>NaN</td>\n",
       "      <td>NaN</td>\n",
       "      <td>NaT</td>\n",
       "      <td>NaN</td>\n",
       "      <td>NaN</td>\n",
       "      <td>NaN</td>\n",
       "      <td>NaN</td>\n",
       "      <td>NaN</td>\n",
       "      <td>NaN</td>\n",
       "    </tr>\n",
       "    <tr>\n",
       "      <th>10847</th>\n",
       "      <td>11051</td>\n",
       "      <td>39</td>\n",
       "      <td>1606</td>\n",
       "      <td>2017-01-13</td>\n",
       "      <td>0.0</td>\n",
       "      <td>Approved</td>\n",
       "      <td>Giant Bicycles</td>\n",
       "      <td>Standard</td>\n",
       "      <td>medium</td>\n",
       "      <td>large</td>\n",
       "      <td>1812.75</td>\n",
       "      <td>582.48</td>\n",
       "      <td>658 Northfield Junction</td>\n",
       "      <td>3023.0</td>\n",
       "      <td>VIC</td>\n",
       "      <td>Australia</td>\n",
       "      <td>7.0</td>\n",
       "      <td>NaN</td>\n",
       "      <td>NaN</td>\n",
       "      <td>NaN</td>\n",
       "      <td>NaN</td>\n",
       "      <td>NaT</td>\n",
       "      <td>NaN</td>\n",
       "      <td>NaN</td>\n",
       "      <td>NaN</td>\n",
       "      <td>NaN</td>\n",
       "      <td>NaN</td>\n",
       "      <td>NaN</td>\n",
       "    </tr>\n",
       "    <tr>\n",
       "      <th>13760</th>\n",
       "      <td>14029</td>\n",
       "      <td>11</td>\n",
       "      <td>1077</td>\n",
       "      <td>2017-10-15</td>\n",
       "      <td>1.0</td>\n",
       "      <td>Approved</td>\n",
       "      <td>Giant Bicycles</td>\n",
       "      <td>Standard</td>\n",
       "      <td>high</td>\n",
       "      <td>medium</td>\n",
       "      <td>1274.93</td>\n",
       "      <td>764.96</td>\n",
       "      <td>12764 Raven Plaza</td>\n",
       "      <td>4020.0</td>\n",
       "      <td>QLD</td>\n",
       "      <td>Australia</td>\n",
       "      <td>7.0</td>\n",
       "      <td>NaN</td>\n",
       "      <td>NaN</td>\n",
       "      <td>NaN</td>\n",
       "      <td>NaN</td>\n",
       "      <td>NaT</td>\n",
       "      <td>NaN</td>\n",
       "      <td>NaN</td>\n",
       "      <td>NaN</td>\n",
       "      <td>NaN</td>\n",
       "      <td>NaN</td>\n",
       "      <td>NaN</td>\n",
       "    </tr>\n",
       "  </tbody>\n",
       "</table>\n",
       "</div>"
      ],
      "text/plain": [
       "       transaction_id  product_id  customer_id transaction_date  online_order  \\\n",
       "14233           14507           0          963       2017-01-16           0.0   \n",
       "19289           19676           0           59       2017-10-27           0.0   \n",
       "6605             6729          32          439       2017-06-28           0.0   \n",
       "10847           11051          39         1606       2017-01-13           0.0   \n",
       "13760           14029          11         1077       2017-10-15           1.0   \n",
       "\n",
       "      order_status           brand product_line product_class product_size  \\\n",
       "14233     Approved  Norco Bicycles     Standard        medium       medium   \n",
       "19289     Approved           Solex     Standard        medium       medium   \n",
       "6605      Approved  Giant Bicycles     Standard        medium       medium   \n",
       "10847     Approved  Giant Bicycles     Standard        medium        large   \n",
       "13760     Approved  Giant Bicycles     Standard          high       medium   \n",
       "\n",
       "       list_price  standard_cost                  address  postcode state  \\\n",
       "14233      360.40         270.30           4364 Gale Park    2196.0   NSW   \n",
       "19289       71.49          53.62         413 Mayer Street    2046.0   NSW   \n",
       "6605       642.70         211.37     8788 Armistice Trail    3806.0   VIC   \n",
       "10847     1812.75         582.48  658 Northfield Junction    3023.0   VIC   \n",
       "13760     1274.93         764.96        12764 Raven Plaza    4020.0   QLD   \n",
       "\n",
       "         country  property_valuation first_name last_name gender  \\\n",
       "14233  Australia                10.0        NaN       NaN    NaN   \n",
       "19289  Australia                 9.0        NaN       NaN    NaN   \n",
       "6605   Australia                 8.0        NaN       NaN    NaN   \n",
       "10847  Australia                 7.0        NaN       NaN    NaN   \n",
       "13760  Australia                 7.0        NaN       NaN    NaN   \n",
       "\n",
       "       past_3_years_purchases DOB job_title job_industry_category  \\\n",
       "14233                     NaN NaT       NaN                   NaN   \n",
       "19289                     NaN NaT       NaN                   NaN   \n",
       "6605                      NaN NaT       NaN                   NaN   \n",
       "10847                     NaN NaT       NaN                   NaN   \n",
       "13760                     NaN NaT       NaN                   NaN   \n",
       "\n",
       "      wealth_segment deceased_indicator owns_car  tenure  \n",
       "14233            NaN                NaN      NaN     NaN  \n",
       "19289            NaN                NaN      NaN     NaN  \n",
       "6605             NaN                NaN      NaN     NaN  \n",
       "10847            NaN                NaN      NaN     NaN  \n",
       "13760            NaN                NaN      NaN     NaN  "
      ]
     },
     "execution_count": 219,
     "metadata": {},
     "output_type": "execute_result"
    }
   ],
   "source": [
    "data[data.isna().any(axis=1)].sample(5)"
   ]
  },
  {
   "cell_type": "code",
   "execution_count": 220,
   "metadata": {},
   "outputs": [],
   "source": [
    "# Dropping records with missing values\n",
    "data.dropna(inplace=True)"
   ]
  },
  {
   "cell_type": "code",
   "execution_count": 221,
   "metadata": {},
   "outputs": [
    {
     "data": {
      "text/plain": [
       "(14155, 28)"
      ]
     },
     "execution_count": 221,
     "metadata": {},
     "output_type": "execute_result"
    }
   ],
   "source": [
    "data.shape"
   ]
  },
  {
   "cell_type": "code",
   "execution_count": 222,
   "metadata": {},
   "outputs": [],
   "source": [
    "# Exporting cleaned and joined data\n",
    "data.to_excel(\"Clean_joined_data.xlsx\", sheet_name=\"Clean Data\")"
   ]
  },
  {
   "cell_type": "markdown",
   "metadata": {},
   "source": [
    "# Step 2\n",
    "\n",
    "Using the existing 3 datasets (Customer demographic, customer address and transactions) as a labelled dataset, please recommend which of these 1000 new customers should be targeted to drive the most value for the organisation. \n",
    "\n",
    "In building this recommendation, we need to start with a PowerPoint presentation which outlines the approach which we will be taking. The client has agreed on a 3 week scope with the following 3 phases as follows - Data Exploration; Model Development and Interpretation.\n",
    "\n",
    "Prepare a detailed approach for completing the analysis including activities – i.e. understanding the data distributions, feature engineering, data transformations, modelling, results interpretation and reporting. This detailed plan needs to be presented to the client to get a sign-off. Please advise what steps you would take. \n",
    "\n",
    "Please ensure your PowerPoint presentation includes a detailed approach for our strategy behind each of the 3 phases including activities involved in each - i.e. understanding the data distributions, feature engineering, data transformations, modelling, results interpretation and reporting. This detailed plan needs to be presented to the client to get a sign-off.\n",
    "\n",
    "Tips: Raw data fields may be transformed into other calculated fields for modelling purposes (i.e. converting D.O.B to age or age groups). Tips: You may source external data from the ABS / Census to add additional variables that may help support your model. "
   ]
  },
  {
   "cell_type": "markdown",
   "metadata": {},
   "source": [
    "## Feature Engineering"
   ]
  },
  {
   "cell_type": "code",
   "execution_count": 223,
   "metadata": {},
   "outputs": [],
   "source": [
    "# Engineering Age column\n",
    "data.head()\n",
    "data['transaction_year'] = 2017\n",
    "data['YOB'] = data['DOB'].astype('str').map(lambda x: x[:4])\n",
    "data['age'] = data['transaction_year'] - data['YOB'].astype(int)"
   ]
  },
  {
   "cell_type": "code",
   "execution_count": 224,
   "metadata": {},
   "outputs": [],
   "source": [
    "# drop unnecessary columns created above and other unnecessary ones\n",
    "data.drop(columns=['transaction_year', 'YOB', 'DOB', 'country', 'transaction_id', 'first_name', 'last_name', ], inplace=True)"
   ]
  },
  {
   "cell_type": "code",
   "execution_count": 225,
   "metadata": {},
   "outputs": [
    {
     "data": {
      "text/plain": [
       "count    14155.000000\n",
       "mean        39.727729\n",
       "std         12.569155\n",
       "min         15.000000\n",
       "25%         30.000000\n",
       "50%         40.000000\n",
       "75%         49.000000\n",
       "max         86.000000\n",
       "Name: age, dtype: float64"
      ]
     },
     "execution_count": 225,
     "metadata": {},
     "output_type": "execute_result"
    }
   ],
   "source": [
    "data['age'].describe()"
   ]
  },
  {
   "cell_type": "code",
   "execution_count": 226,
   "metadata": {},
   "outputs": [
    {
     "data": {
      "text/html": [
       "<div>\n",
       "<style scoped>\n",
       "    .dataframe tbody tr th:only-of-type {\n",
       "        vertical-align: middle;\n",
       "    }\n",
       "\n",
       "    .dataframe tbody tr th {\n",
       "        vertical-align: top;\n",
       "    }\n",
       "\n",
       "    .dataframe thead th {\n",
       "        text-align: right;\n",
       "    }\n",
       "</style>\n",
       "<table border=\"1\" class=\"dataframe\">\n",
       "  <thead>\n",
       "    <tr style=\"text-align: right;\">\n",
       "      <th></th>\n",
       "      <th>product_id</th>\n",
       "      <th>customer_id</th>\n",
       "      <th>transaction_date</th>\n",
       "      <th>online_order</th>\n",
       "      <th>order_status</th>\n",
       "      <th>brand</th>\n",
       "      <th>product_line</th>\n",
       "      <th>product_class</th>\n",
       "      <th>product_size</th>\n",
       "      <th>list_price</th>\n",
       "      <th>standard_cost</th>\n",
       "      <th>address</th>\n",
       "      <th>postcode</th>\n",
       "      <th>state</th>\n",
       "      <th>property_valuation</th>\n",
       "      <th>gender</th>\n",
       "      <th>past_3_years_purchases</th>\n",
       "      <th>job_title</th>\n",
       "      <th>job_industry_category</th>\n",
       "      <th>wealth_segment</th>\n",
       "      <th>deceased_indicator</th>\n",
       "      <th>owns_car</th>\n",
       "      <th>tenure</th>\n",
       "      <th>age</th>\n",
       "    </tr>\n",
       "  </thead>\n",
       "  <tbody>\n",
       "    <tr>\n",
       "      <th>3609</th>\n",
       "      <td>68</td>\n",
       "      <td>1927</td>\n",
       "      <td>2017-09-07</td>\n",
       "      <td>0.0</td>\n",
       "      <td>Approved</td>\n",
       "      <td>OHM Cycles</td>\n",
       "      <td>Standard</td>\n",
       "      <td>medium</td>\n",
       "      <td>medium</td>\n",
       "      <td>1636.90</td>\n",
       "      <td>44.71</td>\n",
       "      <td>26876 Lyons Court</td>\n",
       "      <td>3166.0</td>\n",
       "      <td>VIC</td>\n",
       "      <td>10.0</td>\n",
       "      <td>Female</td>\n",
       "      <td>11.0</td>\n",
       "      <td>Software Test Engineer I</td>\n",
       "      <td>Manufacturing</td>\n",
       "      <td>Affluent Customer</td>\n",
       "      <td>N</td>\n",
       "      <td>Yes</td>\n",
       "      <td>8.0</td>\n",
       "      <td>42</td>\n",
       "    </tr>\n",
       "    <tr>\n",
       "      <th>3399</th>\n",
       "      <td>80</td>\n",
       "      <td>3193</td>\n",
       "      <td>2017-12-20</td>\n",
       "      <td>1.0</td>\n",
       "      <td>Approved</td>\n",
       "      <td>Trek Bicycles</td>\n",
       "      <td>Standard</td>\n",
       "      <td>medium</td>\n",
       "      <td>large</td>\n",
       "      <td>1469.44</td>\n",
       "      <td>596.55</td>\n",
       "      <td>081 Oakridge Street</td>\n",
       "      <td>2519.0</td>\n",
       "      <td>NSW</td>\n",
       "      <td>10.0</td>\n",
       "      <td>Female</td>\n",
       "      <td>6.0</td>\n",
       "      <td>Web Designer IV</td>\n",
       "      <td>Property</td>\n",
       "      <td>High Net Worth</td>\n",
       "      <td>N</td>\n",
       "      <td>No</td>\n",
       "      <td>7.0</td>\n",
       "      <td>39</td>\n",
       "    </tr>\n",
       "    <tr>\n",
       "      <th>11042</th>\n",
       "      <td>84</td>\n",
       "      <td>1199</td>\n",
       "      <td>2017-11-17</td>\n",
       "      <td>0.0</td>\n",
       "      <td>Approved</td>\n",
       "      <td>Trek Bicycles</td>\n",
       "      <td>Road</td>\n",
       "      <td>medium</td>\n",
       "      <td>medium</td>\n",
       "      <td>290.62</td>\n",
       "      <td>215.14</td>\n",
       "      <td>761 Bellgrove Lane</td>\n",
       "      <td>2541.0</td>\n",
       "      <td>NSW</td>\n",
       "      <td>7.0</td>\n",
       "      <td>Male</td>\n",
       "      <td>7.0</td>\n",
       "      <td>VP Accounting</td>\n",
       "      <td>Financial Services</td>\n",
       "      <td>Affluent Customer</td>\n",
       "      <td>N</td>\n",
       "      <td>Yes</td>\n",
       "      <td>5.0</td>\n",
       "      <td>59</td>\n",
       "    </tr>\n",
       "    <tr>\n",
       "      <th>8729</th>\n",
       "      <td>51</td>\n",
       "      <td>2062</td>\n",
       "      <td>2017-04-08</td>\n",
       "      <td>0.0</td>\n",
       "      <td>Approved</td>\n",
       "      <td>OHM Cycles</td>\n",
       "      <td>Standard</td>\n",
       "      <td>high</td>\n",
       "      <td>medium</td>\n",
       "      <td>2005.66</td>\n",
       "      <td>1203.40</td>\n",
       "      <td>9 Roth Park</td>\n",
       "      <td>4104.0</td>\n",
       "      <td>QLD</td>\n",
       "      <td>7.0</td>\n",
       "      <td>Male</td>\n",
       "      <td>67.0</td>\n",
       "      <td>Junior Executive</td>\n",
       "      <td>Retail</td>\n",
       "      <td>Mass Customer</td>\n",
       "      <td>N</td>\n",
       "      <td>No</td>\n",
       "      <td>18.0</td>\n",
       "      <td>41</td>\n",
       "    </tr>\n",
       "    <tr>\n",
       "      <th>1647</th>\n",
       "      <td>83</td>\n",
       "      <td>3336</td>\n",
       "      <td>2017-10-17</td>\n",
       "      <td>0.0</td>\n",
       "      <td>Approved</td>\n",
       "      <td>Solex</td>\n",
       "      <td>Touring</td>\n",
       "      <td>medium</td>\n",
       "      <td>large</td>\n",
       "      <td>2083.94</td>\n",
       "      <td>675.03</td>\n",
       "      <td>6043 Badeau Place</td>\n",
       "      <td>4820.0</td>\n",
       "      <td>QLD</td>\n",
       "      <td>1.0</td>\n",
       "      <td>Male</td>\n",
       "      <td>47.0</td>\n",
       "      <td>Research Assistant IV</td>\n",
       "      <td>Manufacturing</td>\n",
       "      <td>Mass Customer</td>\n",
       "      <td>N</td>\n",
       "      <td>Yes</td>\n",
       "      <td>8.0</td>\n",
       "      <td>38</td>\n",
       "    </tr>\n",
       "  </tbody>\n",
       "</table>\n",
       "</div>"
      ],
      "text/plain": [
       "       product_id  customer_id transaction_date  online_order order_status  \\\n",
       "3609           68         1927       2017-09-07           0.0     Approved   \n",
       "3399           80         3193       2017-12-20           1.0     Approved   \n",
       "11042          84         1199       2017-11-17           0.0     Approved   \n",
       "8729           51         2062       2017-04-08           0.0     Approved   \n",
       "1647           83         3336       2017-10-17           0.0     Approved   \n",
       "\n",
       "               brand product_line product_class product_size  list_price  \\\n",
       "3609      OHM Cycles     Standard        medium       medium     1636.90   \n",
       "3399   Trek Bicycles     Standard        medium        large     1469.44   \n",
       "11042  Trek Bicycles         Road        medium       medium      290.62   \n",
       "8729      OHM Cycles     Standard          high       medium     2005.66   \n",
       "1647           Solex      Touring        medium        large     2083.94   \n",
       "\n",
       "       standard_cost              address  postcode state  property_valuation  \\\n",
       "3609           44.71    26876 Lyons Court    3166.0   VIC                10.0   \n",
       "3399          596.55  081 Oakridge Street    2519.0   NSW                10.0   \n",
       "11042         215.14   761 Bellgrove Lane    2541.0   NSW                 7.0   \n",
       "8729         1203.40          9 Roth Park    4104.0   QLD                 7.0   \n",
       "1647          675.03    6043 Badeau Place    4820.0   QLD                 1.0   \n",
       "\n",
       "       gender  past_3_years_purchases                 job_title  \\\n",
       "3609   Female                    11.0  Software Test Engineer I   \n",
       "3399   Female                     6.0           Web Designer IV   \n",
       "11042    Male                     7.0             VP Accounting   \n",
       "8729     Male                    67.0          Junior Executive   \n",
       "1647     Male                    47.0     Research Assistant IV   \n",
       "\n",
       "      job_industry_category     wealth_segment deceased_indicator owns_car  \\\n",
       "3609          Manufacturing  Affluent Customer                  N      Yes   \n",
       "3399               Property     High Net Worth                  N       No   \n",
       "11042    Financial Services  Affluent Customer                  N      Yes   \n",
       "8729                 Retail      Mass Customer                  N       No   \n",
       "1647          Manufacturing      Mass Customer                  N      Yes   \n",
       "\n",
       "       tenure  age  \n",
       "3609      8.0   42  \n",
       "3399      7.0   39  \n",
       "11042     5.0   59  \n",
       "8729     18.0   41  \n",
       "1647      8.0   38  "
      ]
     },
     "execution_count": 226,
     "metadata": {},
     "output_type": "execute_result"
    }
   ],
   "source": [
    "data.sample(5)"
   ]
  },
  {
   "cell_type": "code",
   "execution_count": 227,
   "metadata": {},
   "outputs": [
    {
     "data": {
      "image/png": "[encoded data removed]",
      "text/plain": [
       "<Figure size 640x480 with 12 Axes>"
      ]
     },
     "metadata": {},
     "output_type": "display_data"
    }
   ],
   "source": [
    "data.hist(layout=(4, 3))\n",
    "plt.tight_layout();"
   ]
  },
  {
   "cell_type": "code",
   "execution_count": 228,
   "metadata": {},
   "outputs": [],
   "source": [
    "# potential_profit column = list price - standard price\n",
    "# percentage_potential_profit column = list price - standard price / standard price * 100\n",
    "data['potential_profit'] = data['list_price'] - data['standard_cost']\n",
    "data['percentage_potential_profit'] = ((data['list_price'] - data['standard_cost']) / data['standard_cost'] * 100).round(2)"
   ]
  },
  {
   "cell_type": "code",
   "execution_count": 229,
   "metadata": {},
   "outputs": [
    {
     "data": {
      "text/html": [
       "<div>\n",
       "<style scoped>\n",
       "    .dataframe tbody tr th:only-of-type {\n",
       "        vertical-align: middle;\n",
       "    }\n",
       "\n",
       "    .dataframe tbody tr th {\n",
       "        vertical-align: top;\n",
       "    }\n",
       "\n",
       "    .dataframe thead th {\n",
       "        text-align: right;\n",
       "    }\n",
       "</style>\n",
       "<table border=\"1\" class=\"dataframe\">\n",
       "  <thead>\n",
       "    <tr style=\"text-align: right;\">\n",
       "      <th></th>\n",
       "      <th>product_id</th>\n",
       "      <th>customer_id</th>\n",
       "      <th>transaction_date</th>\n",
       "      <th>online_order</th>\n",
       "      <th>order_status</th>\n",
       "      <th>brand</th>\n",
       "      <th>product_line</th>\n",
       "      <th>product_class</th>\n",
       "      <th>product_size</th>\n",
       "      <th>list_price</th>\n",
       "      <th>standard_cost</th>\n",
       "      <th>address</th>\n",
       "      <th>postcode</th>\n",
       "      <th>state</th>\n",
       "      <th>property_valuation</th>\n",
       "      <th>gender</th>\n",
       "      <th>past_3_years_purchases</th>\n",
       "      <th>job_title</th>\n",
       "      <th>job_industry_category</th>\n",
       "      <th>wealth_segment</th>\n",
       "      <th>deceased_indicator</th>\n",
       "      <th>owns_car</th>\n",
       "      <th>tenure</th>\n",
       "      <th>age</th>\n",
       "      <th>potential_profit</th>\n",
       "      <th>percentage_potential_profit</th>\n",
       "    </tr>\n",
       "  </thead>\n",
       "  <tbody>\n",
       "    <tr>\n",
       "      <th>0</th>\n",
       "      <td>2</td>\n",
       "      <td>2950</td>\n",
       "      <td>2017-02-25</td>\n",
       "      <td>0.0</td>\n",
       "      <td>Approved</td>\n",
       "      <td>Solex</td>\n",
       "      <td>Standard</td>\n",
       "      <td>medium</td>\n",
       "      <td>medium</td>\n",
       "      <td>71.49</td>\n",
       "      <td>53.62</td>\n",
       "      <td>984 Hoepker Court</td>\n",
       "      <td>3064.0</td>\n",
       "      <td>VIC</td>\n",
       "      <td>6.0</td>\n",
       "      <td>Male</td>\n",
       "      <td>19.0</td>\n",
       "      <td>Software Engineer I</td>\n",
       "      <td>Financial Services</td>\n",
       "      <td>Mass Customer</td>\n",
       "      <td>N</td>\n",
       "      <td>Yes</td>\n",
       "      <td>10.0</td>\n",
       "      <td>62</td>\n",
       "      <td>17.87</td>\n",
       "      <td>33.33</td>\n",
       "    </tr>\n",
       "    <tr>\n",
       "      <th>1</th>\n",
       "      <td>3</td>\n",
       "      <td>3120</td>\n",
       "      <td>2017-05-21</td>\n",
       "      <td>1.0</td>\n",
       "      <td>Approved</td>\n",
       "      <td>Trek Bicycles</td>\n",
       "      <td>Standard</td>\n",
       "      <td>medium</td>\n",
       "      <td>large</td>\n",
       "      <td>2091.47</td>\n",
       "      <td>388.92</td>\n",
       "      <td>4 Shopko Circle</td>\n",
       "      <td>2196.0</td>\n",
       "      <td>NSW</td>\n",
       "      <td>5.0</td>\n",
       "      <td>Female</td>\n",
       "      <td>89.0</td>\n",
       "      <td>Clinical Specialist</td>\n",
       "      <td>Health</td>\n",
       "      <td>Mass Customer</td>\n",
       "      <td>N</td>\n",
       "      <td>Yes</td>\n",
       "      <td>10.0</td>\n",
       "      <td>38</td>\n",
       "      <td>1702.55</td>\n",
       "      <td>437.76</td>\n",
       "    </tr>\n",
       "    <tr>\n",
       "      <th>2</th>\n",
       "      <td>37</td>\n",
       "      <td>402</td>\n",
       "      <td>2017-10-16</td>\n",
       "      <td>0.0</td>\n",
       "      <td>Approved</td>\n",
       "      <td>OHM Cycles</td>\n",
       "      <td>Standard</td>\n",
       "      <td>low</td>\n",
       "      <td>medium</td>\n",
       "      <td>1793.43</td>\n",
       "      <td>248.82</td>\n",
       "      <td>586 Miller Parkway</td>\n",
       "      <td>2835.0</td>\n",
       "      <td>NSW</td>\n",
       "      <td>1.0</td>\n",
       "      <td>Male</td>\n",
       "      <td>9.0</td>\n",
       "      <td>Desktop Support Technician</td>\n",
       "      <td>Retail</td>\n",
       "      <td>Affluent Customer</td>\n",
       "      <td>N</td>\n",
       "      <td>No</td>\n",
       "      <td>22.0</td>\n",
       "      <td>40</td>\n",
       "      <td>1544.61</td>\n",
       "      <td>620.77</td>\n",
       "    </tr>\n",
       "    <tr>\n",
       "      <th>3</th>\n",
       "      <td>88</td>\n",
       "      <td>3135</td>\n",
       "      <td>2017-08-31</td>\n",
       "      <td>0.0</td>\n",
       "      <td>Approved</td>\n",
       "      <td>Norco Bicycles</td>\n",
       "      <td>Standard</td>\n",
       "      <td>medium</td>\n",
       "      <td>medium</td>\n",
       "      <td>1198.46</td>\n",
       "      <td>381.10</td>\n",
       "      <td>1617 Harper Parkway</td>\n",
       "      <td>2096.0</td>\n",
       "      <td>NSW</td>\n",
       "      <td>10.0</td>\n",
       "      <td>Male</td>\n",
       "      <td>83.0</td>\n",
       "      <td>Staff Scientist</td>\n",
       "      <td>Financial Services</td>\n",
       "      <td>Mass Customer</td>\n",
       "      <td>N</td>\n",
       "      <td>No</td>\n",
       "      <td>16.0</td>\n",
       "      <td>55</td>\n",
       "      <td>817.36</td>\n",
       "      <td>214.47</td>\n",
       "    </tr>\n",
       "    <tr>\n",
       "      <th>5</th>\n",
       "      <td>25</td>\n",
       "      <td>2339</td>\n",
       "      <td>2017-03-08</td>\n",
       "      <td>1.0</td>\n",
       "      <td>Approved</td>\n",
       "      <td>Giant Bicycles</td>\n",
       "      <td>Road</td>\n",
       "      <td>medium</td>\n",
       "      <td>medium</td>\n",
       "      <td>1538.99</td>\n",
       "      <td>829.65</td>\n",
       "      <td>7174 Thackeray Point</td>\n",
       "      <td>2153.0</td>\n",
       "      <td>NSW</td>\n",
       "      <td>10.0</td>\n",
       "      <td>Male</td>\n",
       "      <td>3.0</td>\n",
       "      <td>Web Designer II</td>\n",
       "      <td>Property</td>\n",
       "      <td>Affluent Customer</td>\n",
       "      <td>N</td>\n",
       "      <td>Yes</td>\n",
       "      <td>16.0</td>\n",
       "      <td>59</td>\n",
       "      <td>709.34</td>\n",
       "      <td>85.50</td>\n",
       "    </tr>\n",
       "  </tbody>\n",
       "</table>\n",
       "</div>"
      ],
      "text/plain": [
       "   product_id  customer_id transaction_date  online_order order_status  \\\n",
       "0           2         2950       2017-02-25           0.0     Approved   \n",
       "1           3         3120       2017-05-21           1.0     Approved   \n",
       "2          37          402       2017-10-16           0.0     Approved   \n",
       "3          88         3135       2017-08-31           0.0     Approved   \n",
       "5          25         2339       2017-03-08           1.0     Approved   \n",
       "\n",
       "            brand product_line product_class product_size  list_price  \\\n",
       "0           Solex     Standard        medium       medium       71.49   \n",
       "1   Trek Bicycles     Standard        medium        large     2091.47   \n",
       "2      OHM Cycles     Standard           low       medium     1793.43   \n",
       "3  Norco Bicycles     Standard        medium       medium     1198.46   \n",
       "5  Giant Bicycles         Road        medium       medium     1538.99   \n",
       "\n",
       "   standard_cost               address  postcode state  property_valuation  \\\n",
       "0          53.62     984 Hoepker Court    3064.0   VIC                 6.0   \n",
       "1         388.92       4 Shopko Circle    2196.0   NSW                 5.0   \n",
       "2         248.82    586 Miller Parkway    2835.0   NSW                 1.0   \n",
       "3         381.10   1617 Harper Parkway    2096.0   NSW                10.0   \n",
       "5         829.65  7174 Thackeray Point    2153.0   NSW                10.0   \n",
       "\n",
       "   gender  past_3_years_purchases                   job_title  \\\n",
       "0    Male                    19.0         Software Engineer I   \n",
       "1  Female                    89.0         Clinical Specialist   \n",
       "2    Male                     9.0  Desktop Support Technician   \n",
       "3    Male                    83.0             Staff Scientist   \n",
       "5    Male                     3.0             Web Designer II   \n",
       "\n",
       "  job_industry_category     wealth_segment deceased_indicator owns_car  \\\n",
       "0    Financial Services      Mass Customer                  N      Yes   \n",
       "1                Health      Mass Customer                  N      Yes   \n",
       "2                Retail  Affluent Customer                  N       No   \n",
       "3    Financial Services      Mass Customer                  N       No   \n",
       "5              Property  Affluent Customer                  N      Yes   \n",
       "\n",
       "   tenure  age  potential_profit  percentage_potential_profit  \n",
       "0    10.0   62             17.87                        33.33  \n",
       "1    10.0   38           1702.55                       437.76  \n",
       "2    22.0   40           1544.61                       620.77  \n",
       "3    16.0   55            817.36                       214.47  \n",
       "5    16.0   59            709.34                        85.50  "
      ]
     },
     "execution_count": 229,
     "metadata": {},
     "output_type": "execute_result"
    }
   ],
   "source": [
    "data.head()"
   ]
  },
  {
   "cell_type": "code",
   "execution_count": 230,
   "metadata": {},
   "outputs": [
    {
     "data": {
      "image/png": "[encoded data removed]",
      "text/plain": [
       "<Figure size 640x480 with 2 Axes>"
      ]
     },
     "metadata": {},
     "output_type": "display_data"
    }
   ],
   "source": [
    "data[['potential_profit', 'percentage_potential_profit']].hist();"
   ]
  },
  {
   "cell_type": "markdown",
   "metadata": {},
   "source": [
    "### Product details Dataframe"
   ]
  },
  {
   "cell_type": "code",
   "execution_count": 231,
   "metadata": {},
   "outputs": [],
   "source": [
    "product_info = data[['product_id', 'brand', 'product_line', 'product_class', 'product_size', 'list_price', 'standard_cost', 'potential_profit', 'percentage_potential_profit']]\n"
   ]
  },
  {
   "cell_type": "code",
   "execution_count": 232,
   "metadata": {},
   "outputs": [],
   "source": [
    "product_details = product_info.drop_duplicates()"
   ]
  },
  {
   "cell_type": "code",
   "execution_count": 233,
   "metadata": {},
   "outputs": [],
   "source": [
    "# Extracting unique product details data\n",
    "product_details.to_excel('Product_details.xlsx', sheet_name='Product Info(Duplicate IDs)')"
   ]
  },
  {
   "cell_type": "code",
   "execution_count": null,
   "metadata": {},
   "outputs": [],
   "source": []
  },
  {
   "cell_type": "code",
   "execution_count": null,
   "metadata": {},
   "outputs": [],
   "source": []
  }
 ],
 "metadata": {
  "kernelspec": {
   "display_name": "pylearn",
   "language": "python",
   "name": "python3"
  },
  "language_info": {
   "codemirror_mode": {
    "name": "ipython",
    "version": 3
   },
   "file_extension": ".py",
   "mimetype": "text/x-python",
   "name": "python",
   "nbconvert_exporter": "python",
   "pygments_lexer": "ipython3",
   "version": "3.10.12"
  },
  "orig_nbformat": 4
 },
 "nbformat": 4,
 "nbformat_minor": 2
}

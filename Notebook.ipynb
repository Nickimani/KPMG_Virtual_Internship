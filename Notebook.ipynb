{
 "cells": [
  {
   "cell_type": "markdown",
   "metadata": {},
   "source": [
    "# KPMG Virtual Internship 1\n",
    "\n",
    "Sprocket Central Pty Ltd is a long-standing KPMG client whom specialises in high-quality bikes and accessible cycling accessories to riders. Their **marketing team** is looking to boost business by analysing their existing customer dataset to determine customer trends and behaviour. \n",
    "\n",
    "Using the existing 3 datasets (Customer demographic, customer address and transactions) as a labelled dataset, please recommend which of these 1000 new customers should be targeted to drive the most value for the organisation. \n",
    "\n",
    "Therefore, the obejctives of the project are:\n",
    "\n",
    "Phase 1:\n",
    "\n",
    "1. Clean the data - Report findings such as errogenous records and ways to mitigate such errors in future.\n",
    "2. Expore the data - Check the distributions (Customer wise) to detect possible trends and patterns.\n",
    "\n",
    "\n",
    "Phase 2:\n",
    "\n",
    "3. Preprocess the data - In preparation of modelling (Including creating necessary columns from the data).\n",
    "4. Come up with recommendations - This includes matters to deal with marketing; what product brands are popular, what times/periods, and regions(states) have high sales, customer demographic in terms gender, job industry, Average age of the customers, number of sales and profits by ordering method."
   ]
  },
  {
   "cell_type": "markdown",
   "metadata": {},
   "source": [
    "# Phase 1: Data Exploration & Analysis\n",
    "\n",
    "## Step 1: Importing data"
   ]
  },
  {
   "cell_type": "code",
   "execution_count": 44,
   "metadata": {},
   "outputs": [],
   "source": [
    "# Importing necessary Libraries\n",
    "import pandas as pd\n",
    "import matplotlib.pyplot as plt\n",
    "import seaborn as sns\n",
    "import numpy as np\n",
    "\n",
    "%matplotlib inline"
   ]
  },
  {
   "cell_type": "code",
   "execution_count": 45,
   "metadata": {},
   "outputs": [],
   "source": [
    "# Setting pandas options\n",
    "pd.set_option('display.max_columns', None, 'display.max_rows', None)"
   ]
  },
  {
   "cell_type": "code",
   "execution_count": 46,
   "metadata": {},
   "outputs": [],
   "source": [
    "# Importing datasets\n",
    "transactions = pd.read_excel(\"../KPMG Virtual Internship/Data/KPMG_VI_New_raw_data_update_final.xlsx\", sheet_name='Transactions')\n",
    "customer_address = pd.read_excel(\"../KPMG Virtual Internship/Data/KPMG_VI_New_raw_data_update_final.xlsx\", sheet_name='CustomerAddress')\n",
    "customer_demographic = pd.read_excel(\"../KPMG Virtual Internship/Data/KPMG_VI_New_raw_data_update_final.xlsx\", sheet_name='CustomerDemographic')\n",
    "customer_list = pd.read_excel(\"../KPMG Virtual Internship/Data/KPMG_VI_New_raw_data_update_final.xlsx\", sheet_name='NewCustomerList')  \n",
    "\n",
    "# Datasets list\n",
    "Datasets = [transactions, customer_address, customer_demographic]"
   ]
  },
  {
   "cell_type": "markdown",
   "metadata": {},
   "source": [
    "## Step 2: Data Cleaning"
   ]
  },
  {
   "cell_type": "code",
   "execution_count": 47,
   "metadata": {},
   "outputs": [
    {
     "data": {
      "text/html": [
       "<div>\n",
       "<style scoped>\n",
       "    .dataframe tbody tr th:only-of-type {\n",
       "        vertical-align: middle;\n",
       "    }\n",
       "\n",
       "    .dataframe tbody tr th {\n",
       "        vertical-align: top;\n",
       "    }\n",
       "\n",
       "    .dataframe thead th {\n",
       "        text-align: right;\n",
       "    }\n",
       "</style>\n",
       "<table border=\"1\" class=\"dataframe\">\n",
       "  <thead>\n",
       "    <tr style=\"text-align: right;\">\n",
       "      <th></th>\n",
       "      <th>transaction_id</th>\n",
       "      <th>product_id</th>\n",
       "      <th>customer_id</th>\n",
       "      <th>transaction_date</th>\n",
       "      <th>online_order</th>\n",
       "      <th>order_status</th>\n",
       "      <th>brand</th>\n",
       "      <th>product_line</th>\n",
       "      <th>product_class</th>\n",
       "      <th>product_size</th>\n",
       "      <th>list_price</th>\n",
       "      <th>standard_cost</th>\n",
       "      <th>product_first_sold_date</th>\n",
       "    </tr>\n",
       "  </thead>\n",
       "  <tbody>\n",
       "    <tr>\n",
<<<<<<< HEAD
       "      <th>6116</th>\n",
       "      <td>6117</td>\n",
       "      <td>66</td>\n",
       "      <td>2331</td>\n",
       "      <td>2017-10-06</td>\n",
       "      <td>1.0</td>\n",
       "      <td>Approved</td>\n",
       "      <td>Giant Bicycles</td>\n",
       "      <td>Road</td>\n",
       "      <td>low</td>\n",
       "      <td>small</td>\n",
       "      <td>590.26</td>\n",
       "      <td>525.33</td>\n",
       "      <td>40487.0</td>\n",
       "    </tr>\n",
       "    <tr>\n",
       "      <th>5265</th>\n",
       "      <td>5266</td>\n",
       "      <td>91</td>\n",
       "      <td>2725</td>\n",
       "      <td>2017-07-02</td>\n",
       "      <td>0.0</td>\n",
       "      <td>Approved</td>\n",
=======
       "      <th>6761</th>\n",
       "      <td>6762</td>\n",
       "      <td>45</td>\n",
       "      <td>3362</td>\n",
       "      <td>2017-04-08</td>\n",
       "      <td>1.0</td>\n",
       "      <td>Approved</td>\n",
>>>>>>> e14b551b545e52c22207d678cf564683de5c237a
       "      <td>Solex</td>\n",
       "      <td>Standard</td>\n",
       "      <td>medium</td>\n",
       "      <td>medium</td>\n",
<<<<<<< HEAD
       "      <td>100.35</td>\n",
       "      <td>75.26</td>\n",
       "      <td>36367.0</td>\n",
       "    </tr>\n",
       "    <tr>\n",
       "      <th>14082</th>\n",
       "      <td>14083</td>\n",
       "      <td>57</td>\n",
       "      <td>2226</td>\n",
       "      <td>2017-10-07</td>\n",
       "      <td>1.0</td>\n",
       "      <td>Approved</td>\n",
       "      <td>WeareA2B</td>\n",
       "      <td>Touring</td>\n",
       "      <td>medium</td>\n",
       "      <td>large</td>\n",
       "      <td>1890.39</td>\n",
       "      <td>260.14</td>\n",
       "      <td>33259.0</td>\n",
       "    </tr>\n",
       "    <tr>\n",
       "      <th>2915</th>\n",
       "      <td>2916</td>\n",
       "      <td>40</td>\n",
       "      <td>2465</td>\n",
       "      <td>2017-08-24</td>\n",
       "      <td>1.0</td>\n",
       "      <td>Approved</td>\n",
       "      <td>OHM Cycles</td>\n",
       "      <td>Standard</td>\n",
       "      <td>high</td>\n",
       "      <td>medium</td>\n",
       "      <td>1458.17</td>\n",
       "      <td>874.90</td>\n",
       "      <td>39526.0</td>\n",
       "    </tr>\n",
       "    <tr>\n",
       "      <th>15567</th>\n",
       "      <td>15568</td>\n",
       "      <td>82</td>\n",
       "      <td>1643</td>\n",
       "      <td>2017-08-07</td>\n",
       "      <td>0.0</td>\n",
       "      <td>Approved</td>\n",
       "      <td>Norco Bicycles</td>\n",
       "      <td>Standard</td>\n",
       "      <td>high</td>\n",
       "      <td>medium</td>\n",
       "      <td>1148.64</td>\n",
       "      <td>689.18</td>\n",
       "      <td>42226.0</td>\n",
=======
       "      <td>441.49</td>\n",
       "      <td>84.99</td>\n",
       "      <td>34071.0</td>\n",
>>>>>>> e14b551b545e52c22207d678cf564683de5c237a
       "    </tr>\n",
       "    <tr>\n",
       "      <th>1290</th>\n",
       "      <td>1291</td>\n",
       "      <td>46</td>\n",
       "      <td>463</td>\n",
       "      <td>2017-08-21</td>\n",
       "      <td>1.0</td>\n",
       "      <td>Approved</td>\n",
       "      <td>Solex</td>\n",
       "      <td>Standard</td>\n",
       "      <td>low</td>\n",
       "      <td>medium</td>\n",
       "      <td>1289.85</td>\n",
       "      <td>74.51</td>\n",
       "      <td>41064.0</td>\n",
       "    </tr>\n",
       "    <tr>\n",
       "      <th>19893</th>\n",
       "      <td>19894</td>\n",
       "      <td>8</td>\n",
       "      <td>3019</td>\n",
       "      <td>2017-10-27</td>\n",
       "      <td>1.0</td>\n",
       "      <td>Approved</td>\n",
       "      <td>Solex</td>\n",
       "      <td>Road</td>\n",
       "      <td>medium</td>\n",
       "      <td>small</td>\n",
       "      <td>1703.52</td>\n",
       "      <td>1516.13</td>\n",
       "      <td>33549.0</td>\n",
       "    </tr>\n",
       "    <tr>\n",
       "      <th>13037</th>\n",
       "      <td>13038</td>\n",
       "      <td>12</td>\n",
       "      <td>1823</td>\n",
       "      <td>2017-01-04</td>\n",
       "      <td>0.0</td>\n",
       "      <td>Approved</td>\n",
       "      <td>Giant Bicycles</td>\n",
       "      <td>Standard</td>\n",
       "      <td>medium</td>\n",
       "      <td>large</td>\n",
       "      <td>1765.30</td>\n",
       "      <td>709.48</td>\n",
       "      <td>38193.0</td>\n",
       "    </tr>\n",
       "    <tr>\n",
       "      <th>2135</th>\n",
       "      <td>2136</td>\n",
       "      <td>39</td>\n",
       "      <td>1576</td>\n",
       "      <td>2017-04-16</td>\n",
       "      <td>0.0</td>\n",
       "      <td>Approved</td>\n",
       "      <td>Giant Bicycles</td>\n",
       "      <td>Standard</td>\n",
       "      <td>medium</td>\n",
       "      <td>large</td>\n",
       "      <td>1812.75</td>\n",
       "      <td>582.48</td>\n",
       "      <td>40336.0</td>\n",
       "    </tr>\n",
       "  </tbody>\n",
       "</table>\n",
       "</div>"
      ],
      "text/plain": [
       "       transaction_id  product_id  customer_id transaction_date  online_order  \\\n",
<<<<<<< HEAD
       "6116             6117          66         2331       2017-10-06           1.0   \n",
       "5265             5266          91         2725       2017-07-02           0.0   \n",
       "14082           14083          57         2226       2017-10-07           1.0   \n",
       "2915             2916          40         2465       2017-08-24           1.0   \n",
       "15567           15568          82         1643       2017-08-07           0.0   \n",
       "\n",
       "      order_status           brand product_line product_class product_size  \\\n",
       "6116      Approved  Giant Bicycles         Road           low        small   \n",
       "5265      Approved           Solex     Standard        medium       medium   \n",
       "14082     Approved        WeareA2B      Touring        medium        large   \n",
       "2915      Approved      OHM Cycles     Standard          high       medium   \n",
       "15567     Approved  Norco Bicycles     Standard          high       medium   \n",
       "\n",
       "       list_price  standard_cost  product_first_sold_date  \n",
       "6116       590.26         525.33                  40487.0  \n",
       "5265       100.35          75.26                  36367.0  \n",
       "14082     1890.39         260.14                  33259.0  \n",
       "2915      1458.17         874.90                  39526.0  \n",
       "15567     1148.64         689.18                  42226.0  "
=======
       "6761             6762          45         3362       2017-04-08           1.0   \n",
       "1290             1291          46          463       2017-08-21           1.0   \n",
       "19893           19894           8         3019       2017-10-27           1.0   \n",
       "13037           13038          12         1823       2017-01-04           0.0   \n",
       "2135             2136          39         1576       2017-04-16           0.0   \n",
       "\n",
       "      order_status           brand product_line product_class product_size  \\\n",
       "6761      Approved           Solex     Standard        medium       medium   \n",
       "1290      Approved           Solex     Standard           low       medium   \n",
       "19893     Approved           Solex         Road        medium        small   \n",
       "13037     Approved  Giant Bicycles     Standard        medium        large   \n",
       "2135      Approved  Giant Bicycles     Standard        medium        large   \n",
       "\n",
       "       list_price  standard_cost  product_first_sold_date  \n",
       "6761       441.49          84.99                  34071.0  \n",
       "1290      1289.85          74.51                  41064.0  \n",
       "19893     1703.52        1516.13                  33549.0  \n",
       "13037     1765.30         709.48                  38193.0  \n",
       "2135      1812.75         582.48                  40336.0  "
>>>>>>> e14b551b545e52c22207d678cf564683de5c237a
      ]
     },
     "execution_count": 47,
     "metadata": {},
     "output_type": "execute_result"
    }
   ],
   "source": [
    "# Viewing transactions dataset\n",
    "transactions.sample(5)"
   ]
  },
  {
   "cell_type": "code",
   "execution_count": 48,
   "metadata": {},
   "outputs": [
    {
     "data": {
      "text/html": [
       "<div>\n",
       "<style scoped>\n",
       "    .dataframe tbody tr th:only-of-type {\n",
       "        vertical-align: middle;\n",
       "    }\n",
       "\n",
       "    .dataframe tbody tr th {\n",
       "        vertical-align: top;\n",
       "    }\n",
       "\n",
       "    .dataframe thead th {\n",
       "        text-align: right;\n",
       "    }\n",
       "</style>\n",
       "<table border=\"1\" class=\"dataframe\">\n",
       "  <thead>\n",
       "    <tr style=\"text-align: right;\">\n",
       "      <th></th>\n",
       "      <th>customer_id</th>\n",
       "      <th>address</th>\n",
       "      <th>postcode</th>\n",
       "      <th>state</th>\n",
       "      <th>country</th>\n",
       "      <th>property_valuation</th>\n",
       "    </tr>\n",
       "  </thead>\n",
       "  <tbody>\n",
       "    <tr>\n",
<<<<<<< HEAD
       "      <th>3184</th>\n",
       "      <td>3189</td>\n",
       "      <td>69 Huxley Lane</td>\n",
       "      <td>4205</td>\n",
       "      <td>QLD</td>\n",
       "      <td>Australia</td>\n",
       "      <td>3</td>\n",
       "    </tr>\n",
       "    <tr>\n",
       "      <th>2969</th>\n",
       "      <td>2974</td>\n",
       "      <td>98 Tomscot Center</td>\n",
       "      <td>3442</td>\n",
       "      <td>VIC</td>\n",
       "      <td>Australia</td>\n",
       "      <td>7</td>\n",
       "    </tr>\n",
       "    <tr>\n",
       "      <th>3075</th>\n",
       "      <td>3080</td>\n",
       "      <td>0680 Veith Court</td>\n",
       "      <td>3939</td>\n",
       "      <td>VIC</td>\n",
       "      <td>Australia</td>\n",
       "      <td>8</td>\n",
       "    </tr>\n",
       "    <tr>\n",
       "      <th>3494</th>\n",
       "      <td>3499</td>\n",
       "      <td>310 Stephen Terrace</td>\n",
       "      <td>4073</td>\n",
       "      <td>QLD</td>\n",
       "      <td>Australia</td>\n",
       "      <td>9</td>\n",
       "    </tr>\n",
       "    <tr>\n",
       "      <th>1639</th>\n",
       "      <td>1644</td>\n",
       "      <td>4 Mariners Cove Street</td>\n",
       "      <td>2043</td>\n",
       "      <td>NSW</td>\n",
       "      <td>Australia</td>\n",
       "      <td>9</td>\n",
=======
       "      <th>2374</th>\n",
       "      <td>2379</td>\n",
       "      <td>5390 Park Meadow Park</td>\n",
       "      <td>2222</td>\n",
       "      <td>NSW</td>\n",
       "      <td>Australia</td>\n",
       "      <td>10</td>\n",
       "    </tr>\n",
       "    <tr>\n",
       "      <th>1307</th>\n",
       "      <td>1312</td>\n",
       "      <td>764 Dahle Alley</td>\n",
       "      <td>4115</td>\n",
       "      <td>QLD</td>\n",
       "      <td>Australia</td>\n",
       "      <td>8</td>\n",
       "    </tr>\n",
       "    <tr>\n",
       "      <th>1832</th>\n",
       "      <td>1837</td>\n",
       "      <td>46512 Cambridge Avenue</td>\n",
       "      <td>2759</td>\n",
       "      <td>NSW</td>\n",
       "      <td>Australia</td>\n",
       "      <td>8</td>\n",
       "    </tr>\n",
       "    <tr>\n",
       "      <th>1665</th>\n",
       "      <td>1670</td>\n",
       "      <td>59 Steensland Alley</td>\n",
       "      <td>2018</td>\n",
       "      <td>NSW</td>\n",
       "      <td>Australia</td>\n",
       "      <td>11</td>\n",
       "    </tr>\n",
       "    <tr>\n",
       "      <th>2681</th>\n",
       "      <td>2686</td>\n",
       "      <td>16639 Bunting Circle</td>\n",
       "      <td>3174</td>\n",
       "      <td>VIC</td>\n",
       "      <td>Australia</td>\n",
       "      <td>8</td>\n",
>>>>>>> e14b551b545e52c22207d678cf564683de5c237a
       "    </tr>\n",
       "  </tbody>\n",
       "</table>\n",
       "</div>"
      ],
      "text/plain": [
       "      customer_id                 address  postcode state    country  \\\n",
<<<<<<< HEAD
       "3184         3189          69 Huxley Lane      4205   QLD  Australia   \n",
       "2969         2974       98 Tomscot Center      3442   VIC  Australia   \n",
       "3075         3080        0680 Veith Court      3939   VIC  Australia   \n",
       "3494         3499     310 Stephen Terrace      4073   QLD  Australia   \n",
       "1639         1644  4 Mariners Cove Street      2043   NSW  Australia   \n",
       "\n",
       "      property_valuation  \n",
       "3184                   3  \n",
       "2969                   7  \n",
       "3075                   8  \n",
       "3494                   9  \n",
       "1639                   9  "
=======
       "2374         2379   5390 Park Meadow Park      2222   NSW  Australia   \n",
       "1307         1312         764 Dahle Alley      4115   QLD  Australia   \n",
       "1832         1837  46512 Cambridge Avenue      2759   NSW  Australia   \n",
       "1665         1670     59 Steensland Alley      2018   NSW  Australia   \n",
       "2681         2686    16639 Bunting Circle      3174   VIC  Australia   \n",
       "\n",
       "      property_valuation  \n",
       "2374                  10  \n",
       "1307                   8  \n",
       "1832                   8  \n",
       "1665                  11  \n",
       "2681                   8  "
>>>>>>> e14b551b545e52c22207d678cf564683de5c237a
      ]
     },
     "execution_count": 48,
     "metadata": {},
     "output_type": "execute_result"
    }
   ],
   "source": [
    "# Viewing customer address dataset\n",
    "customer_address.sample(5)"
   ]
  },
  {
   "cell_type": "code",
   "execution_count": 49,
   "metadata": {},
   "outputs": [
    {
     "data": {
      "text/html": [
       "<div>\n",
       "<style scoped>\n",
       "    .dataframe tbody tr th:only-of-type {\n",
       "        vertical-align: middle;\n",
       "    }\n",
       "\n",
       "    .dataframe tbody tr th {\n",
       "        vertical-align: top;\n",
       "    }\n",
       "\n",
       "    .dataframe thead th {\n",
       "        text-align: right;\n",
       "    }\n",
       "</style>\n",
       "<table border=\"1\" class=\"dataframe\">\n",
       "  <thead>\n",
       "    <tr style=\"text-align: right;\">\n",
       "      <th></th>\n",
       "      <th>customer_id</th>\n",
       "      <th>first_name</th>\n",
       "      <th>last_name</th>\n",
       "      <th>gender</th>\n",
       "      <th>past_3_years_bike_related_purchases</th>\n",
       "      <th>DOB</th>\n",
       "      <th>job_title</th>\n",
       "      <th>job_industry_category</th>\n",
       "      <th>wealth_segment</th>\n",
       "      <th>deceased_indicator</th>\n",
       "      <th>default</th>\n",
       "      <th>owns_car</th>\n",
       "      <th>tenure</th>\n",
       "    </tr>\n",
       "  </thead>\n",
       "  <tbody>\n",
       "    <tr>\n",
<<<<<<< HEAD
       "      <th>919</th>\n",
       "      <td>920</td>\n",
       "      <td>Stefano</td>\n",
       "      <td>Thornborrow</td>\n",
       "      <td>Male</td>\n",
       "      <td>89</td>\n",
       "      <td>1976-01-19 00:00:00</td>\n",
       "      <td>Software Test Engineer IV</td>\n",
       "      <td>Health</td>\n",
       "      <td>Mass Customer</td>\n",
       "      <td>N</td>\n",
       "      <td>ç°ä¸­ããã«ããã¦ä¸ãã</td>\n",
       "      <td>Yes</td>\n",
       "      <td>19.0</td>\n",
       "    </tr>\n",
       "    <tr>\n",
       "      <th>709</th>\n",
       "      <td>710</td>\n",
       "      <td>Benton</td>\n",
       "      <td>Oakly</td>\n",
       "      <td>Male</td>\n",
       "      <td>76</td>\n",
       "      <td>1970-03-01 00:00:00</td>\n",
       "      <td>Sales Representative</td>\n",
       "      <td>Retail</td>\n",
       "      <td>High Net Worth</td>\n",
       "      <td>N</td>\n",
       "      <td>Ì¦HÍÌ¬Ì¤ÌÌ¤eÍ ÍÌÌ¥ÌÌ»ÍÌwÌhÌÌ¯ÍoÌÍÌÍÌ±Ì® ÒÌºÌÌÌ...</td>\n",
       "      <td>Yes</td>\n",
       "      <td>13.0</td>\n",
       "    </tr>\n",
       "    <tr>\n",
       "      <th>1693</th>\n",
       "      <td>1694</td>\n",
       "      <td>Tonnie</td>\n",
       "      <td>McLinden</td>\n",
       "      <td>Male</td>\n",
       "      <td>11</td>\n",
       "      <td>1959-10-11 00:00:00</td>\n",
       "      <td>NaN</td>\n",
       "      <td>IT</td>\n",
       "      <td>Mass Customer</td>\n",
       "      <td>N</td>\n",
       "      <td>á</td>\n",
=======
       "      <th>1792</th>\n",
       "      <td>1793</td>\n",
       "      <td>Hewett</td>\n",
       "      <td>Handes</td>\n",
       "      <td>Male</td>\n",
       "      <td>19</td>\n",
       "      <td>1989-06-14 00:00:00</td>\n",
       "      <td>Actuary</td>\n",
       "      <td>Financial Services</td>\n",
       "      <td>Mass Customer</td>\n",
       "      <td>N</td>\n",
       "      <td>Ì¡ÍÍÌIÍÌÌÌ¦nÍÍÍvÌ®Ì«okÌ²Ì«ÌÍiÌÍÌ­Ì¹Ì ÌnÌ¡Ì»Ì®Ì...</td>\n",
       "      <td>Yes</td>\n",
       "      <td>2.0</td>\n",
       "    </tr>\n",
       "    <tr>\n",
       "      <th>606</th>\n",
       "      <td>607</td>\n",
       "      <td>Adelaida</td>\n",
       "      <td>Redmond</td>\n",
       "      <td>Female</td>\n",
       "      <td>55</td>\n",
       "      <td>1976-08-10 00:00:00</td>\n",
       "      <td>Dental Hygienist</td>\n",
       "      <td>Health</td>\n",
       "      <td>Mass Customer</td>\n",
       "      <td>N</td>\n",
       "      <td>-100</td>\n",
       "      <td>No</td>\n",
       "      <td>15.0</td>\n",
       "    </tr>\n",
       "    <tr>\n",
       "      <th>1876</th>\n",
       "      <td>1877</td>\n",
       "      <td>Radcliffe</td>\n",
       "      <td>Bartolomeoni</td>\n",
       "      <td>Male</td>\n",
       "      <td>13</td>\n",
       "      <td>1966-09-09 00:00:00</td>\n",
       "      <td>Associate Professor</td>\n",
       "      <td>Financial Services</td>\n",
       "      <td>High Net Worth</td>\n",
       "      <td>N</td>\n",
       "      <td>'</td>\n",
       "      <td>Yes</td>\n",
       "      <td>16.0</td>\n",
       "    </tr>\n",
       "    <tr>\n",
       "      <th>1918</th>\n",
       "      <td>1919</td>\n",
       "      <td>Bartie</td>\n",
       "      <td>Hartburn</td>\n",
       "      <td>Male</td>\n",
       "      <td>40</td>\n",
       "      <td>1960-12-23 00:00:00</td>\n",
       "      <td>VP Product Management</td>\n",
       "      <td>Argiculture</td>\n",
       "      <td>Mass Customer</td>\n",
       "      <td>N</td>\n",
       "      <td>Ù¡Ù¢Ù£</td>\n",
>>>>>>> e14b551b545e52c22207d678cf564683de5c237a
       "      <td>Yes</td>\n",
       "      <td>19.0</td>\n",
       "    </tr>\n",
       "    <tr>\n",
<<<<<<< HEAD
       "      <th>984</th>\n",
       "      <td>985</td>\n",
       "      <td>Aryn</td>\n",
       "      <td>O'Halloran</td>\n",
       "      <td>Female</td>\n",
       "      <td>29</td>\n",
       "      <td>1970-09-30 00:00:00</td>\n",
       "      <td>Help Desk Operator</td>\n",
       "      <td>Retail</td>\n",
       "      <td>High Net Worth</td>\n",
       "      <td>N</td>\n",
       "      <td>ì¬íê³¼íì ì´íì°êµ¬ì</td>\n",
       "      <td>No</td>\n",
       "      <td>15.0</td>\n",
       "    </tr>\n",
       "    <tr>\n",
       "      <th>1292</th>\n",
       "      <td>1293</td>\n",
       "      <td>Vidovic</td>\n",
       "      <td>Fretson</td>\n",
       "      <td>Male</td>\n",
       "      <td>89</td>\n",
       "      <td>1980-10-07 00:00:00</td>\n",
       "      <td>Quality Engineer</td>\n",
       "      <td>IT</td>\n",
       "      <td>Mass Customer</td>\n",
       "      <td>N</td>\n",
       "      <td>ËÉnbá´lÉ ÉuÆÉÉ¯ ÇÉ¹olop ÊÇ ÇÉ¹oqÉl Ên Êunpá´pá...</td>\n",
       "      <td>No</td>\n",
       "      <td>8.0</td>\n",
=======
       "      <th>1844</th>\n",
       "      <td>1845</td>\n",
       "      <td>Pascal</td>\n",
       "      <td>Veronique</td>\n",
       "      <td>Male</td>\n",
       "      <td>34</td>\n",
       "      <td>1978-01-16 00:00:00</td>\n",
       "      <td>General Manager</td>\n",
       "      <td>Financial Services</td>\n",
       "      <td>Mass Customer</td>\n",
       "      <td>N</td>\n",
       "      <td>â©testâ©</td>\n",
       "      <td>No</td>\n",
       "      <td>6.0</td>\n",
>>>>>>> e14b551b545e52c22207d678cf564683de5c237a
       "    </tr>\n",
       "  </tbody>\n",
       "</table>\n",
       "</div>"
      ],
      "text/plain": [
<<<<<<< HEAD
       "      customer_id first_name    last_name  gender  \\\n",
       "919           920    Stefano  Thornborrow    Male   \n",
       "709           710     Benton        Oakly    Male   \n",
       "1693         1694     Tonnie     McLinden    Male   \n",
       "984           985       Aryn   O'Halloran  Female   \n",
       "1292         1293    Vidovic      Fretson    Male   \n",
       "\n",
       "      past_3_years_bike_related_purchases                  DOB  \\\n",
       "919                                    89  1976-01-19 00:00:00   \n",
       "709                                    76  1970-03-01 00:00:00   \n",
       "1693                                   11  1959-10-11 00:00:00   \n",
       "984                                    29  1970-09-30 00:00:00   \n",
       "1292                                   89  1980-10-07 00:00:00   \n",
       "\n",
       "                      job_title job_industry_category  wealth_segment  \\\n",
       "919   Software Test Engineer IV                Health   Mass Customer   \n",
       "709        Sales Representative                Retail  High Net Worth   \n",
       "1693                        NaN                    IT   Mass Customer   \n",
       "984          Help Desk Operator                Retail  High Net Worth   \n",
       "1292           Quality Engineer                    IT   Mass Customer   \n",
       "\n",
       "     deceased_indicator                                            default  \\\n",
       "919                   N                                  ç°ä¸­ããã«ããã¦ä¸ãã   \n",
       "709                   N  Ì¦HÍÌ¬Ì¤ÌÌ¤eÍ ÍÌÌ¥ÌÌ»ÍÌwÌhÌÌ¯ÍoÌÍÌÍÌ±Ì® ÒÌºÌÌÌ...   \n",
       "1693                  N                                                  á   \n",
       "984                   N                                 ì¬íê³¼íì ì´íì°êµ¬ì   \n",
       "1292                  N  ËÉnbá´lÉ ÉuÆÉÉ¯ ÇÉ¹olop ÊÇ ÇÉ¹oqÉl Ên Êunpá´pá...   \n",
       "\n",
       "     owns_car  tenure  \n",
       "919       Yes    19.0  \n",
       "709       Yes    13.0  \n",
       "1693      Yes    19.0  \n",
       "984        No    15.0  \n",
       "1292       No     8.0  "
=======
       "      customer_id first_name     last_name  gender  \\\n",
       "1792         1793     Hewett        Handes    Male   \n",
       "606           607   Adelaida       Redmond  Female   \n",
       "1876         1877  Radcliffe  Bartolomeoni    Male   \n",
       "1918         1919     Bartie      Hartburn    Male   \n",
       "1844         1845     Pascal     Veronique    Male   \n",
       "\n",
       "      past_3_years_bike_related_purchases                  DOB  \\\n",
       "1792                                   19  1989-06-14 00:00:00   \n",
       "606                                    55  1976-08-10 00:00:00   \n",
       "1876                                   13  1966-09-09 00:00:00   \n",
       "1918                                   40  1960-12-23 00:00:00   \n",
       "1844                                   34  1978-01-16 00:00:00   \n",
       "\n",
       "                  job_title job_industry_category  wealth_segment  \\\n",
       "1792                Actuary    Financial Services   Mass Customer   \n",
       "606        Dental Hygienist                Health   Mass Customer   \n",
       "1876    Associate Professor    Financial Services  High Net Worth   \n",
       "1918  VP Product Management           Argiculture   Mass Customer   \n",
       "1844        General Manager    Financial Services   Mass Customer   \n",
       "\n",
       "     deceased_indicator                                            default  \\\n",
       "1792                  N  Ì¡ÍÍÌIÍÌÌÌ¦nÍÍÍvÌ®Ì«okÌ²Ì«ÌÍiÌÍÌ­Ì¹Ì ÌnÌ¡Ì»Ì®Ì...   \n",
       "606                   N                                               -100   \n",
       "1876                  N                                                  '   \n",
       "1918                  N                                             Ù¡Ù¢Ù£   \n",
       "1844                  N                                           â©testâ©   \n",
       "\n",
       "     owns_car  tenure  \n",
       "1792      Yes     2.0  \n",
       "606        No    15.0  \n",
       "1876      Yes    16.0  \n",
       "1918      Yes    19.0  \n",
       "1844       No     6.0  "
>>>>>>> e14b551b545e52c22207d678cf564683de5c237a
      ]
     },
     "execution_count": 49,
     "metadata": {},
     "output_type": "execute_result"
    }
   ],
   "source": [
    "# Viewing customer demographic dataset\n",
    "customer_demographic.sample(5)"
   ]
  },
  {
   "cell_type": "code",
   "execution_count": 50,
   "metadata": {},
   "outputs": [
    {
     "data": {
      "text/html": [
       "<div>\n",
       "<style scoped>\n",
       "    .dataframe tbody tr th:only-of-type {\n",
       "        vertical-align: middle;\n",
       "    }\n",
       "\n",
       "    .dataframe tbody tr th {\n",
       "        vertical-align: top;\n",
       "    }\n",
       "\n",
       "    .dataframe thead th {\n",
       "        text-align: right;\n",
       "    }\n",
       "</style>\n",
       "<table border=\"1\" class=\"dataframe\">\n",
       "  <thead>\n",
       "    <tr style=\"text-align: right;\">\n",
       "      <th></th>\n",
       "      <th>first_name</th>\n",
       "      <th>last_name</th>\n",
       "      <th>gender</th>\n",
       "      <th>past_3_years_bike_related_purchases</th>\n",
       "      <th>DOB</th>\n",
       "      <th>job_title</th>\n",
       "      <th>job_industry_category</th>\n",
       "      <th>wealth_segment</th>\n",
       "      <th>deceased_indicator</th>\n",
       "      <th>owns_car</th>\n",
       "      <th>tenure</th>\n",
       "      <th>address</th>\n",
       "      <th>postcode</th>\n",
       "      <th>state</th>\n",
       "      <th>country</th>\n",
       "      <th>property_valuation</th>\n",
       "      <th>Unnamed: 16</th>\n",
       "      <th>Unnamed: 17</th>\n",
       "      <th>Unnamed: 18</th>\n",
       "      <th>Unnamed: 19</th>\n",
       "      <th>Unnamed: 20</th>\n",
       "      <th>Rank</th>\n",
       "      <th>Value</th>\n",
       "    </tr>\n",
       "  </thead>\n",
       "  <tbody>\n",
       "    <tr>\n",
<<<<<<< HEAD
       "      <th>165</th>\n",
       "      <td>Robert</td>\n",
       "      <td>Corkill</td>\n",
       "      <td>Male</td>\n",
       "      <td>55</td>\n",
       "      <td>1976-03-12</td>\n",
       "      <td>Clinical Specialist</td>\n",
       "      <td>Health</td>\n",
       "      <td>Mass Customer</td>\n",
       "      <td>N</td>\n",
       "      <td>No</td>\n",
       "      <td>4</td>\n",
       "      <td>5612 Toban Point</td>\n",
       "      <td>2227</td>\n",
       "      <td>NSW</td>\n",
       "      <td>Australia</td>\n",
       "      <td>10</td>\n",
       "      <td>0.89</td>\n",
       "      <td>0.8900</td>\n",
       "      <td>1.1125</td>\n",
       "      <td>0.945625</td>\n",
       "      <td>166</td>\n",
       "      <td>166</td>\n",
       "      <td>1.1750</td>\n",
       "    </tr>\n",
       "    <tr>\n",
       "      <th>636</th>\n",
       "      <td>Menard</td>\n",
       "      <td>Venmore</td>\n",
       "      <td>Male</td>\n",
       "      <td>97</td>\n",
       "      <td>1978-04-04</td>\n",
       "      <td>Assistant Professor</td>\n",
       "      <td>Retail</td>\n",
       "      <td>High Net Worth</td>\n",
       "      <td>N</td>\n",
       "      <td>No</td>\n",
       "      <td>8</td>\n",
       "      <td>5 Hoard Trail</td>\n",
       "      <td>2197</td>\n",
       "      <td>NSW</td>\n",
       "      <td>Australia</td>\n",
       "      <td>10</td>\n",
       "      <td>0.99</td>\n",
       "      <td>0.9900</td>\n",
       "      <td>1.2375</td>\n",
       "      <td>1.237500</td>\n",
       "      <td>637</td>\n",
       "      <td>637</td>\n",
       "      <td>0.7375</td>\n",
       "    </tr>\n",
       "    <tr>\n",
       "      <th>430</th>\n",
       "      <td>Kipper</td>\n",
       "      <td>Circuit</td>\n",
       "      <td>Male</td>\n",
       "      <td>23</td>\n",
       "      <td>1974-12-12</td>\n",
       "      <td>Research Assistant IV</td>\n",
       "      <td>Argiculture</td>\n",
       "      <td>Mass Customer</td>\n",
       "      <td>N</td>\n",
       "      <td>Yes</td>\n",
       "      <td>4</td>\n",
       "      <td>3867 Barby Hill</td>\n",
       "      <td>2140</td>\n",
       "      <td>NSW</td>\n",
       "      <td>Australia</td>\n",
       "      <td>8</td>\n",
       "      <td>0.91</td>\n",
       "      <td>1.1375</td>\n",
       "      <td>1.1375</td>\n",
       "      <td>0.966875</td>\n",
       "      <td>430</td>\n",
       "      <td>430</td>\n",
       "      <td>0.9095</td>\n",
=======
       "      <th>296</th>\n",
       "      <td>Rupert</td>\n",
       "      <td>Marrow</td>\n",
       "      <td>Male</td>\n",
       "      <td>73</td>\n",
       "      <td>1970-08-08</td>\n",
       "      <td>NaN</td>\n",
       "      <td>Property</td>\n",
       "      <td>High Net Worth</td>\n",
       "      <td>N</td>\n",
       "      <td>No</td>\n",
       "      <td>19</td>\n",
       "      <td>2 7th Way</td>\n",
       "      <td>2760</td>\n",
       "      <td>NSW</td>\n",
       "      <td>Australia</td>\n",
       "      <td>8</td>\n",
       "      <td>0.86</td>\n",
       "      <td>0.86</td>\n",
       "      <td>0.86</td>\n",
       "      <td>0.86</td>\n",
       "      <td>297</td>\n",
       "      <td>297</td>\n",
       "      <td>1.030625</td>\n",
       "    </tr>\n",
       "    <tr>\n",
       "      <th>649</th>\n",
       "      <td>Truman</td>\n",
       "      <td>Arlett</td>\n",
       "      <td>Male</td>\n",
       "      <td>58</td>\n",
       "      <td>1958-06-25</td>\n",
       "      <td>Technical Writer</td>\n",
       "      <td>Manufacturing</td>\n",
       "      <td>High Net Worth</td>\n",
       "      <td>N</td>\n",
       "      <td>Yes</td>\n",
       "      <td>16</td>\n",
       "      <td>3 Spohn Circle</td>\n",
       "      <td>2477</td>\n",
       "      <td>NSW</td>\n",
       "      <td>Australia</td>\n",
       "      <td>5</td>\n",
       "      <td>0.40</td>\n",
       "      <td>0.50</td>\n",
       "      <td>0.50</td>\n",
       "      <td>0.50</td>\n",
       "      <td>648</td>\n",
       "      <td>648</td>\n",
       "      <td>0.725000</td>\n",
       "    </tr>\n",
       "    <tr>\n",
       "      <th>760</th>\n",
       "      <td>Leighton</td>\n",
       "      <td>Firbanks</td>\n",
       "      <td>Male</td>\n",
       "      <td>51</td>\n",
       "      <td>1973-12-22 00:00:00</td>\n",
       "      <td>Teacher</td>\n",
       "      <td>Retail</td>\n",
       "      <td>Affluent Customer</td>\n",
       "      <td>N</td>\n",
       "      <td>No</td>\n",
       "      <td>21</td>\n",
       "      <td>7234 Sycamore Pass</td>\n",
       "      <td>4178</td>\n",
       "      <td>QLD</td>\n",
       "      <td>Australia</td>\n",
       "      <td>3</td>\n",
       "      <td>0.94</td>\n",
       "      <td>0.94</td>\n",
       "      <td>0.94</td>\n",
       "      <td>0.94</td>\n",
       "      <td>760</td>\n",
       "      <td>760</td>\n",
       "      <td>0.637500</td>\n",
>>>>>>> e14b551b545e52c22207d678cf564683de5c237a
       "    </tr>\n",
       "  </tbody>\n",
       "</table>\n",
       "</div>"
      ],
      "text/plain": [
       "    first_name last_name gender  past_3_years_bike_related_purchases  \\\n",
<<<<<<< HEAD
       "165     Robert   Corkill   Male                                   55   \n",
       "636     Menard   Venmore   Male                                   97   \n",
       "430     Kipper   Circuit   Male                                   23   \n",
       "\n",
       "            DOB              job_title job_industry_category  wealth_segment  \\\n",
       "165  1976-03-12    Clinical Specialist                Health   Mass Customer   \n",
       "636  1978-04-04    Assistant Professor                Retail  High Net Worth   \n",
       "430  1974-12-12  Research Assistant IV           Argiculture   Mass Customer   \n",
       "\n",
       "    deceased_indicator owns_car  tenure           address  postcode state  \\\n",
       "165                  N       No       4  5612 Toban Point      2227   NSW   \n",
       "636                  N       No       8     5 Hoard Trail      2197   NSW   \n",
       "430                  N      Yes       4   3867 Barby Hill      2140   NSW   \n",
       "\n",
       "       country  property_valuation  Unnamed: 16  Unnamed: 17  Unnamed: 18  \\\n",
       "165  Australia                  10         0.89       0.8900       1.1125   \n",
       "636  Australia                  10         0.99       0.9900       1.2375   \n",
       "430  Australia                   8         0.91       1.1375       1.1375   \n",
       "\n",
       "     Unnamed: 19  Unnamed: 20  Rank   Value  \n",
       "165     0.945625          166   166  1.1750  \n",
       "636     1.237500          637   637  0.7375  \n",
       "430     0.966875          430   430  0.9095  "
=======
       "296     Rupert    Marrow   Male                                   73   \n",
       "649     Truman    Arlett   Male                                   58   \n",
       "760   Leighton  Firbanks   Male                                   51   \n",
       "\n",
       "                     DOB         job_title job_industry_category  \\\n",
       "296           1970-08-08               NaN              Property   \n",
       "649           1958-06-25  Technical Writer         Manufacturing   \n",
       "760  1973-12-22 00:00:00           Teacher                Retail   \n",
       "\n",
       "        wealth_segment deceased_indicator owns_car  tenure  \\\n",
       "296     High Net Worth                  N       No      19   \n",
       "649     High Net Worth                  N      Yes      16   \n",
       "760  Affluent Customer                  N       No      21   \n",
       "\n",
       "                address  postcode state    country  property_valuation  \\\n",
       "296           2 7th Way      2760   NSW  Australia                   8   \n",
       "649      3 Spohn Circle      2477   NSW  Australia                   5   \n",
       "760  7234 Sycamore Pass      4178   QLD  Australia                   3   \n",
       "\n",
       "     Unnamed: 16  Unnamed: 17  Unnamed: 18  Unnamed: 19  Unnamed: 20  Rank  \\\n",
       "296         0.86         0.86         0.86         0.86          297   297   \n",
       "649         0.40         0.50         0.50         0.50          648   648   \n",
       "760         0.94         0.94         0.94         0.94          760   760   \n",
       "\n",
       "        Value  \n",
       "296  1.030625  \n",
       "649  0.725000  \n",
       "760  0.637500  "
>>>>>>> e14b551b545e52c22207d678cf564683de5c237a
      ]
     },
     "execution_count": 50,
     "metadata": {},
     "output_type": "execute_result"
    }
   ],
   "source": [
    "customer_list.sample(3)"
   ]
  },
  {
   "cell_type": "code",
   "execution_count": 51,
   "metadata": {},
   "outputs": [
    {
     "name": "stdout",
     "output_type": "stream",
     "text": [
      "<class 'pandas.core.frame.DataFrame'>\n",
      "RangeIndex: 20000 entries, 0 to 19999\n",
      "Data columns (total 13 columns):\n",
      " #   Column                   Non-Null Count  Dtype         \n",
      "---  ------                   --------------  -----         \n",
      " 0   transaction_id           20000 non-null  int64         \n",
      " 1   product_id               20000 non-null  int64         \n",
      " 2   customer_id              20000 non-null  int64         \n",
      " 3   transaction_date         20000 non-null  datetime64[ns]\n",
      " 4   online_order             19640 non-null  float64       \n",
      " 5   order_status             20000 non-null  object        \n",
      " 6   brand                    19803 non-null  object        \n",
      " 7   product_line             19803 non-null  object        \n",
      " 8   product_class            19803 non-null  object        \n",
      " 9   product_size             19803 non-null  object        \n",
      " 10  list_price               20000 non-null  float64       \n",
      " 11  standard_cost            19803 non-null  float64       \n",
      " 12  product_first_sold_date  19803 non-null  float64       \n",
      "dtypes: datetime64[ns](1), float64(4), int64(3), object(5)\n",
      "memory usage: 2.0+ MB\n",
      "None\n",
      "<class 'pandas.core.frame.DataFrame'>\n",
      "RangeIndex: 3999 entries, 0 to 3998\n",
      "Data columns (total 6 columns):\n",
      " #   Column              Non-Null Count  Dtype \n",
      "---  ------              --------------  ----- \n",
      " 0   customer_id         3999 non-null   int64 \n",
      " 1   address             3999 non-null   object\n",
      " 2   postcode            3999 non-null   int64 \n",
      " 3   state               3999 non-null   object\n",
      " 4   country             3999 non-null   object\n",
      " 5   property_valuation  3999 non-null   int64 \n",
      "dtypes: int64(3), object(3)\n",
      "memory usage: 187.6+ KB\n",
      "None\n",
      "<class 'pandas.core.frame.DataFrame'>\n",
      "RangeIndex: 4000 entries, 0 to 3999\n",
      "Data columns (total 13 columns):\n",
      " #   Column                               Non-Null Count  Dtype  \n",
      "---  ------                               --------------  -----  \n",
      " 0   customer_id                          4000 non-null   int64  \n",
      " 1   first_name                           4000 non-null   object \n",
      " 2   last_name                            3875 non-null   object \n",
      " 3   gender                               4000 non-null   object \n",
      " 4   past_3_years_bike_related_purchases  4000 non-null   int64  \n",
      " 5   DOB                                  3913 non-null   object \n",
      " 6   job_title                            3494 non-null   object \n",
      " 7   job_industry_category                3344 non-null   object \n",
      " 8   wealth_segment                       4000 non-null   object \n",
      " 9   deceased_indicator                   4000 non-null   object \n",
      " 10  default                              3698 non-null   object \n",
      " 11  owns_car                             4000 non-null   object \n",
      " 12  tenure                               3913 non-null   float64\n",
      "dtypes: float64(1), int64(2), object(10)\n",
      "memory usage: 406.4+ KB\n",
      "None\n"
     ]
    }
   ],
   "source": [
    "# Checking the datatypes and number of records in the datasets\n",
    "for _ in Datasets:\n",
    "    print(_.info())"
   ]
  },
  {
   "cell_type": "code",
<<<<<<< HEAD
   "execution_count": 9,
=======
   "execution_count": 52,
>>>>>>> e14b551b545e52c22207d678cf564683de5c237a
   "metadata": {},
   "outputs": [
    {
     "name": "stdout",
     "output_type": "stream",
     "text": [
      "3494\n",
      "3999\n",
      "4000\n"
     ]
    }
   ],
   "source": [
    "for df in Datasets:\n",
    "    print(df.customer_id.nunique())"
   ]
  },
  {
   "cell_type": "code",
<<<<<<< HEAD
   "execution_count": 10,
=======
   "execution_count": 53,
>>>>>>> e14b551b545e52c22207d678cf564683de5c237a
   "metadata": {},
   "outputs": [],
   "source": [
    "# Renaming the past_3_years_bike_related_purchases\n",
    "customer_demographic.rename({'past_3_years_bike_related_purchases': 'past_3_years_purchases'}, axis=1, inplace=True)"
   ]
  },
  {
   "cell_type": "markdown",
   "metadata": {},
   "source": [
    "Columns of concern:\n",
    "\n",
    "- transactions['product_first_sold_date']\n",
    "- customer_demographic['default']\n",
    "- customer_demographic['DOB'] should be datetime format"
   ]
  },
  {
   "cell_type": "code",
<<<<<<< HEAD
   "execution_count": 11,
=======
   "execution_count": 54,
>>>>>>> e14b551b545e52c22207d678cf564683de5c237a
   "metadata": {},
   "outputs": [],
   "source": [
    "# Changing DOB to datetime data type\n",
    "customer_demographic['DOB'] = pd.to_datetime(customer_demographic['DOB'])"
   ]
  },
  {
   "cell_type": "code",
<<<<<<< HEAD
   "execution_count": 12,
=======
   "execution_count": 55,
>>>>>>> e14b551b545e52c22207d678cf564683de5c237a
   "metadata": {},
   "outputs": [
    {
     "name": "stdout",
     "output_type": "stream",
     "text": [
<<<<<<< HEAD
      "19285    35052.0\n",
      "19966    42295.0\n",
      "7364     41009.0\n",
      "Name: product_first_sold_date, dtype: float64 \n",
      "\n",
      "49                                    0/0\n",
      "963                    1;DROP TABLE users\n",
      "2494    <img src=x onerror=alert('hi') />\n",
=======
      "7291    40410.0\n",
      "4215    33552.0\n",
      "1016    35378.0\n",
      "Name: product_first_sold_date, dtype: float64 \n",
      "\n",
      "595               nil\n",
      "1809           Ù¡Ù¢Ù£\n",
      "1593    ï½ï½¨(Â´âï½â©\n",
>>>>>>> e14b551b545e52c22207d678cf564683de5c237a
      "Name: default, dtype: object\n"
     ]
    }
   ],
   "source": [
    "# Checking relevance of suspicious columns\n",
    "print(transactions['product_first_sold_date'].sample(3), '\\n')\n",
    "print(customer_demographic['default'].sample(3))"
   ]
  },
  {
   "cell_type": "code",
<<<<<<< HEAD
   "execution_count": 13,
=======
   "execution_count": 56,
>>>>>>> e14b551b545e52c22207d678cf564683de5c237a
   "metadata": {},
   "outputs": [],
   "source": [
    "# Dropping the investigated columns above\n",
    "transactions.drop('product_first_sold_date', axis=1, inplace=True)\n",
    "customer_demographic.drop('default', axis=1, inplace=True)\n",
    "\n",
    "# Dropping deceased customers\n",
    "customer_demographic = customer_demographic[~(customer_demographic['deceased_indicator'] == 'Y')].copy()"
   ]
  },
  {
   "cell_type": "markdown",
   "metadata": {},
   "source": [
    "### Missing Values Check\n",
    "\n",
    "Checking for the existance of missing values and dealing with them. I have mostly dropped the records with missing values."
   ]
  },
  {
   "cell_type": "code",
<<<<<<< HEAD
   "execution_count": 14,
=======
   "execution_count": 57,
>>>>>>> e14b551b545e52c22207d678cf564683de5c237a
   "metadata": {},
   "outputs": [
    {
     "name": "stdout",
     "output_type": "stream",
     "text": [
      "transaction_id      0.000\n",
      "product_id          0.000\n",
      "customer_id         0.000\n",
      "transaction_date    0.000\n",
      "online_order        1.800\n",
      "order_status        0.000\n",
      "brand               0.985\n",
      "product_line        0.985\n",
      "product_class       0.985\n",
      "product_size        0.985\n",
      "list_price          0.000\n",
      "standard_cost       0.985\n",
      "dtype: float64 \n",
      "\n",
      "customer_id           0.0\n",
      "address               0.0\n",
      "postcode              0.0\n",
      "state                 0.0\n",
      "country               0.0\n",
      "property_valuation    0.0\n",
      "dtype: float64 \n",
      "\n",
      "customer_id                0.000\n",
      "first_name                 0.000\n",
      "last_name                  3.125\n",
      "gender                     0.000\n",
      "past_3_years_purchases     0.000\n",
      "DOB                        2.175\n",
      "job_title                 12.650\n",
      "job_industry_category     16.400\n",
      "wealth_segment             0.000\n",
      "deceased_indicator         0.000\n",
      "owns_car                   0.000\n",
      "tenure                     2.175\n",
      "dtype: float64 \n",
      "\n"
     ]
    }
   ],
   "source": [
    "# Checking missing values in the datasets\n",
    "for df in Datasets:\n",
    "    print(df.isna().sum() / df.shape[0] * 100, '\\n')"
   ]
  },
  {
   "cell_type": "code",
<<<<<<< HEAD
   "execution_count": 15,
=======
   "execution_count": 58,
>>>>>>> e14b551b545e52c22207d678cf564683de5c237a
   "metadata": {},
   "outputs": [
    {
     "name": "stdout",
     "output_type": "stream",
     "text": [
      "195\n",
      "9\n"
     ]
    }
   ],
   "source": [
    "# Checking value counts for columns with high missing values\n",
    "columns_with_high_missing_values = ['job_title', 'job_industry_category']\n",
    "\n",
    "for col in columns_with_high_missing_values:\n",
    "    print(customer_demographic[col].nunique())"
   ]
  },
  {
   "cell_type": "markdown",
   "metadata": {},
   "source": [
    "**Conclusions:**\n",
    "\n",
    "Transactions Data\n",
    "\n",
    "- Brand and product related columns are difficult to fill considering the sensitivity of this information to the analysis. Therefore missing values will be dropped\n",
    "\n",
    "Customer Address Data has no missing values\n",
    "\n",
    "Customer Demographic \n",
    "\n",
    "- job related columns have a sizeable number of missing values, large number of categories and are sensitive to the analysis. Therefore, filling the values with the modal class isn't a good call. Thus I'm dropping the missing values.\n",
    "- DOB missing values should also be dropped."
   ]
  },
  {
   "cell_type": "code",
<<<<<<< HEAD
   "execution_count": 16,
=======
   "execution_count": 59,
>>>>>>> e14b551b545e52c22207d678cf564683de5c237a
   "metadata": {},
   "outputs": [],
   "source": [
    "# Dropping missing values\n",
    "transactions.dropna(subset=['brand', 'product_class', 'product_line', 'product_size'], inplace=True)\n",
    "customer_demographic.dropna(subset=['job_title', 'job_industry_category', 'DOB'], inplace=True)"
   ]
  },
  {
   "cell_type": "code",
<<<<<<< HEAD
   "execution_count": 17,
=======
   "execution_count": 60,
>>>>>>> e14b551b545e52c22207d678cf564683de5c237a
   "metadata": {},
   "outputs": [],
   "source": [
    "# # Rechecking the datatypes and number of records in the datasets\n",
    "# for df in Datasets:\n",
    "#     print(df.info())"
   ]
  },
  {
   "cell_type": "markdown",
   "metadata": {},
   "source": [
    "**Dataset datatypes classification.**\n",
    "\n",
    "Transactions\n",
    "\n",
    "- Numeric = transaction_id, product_id, customer_id, online_order, list_price, standard_cost\n",
    "- Datetime = transaction_date\n",
    "- Object = order_status, brand, product_line, product_class, product_size\n",
    "\n",
    "Customer Address\n",
    "- Numeric = customer_id, postcode, property_valuation\n",
    "- object = address, state, country\n",
    "\n",
    "Customer Demographic\n",
    "- Numeric = customer_id, past_3_years_purchases, tenure\n",
    "- Datetime = DOB\n",
    "- Object = first_name, last_name, gender, job_title, job_industry_category, wealth_segment, deceased_indicator"
   ]
  },
  {
   "cell_type": "code",
<<<<<<< HEAD
   "execution_count": 18,
=======
   "execution_count": 61,
>>>>>>> e14b551b545e52c22207d678cf564683de5c237a
   "metadata": {},
   "outputs": [
    {
     "name": "stdout",
     "output_type": "stream",
     "text": [
      "online_order\n",
      "1.0    0.500849\n",
      "0.0    0.499151\n",
      "Name: proportion, dtype: float64\n"
     ]
    },
    {
     "data": {
      "text/html": [
       "<div>\n",
       "<style scoped>\n",
       "    .dataframe tbody tr th:only-of-type {\n",
       "        vertical-align: middle;\n",
       "    }\n",
       "\n",
       "    .dataframe tbody tr th {\n",
       "        vertical-align: top;\n",
       "    }\n",
       "\n",
       "    .dataframe thead tr th {\n",
       "        text-align: left;\n",
       "    }\n",
       "\n",
       "    .dataframe thead tr:last-of-type th {\n",
       "        text-align: right;\n",
       "    }\n",
       "</style>\n",
       "<table border=\"1\" class=\"dataframe\">\n",
       "  <thead>\n",
       "    <tr>\n",
       "      <th></th>\n",
       "      <th colspan=\"8\" halign=\"left\">transaction_id</th>\n",
       "      <th colspan=\"8\" halign=\"left\">product_id</th>\n",
       "      <th colspan=\"8\" halign=\"left\">customer_id</th>\n",
       "      <th colspan=\"8\" halign=\"left\">transaction_date</th>\n",
       "      <th colspan=\"8\" halign=\"left\">list_price</th>\n",
       "      <th colspan=\"8\" halign=\"left\">standard_cost</th>\n",
       "    </tr>\n",
       "    <tr>\n",
       "      <th></th>\n",
       "      <th>count</th>\n",
       "      <th>mean</th>\n",
       "      <th>min</th>\n",
       "      <th>25%</th>\n",
       "      <th>50%</th>\n",
       "      <th>75%</th>\n",
       "      <th>max</th>\n",
       "      <th>std</th>\n",
       "      <th>count</th>\n",
       "      <th>mean</th>\n",
       "      <th>min</th>\n",
       "      <th>25%</th>\n",
       "      <th>50%</th>\n",
       "      <th>75%</th>\n",
       "      <th>max</th>\n",
       "      <th>std</th>\n",
       "      <th>count</th>\n",
       "      <th>mean</th>\n",
       "      <th>min</th>\n",
       "      <th>25%</th>\n",
       "      <th>50%</th>\n",
       "      <th>75%</th>\n",
       "      <th>max</th>\n",
       "      <th>std</th>\n",
       "      <th>count</th>\n",
       "      <th>mean</th>\n",
       "      <th>min</th>\n",
       "      <th>25%</th>\n",
       "      <th>50%</th>\n",
       "      <th>75%</th>\n",
       "      <th>max</th>\n",
       "      <th>std</th>\n",
       "      <th>count</th>\n",
       "      <th>mean</th>\n",
       "      <th>min</th>\n",
       "      <th>25%</th>\n",
       "      <th>50%</th>\n",
       "      <th>75%</th>\n",
       "      <th>max</th>\n",
       "      <th>std</th>\n",
       "      <th>count</th>\n",
       "      <th>mean</th>\n",
       "      <th>min</th>\n",
       "      <th>25%</th>\n",
       "      <th>50%</th>\n",
       "      <th>75%</th>\n",
       "      <th>max</th>\n",
       "      <th>std</th>\n",
       "    </tr>\n",
       "    <tr>\n",
       "      <th>online_order</th>\n",
       "      <th></th>\n",
       "      <th></th>\n",
       "      <th></th>\n",
       "      <th></th>\n",
       "      <th></th>\n",
       "      <th></th>\n",
       "      <th></th>\n",
       "      <th></th>\n",
       "      <th></th>\n",
       "      <th></th>\n",
       "      <th></th>\n",
       "      <th></th>\n",
       "      <th></th>\n",
       "      <th></th>\n",
       "      <th></th>\n",
       "      <th></th>\n",
       "      <th></th>\n",
       "      <th></th>\n",
       "      <th></th>\n",
       "      <th></th>\n",
       "      <th></th>\n",
       "      <th></th>\n",
       "      <th></th>\n",
       "      <th></th>\n",
       "      <th></th>\n",
       "      <th></th>\n",
       "      <th></th>\n",
       "      <th></th>\n",
       "      <th></th>\n",
       "      <th></th>\n",
       "      <th></th>\n",
       "      <th></th>\n",
       "      <th></th>\n",
       "      <th></th>\n",
       "      <th></th>\n",
       "      <th></th>\n",
       "      <th></th>\n",
       "      <th></th>\n",
       "      <th></th>\n",
       "      <th></th>\n",
       "      <th></th>\n",
       "      <th></th>\n",
       "      <th></th>\n",
       "      <th></th>\n",
       "      <th></th>\n",
       "      <th></th>\n",
       "      <th></th>\n",
       "      <th></th>\n",
       "    </tr>\n",
       "  </thead>\n",
       "  <tbody>\n",
       "    <tr>\n",
       "      <th>0.0</th>\n",
       "      <td>9706.0</td>\n",
       "      <td>9979.456110</td>\n",
       "      <td>1.0</td>\n",
       "      <td>5035.25</td>\n",
       "      <td>9991.0</td>\n",
       "      <td>14923.75</td>\n",
       "      <td>19999.0</td>\n",
       "      <td>5772.251852</td>\n",
       "      <td>9706.0</td>\n",
       "      <td>45.965279</td>\n",
       "      <td>0.0</td>\n",
       "      <td>18.0</td>\n",
       "      <td>45.0</td>\n",
       "      <td>73.0</td>\n",
       "      <td>100.0</td>\n",
       "      <td>30.719249</td>\n",
       "      <td>9706.0</td>\n",
       "      <td>1736.208531</td>\n",
       "      <td>1.0</td>\n",
       "      <td>847.0</td>\n",
       "      <td>1745.0</td>\n",
       "      <td>2616.0</td>\n",
       "      <td>5034.0</td>\n",
       "      <td>1014.436903</td>\n",
       "      <td>9706</td>\n",
       "      <td>2017-07-01 14:05:48.650319360</td>\n",
       "      <td>2017-01-01 00:00:00</td>\n",
       "      <td>2017-04-01 00:00:00</td>\n",
       "      <td>2017-07-03 00:00:00</td>\n",
       "      <td>2017-10-01 00:00:00</td>\n",
       "      <td>2017-12-30 00:00:00</td>\n",
       "      <td>NaN</td>\n",
       "      <td>9706.0</td>\n",
       "      <td>1107.878419</td>\n",
       "      <td>12.01</td>\n",
       "      <td>575.27</td>\n",
       "      <td>1163.89</td>\n",
       "      <td>1635.30</td>\n",
       "      <td>2091.47</td>\n",
       "      <td>583.423273</td>\n",
       "      <td>9706.0</td>\n",
       "      <td>552.768214</td>\n",
       "      <td>7.21</td>\n",
       "      <td>215.14</td>\n",
       "      <td>464.72</td>\n",
       "      <td>795.1</td>\n",
       "      <td>1759.85</td>\n",
       "      <td>402.784056</td>\n",
       "    </tr>\n",
       "    <tr>\n",
       "      <th>1.0</th>\n",
       "      <td>9739.0</td>\n",
       "      <td>9999.025465</td>\n",
       "      <td>2.0</td>\n",
       "      <td>4914.50</td>\n",
       "      <td>9981.0</td>\n",
       "      <td>15074.50</td>\n",
       "      <td>20000.0</td>\n",
       "      <td>5787.331583</td>\n",
       "      <td>9739.0</td>\n",
       "      <td>45.630763</td>\n",
       "      <td>0.0</td>\n",
       "      <td>19.0</td>\n",
       "      <td>45.0</td>\n",
       "      <td>72.0</td>\n",
       "      <td>100.0</td>\n",
       "      <td>30.425193</td>\n",
       "      <td>9739.0</td>\n",
       "      <td>1742.714960</td>\n",
       "      <td>1.0</td>\n",
       "      <td>865.0</td>\n",
       "      <td>1738.0</td>\n",
       "      <td>2611.0</td>\n",
       "      <td>3500.0</td>\n",
       "      <td>1009.385256</td>\n",
       "      <td>9739</td>\n",
       "      <td>2017-07-01 18:36:20.182770176</td>\n",
       "      <td>2017-01-01 00:00:00</td>\n",
       "      <td>2017-04-01 00:00:00</td>\n",
       "      <td>2017-07-03 00:00:00</td>\n",
       "      <td>2017-10-02 00:00:00</td>\n",
       "      <td>2017-12-30 00:00:00</td>\n",
       "      <td>NaN</td>\n",
       "      <td>9739.0</td>\n",
       "      <td>1106.797802</td>\n",
       "      <td>12.01</td>\n",
       "      <td>586.45</td>\n",
       "      <td>1163.89</td>\n",
       "      <td>1577.53</td>\n",
       "      <td>2091.47</td>\n",
       "      <td>581.932569</td>\n",
       "      <td>9739.0</td>\n",
       "      <td>558.392761</td>\n",
       "      <td>7.21</td>\n",
       "      <td>215.14</td>\n",
       "      <td>507.58</td>\n",
       "      <td>795.1</td>\n",
       "      <td>1759.85</td>\n",
       "      <td>408.381572</td>\n",
       "    </tr>\n",
       "  </tbody>\n",
       "</table>\n",
       "</div>"
      ],
      "text/plain": [
       "             transaction_id                                               \\\n",
       "                      count         mean  min      25%     50%       75%   \n",
       "online_order                                                               \n",
       "0.0                  9706.0  9979.456110  1.0  5035.25  9991.0  14923.75   \n",
       "1.0                  9739.0  9999.025465  2.0  4914.50  9981.0  15074.50   \n",
       "\n",
       "                                   product_id                              \\\n",
       "                  max          std      count       mean  min   25%   50%   \n",
       "online_order                                                                \n",
       "0.0           19999.0  5772.251852     9706.0  45.965279  0.0  18.0  45.0   \n",
       "1.0           20000.0  5787.331583     9739.0  45.630763  0.0  19.0  45.0   \n",
       "\n",
       "                                     customer_id                           \\\n",
       "               75%    max        std       count         mean  min    25%   \n",
       "online_order                                                                \n",
       "0.0           73.0  100.0  30.719249      9706.0  1736.208531  1.0  847.0   \n",
       "1.0           72.0  100.0  30.425193      9739.0  1742.714960  1.0  865.0   \n",
       "\n",
       "                                                  transaction_date  \\\n",
       "                 50%     75%     max          std            count   \n",
       "online_order                                                         \n",
       "0.0           1745.0  2616.0  5034.0  1014.436903             9706   \n",
       "1.0           1738.0  2611.0  3500.0  1009.385256             9739   \n",
       "\n",
       "                                                                  \\\n",
       "                                       mean                  min   \n",
       "online_order                                                       \n",
       "0.0           2017-07-01 14:05:48.650319360  2017-01-01 00:00:00   \n",
       "1.0           2017-07-01 18:36:20.182770176  2017-01-01 00:00:00   \n",
       "\n",
       "                                                                             \\\n",
       "                              25%                  50%                  75%   \n",
       "online_order                                                                  \n",
       "0.0           2017-04-01 00:00:00  2017-07-03 00:00:00  2017-10-01 00:00:00   \n",
       "1.0           2017-04-01 00:00:00  2017-07-03 00:00:00  2017-10-02 00:00:00   \n",
       "\n",
       "                                       list_price                              \\\n",
       "                              max  std      count         mean    min     25%   \n",
       "online_order                                                                    \n",
       "0.0           2017-12-30 00:00:00  NaN     9706.0  1107.878419  12.01  575.27   \n",
       "1.0           2017-12-30 00:00:00  NaN     9739.0  1106.797802  12.01  586.45   \n",
       "\n",
       "                                                    standard_cost              \\\n",
       "                  50%      75%      max         std         count        mean   \n",
       "online_order                                                                    \n",
       "0.0           1163.89  1635.30  2091.47  583.423273        9706.0  552.768214   \n",
       "1.0           1163.89  1577.53  2091.47  581.932569        9739.0  558.392761   \n",
       "\n",
       "                                                                \n",
       "               min     25%     50%    75%      max         std  \n",
       "online_order                                                    \n",
       "0.0           7.21  215.14  464.72  795.1  1759.85  402.784056  \n",
       "1.0           7.21  215.14  507.58  795.1  1759.85  408.381572  "
      ]
     },
<<<<<<< HEAD
     "execution_count": 18,
=======
     "execution_count": 61,
>>>>>>> e14b551b545e52c22207d678cf564683de5c237a
     "metadata": {},
     "output_type": "execute_result"
    }
   ],
   "source": [
    "# Checking the balance of classes in online_order column\n",
    "print(transactions['online_order'].value_counts(normalize=True))\n",
    "\n",
    "# Checking the description of columns having grouped the data by online_order\n",
    "transactions.groupby(by='online_order').describe()"
   ]
  },
  {
   "cell_type": "code",
<<<<<<< HEAD
   "execution_count": 19,
=======
   "execution_count": 62,
>>>>>>> e14b551b545e52c22207d678cf564683de5c237a
   "metadata": {},
   "outputs": [],
   "source": [
    "# Filling missing values in last name with 'unknown' as it's not logical to drop data because of missing name\n",
    "customer_demographic['last_name'].fillna(value='Unknown', inplace=True)"
   ]
  },
  {
   "cell_type": "markdown",
   "metadata": {},
   "source": [
    "All missing values in the datasets have been dealt with."
   ]
  },
  {
   "cell_type": "markdown",
   "metadata": {},
   "source": [
    "### Outliers Check\n",
    "\n",
    "Checking for the presence of outliers in the numeric values of the datasets."
   ]
  },
  {
   "cell_type": "code",
<<<<<<< HEAD
   "execution_count": 20,
=======
   "execution_count": 63,
>>>>>>> e14b551b545e52c22207d678cf564683de5c237a
   "metadata": {},
   "outputs": [],
   "source": [
    "# Lists of numeric columns in the datasets\n",
    "num_transactions = ['list_price', 'standard_cost', 'transaction_date']\n",
    "num_address = ['property_valuation']\n",
    "num_demographic = ['DOB', 'past_3_years_purchases', 'tenure']"
   ]
  },
  {
   "cell_type": "code",
<<<<<<< HEAD
   "execution_count": 21,
=======
   "execution_count": 64,
>>>>>>> e14b551b545e52c22207d678cf564683de5c237a
   "metadata": {},
   "outputs": [
    {
     "data": {
      "image/png": "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",
      "text/plain": [
       "<Figure size 640x480 with 1 Axes>"
      ]
     },
     "metadata": {},
     "output_type": "display_data"
    }
   ],
   "source": [
    "# Boxplots for transcations' numeric columns\n",
    "transactions[num_transactions].boxplot()\n",
    "plt.title('List_price and Standard_cost boxplot')\n",
    "plt.ylabel('Value')\n",
    "plt.show()"
   ]
  },
  {
   "cell_type": "code",
<<<<<<< HEAD
   "execution_count": 22,
=======
   "execution_count": 65,
>>>>>>> e14b551b545e52c22207d678cf564683de5c237a
   "metadata": {},
   "outputs": [
    {
     "data": {
      "image/png": "iVBORw0KGgoAAAANSUhEUgAAAjMAAAGxCAYAAACXwjeMAAAAOXRFWHRTb2Z0d2FyZQBNYXRwbG90bGliIHZlcnNpb24zLjcuMiwgaHR0cHM6Ly9tYXRwbG90bGliLm9yZy8pXeV/AAAACXBIWXMAAA9hAAAPYQGoP6dpAAAy/UlEQVR4nO3deXhU5d3/8c+QTIbs7EsgJAGURVnKpoCWUISKQsVWQKAK0lqsqChWLVUfQItU3OgjRcFWUATcWERwARFBBTSIuIEgPGwaI5ViVgmT5Pv7w1+mDkkgwcDMDe/XdeWK5z73uc93DrN8POfcGY+ZmQAAABxVI9QFAAAA/BSEGQAA4DTCDAAAcBphBgAAOI0wAwAAnEaYAQAATiPMAAAApxFmAACA0wgzAADAaYQZnHHmzp0rj8cT+ImMjFTTpk11zTXX6Kuvvgp1eScsMzNTkyZN0pYtW0JdykmRmpqqUaNGndR9rF+/XpMmTdJ3331XZl16errS09NP6v7L89Zbb8nj8ejFF1885fuurNLX1J49e6q87SuvvKJJkyZVe004sxBmcMaaM2eONmzYoFWrVunaa6/VwoULdeGFFyo/Pz/UpZ2QzMxMTZ48+bQNM6fC+vXrNXny5HLDzMyZMzVz5sxTX9Rp7pVXXtHkyZNDXQYcFxnqAoBQOffcc9WlSxdJUu/evVVcXKx7771XS5cu1YgRI8rdpqCgQDExMaeyzOMqLi5WUVFRqMs47bVt2zbUJQCoAGdmgP/v/PPPlyTt3btXkjRq1CjFxcXpk08+Ub9+/RQfH68+ffpIkv7zn//o+uuvV5MmTRQVFaXmzZvrzjvvVGFhYdCYHo9HN9xwg2bNmqWzzz5bPp9Pbdu21bPPPltm/1lZWRozZoyaNm2qqKgopaWlafLkyUFBZc+ePfJ4PJo2bZr++te/Ki0tTT6fT2vWrFHXrl0lSddcc03gEtqkSZM0b948eTwebdiwocw+77nnHnm9XmVmZlb6OB2vTr/frwYNGuiqq64qs+13332n6OhojR8/XpJ0+PBh3XrrrerYsaMSExNVp04dde/eXS+99NJx66jo0kbpZZm33nor0LZq1Spddtllatq0qWrWrKmWLVtqzJgx+vbbbwN9Jk2apNtuu02SlJaWFjiGpeOUd5mpqs+DefPmqU2bNoqJiVGHDh20fPny4z7OUocPH9b48ePVqFEjRUdHq1evXvrwww/L9Fu2bJm6d++umJgYxcfHq2/fvkH/9s8++6w8Ho9mzJgRtN3EiRMVERGhVatWSQp+rk2ZMkXNmjVTzZo11aVLF61evbpSNT/55JPq0KGDatasqTp16ujyyy/Xtm3bAutHjRqlf/zjH4FjVPpzIpercIYz4AwzZ84ck2QZGRlB7X//+99Nks2ePdvMzEaOHGler9dSU1Nt6tSptnr1anv99dft+++/t/bt21tsbKw9+OCDtnLlSrv77rstMjLSLrnkkqAxJVlycrK1bdvWFi5caMuWLbOLL77YJNkLL7wQ6Pf1119bcnKypaSk2KxZs+yNN96we++913w+n40aNSrQb/fu3SbJmjRpYr1797YXX3zRVq5caR999FHgcd111122YcMG27Bhg+3fv98KCwutUaNGNmLEiKDa/H6/JSUl2eDBgyt97Cpb5y233GLR0dGWnZ0dtP3MmTNNkn388cdmZvbdd9/ZqFGjbN68efbmm2/aa6+9Zn/605+sRo0a9tRTTwVtm5KSYiNHjgwslz7e3bt3B/Vbs2aNSbI1a9YE2h577DGbOnWqLVu2zNauXWtPPfWUdejQwVq1amVHjhwxM7P9+/fbjTfeaJJs8eLFgWNY+hh69eplvXr1CoxZ1edBamqqdevWzZ5//nl75ZVXLD093SIjI23Xrl3HPOaljyc5Odkuu+wye/nll+2ZZ56xli1bWkJCQtD28+fPN0nWr18/W7p0qT333HPWuXNni4qKsrfffjvQ77rrrrOoqKjAa2D16tVWo0YNu+uuuwJ9Sp9rycnJdsEFF9iiRYvshRdesK5du5rX67X169cf89/ivvvuM0k2bNgwW7FihT399NPWvHlzS0xMtB07dpiZ2c6dO+2KK64wSYHjvWHDBjt8+PAxjwlwNMIMzjilb7wbN240v99vubm5tnz5cqtfv77Fx8dbVlaWmf0QZiTZk08+GbT9448/bpLs+eefD2q///77TZKtXLky0CbJoqOjA2OamRUVFVnr1q2tZcuWgbYxY8ZYXFyc7d27N2jMBx980CTZZ599Zmb//YBp0aJF4EO4VEZGhkmyOXPmlHnMEydOtKioKPvmm28Cbc8995xJsrVr11bmsFWpzo8//jgoGJbq1q2bde7cucLxi4qKzO/32+9+9zv72c9+FrTup4SZHyspKTG/32979+41SfbSSy8F1j3wwAPljmlWNsxU9XnQsGFDy8nJCbRlZWVZjRo1bOrUqRUcjeDH06lTJyspKQm079mzx7xer/3+9783M7Pi4mJLSkqydu3aWXFxcaBfbm6uNWjQwHr06BFoO3z4sP3sZz+ztLQ027p1qzVs2NB69eplRUVFgT6lz7WkpCT7/vvvA+05OTlWp04du+iiiwJtR/9bHDp0yKKjo8uEun379pnP57Phw4cH2saOHWv8fzV+Ki4z4Yx1/vnny+v1Kj4+XgMGDFCjRo306quvqmHDhkH9fvOb3wQtv/nmm4qNjdUVV1wR1F460+boU/B9+vQJGjMiIkJDhw7Vzp079eWXX0qSli9frt69eyspKUlFRUWBn/79+0uS1q5dGzTmr371K3m93ko/1j/+8Y+SpCeeeCLQNmPGDLVr104///nPKz1OZets166dOnfurDlz5gS23bZtm95//32NHj06aMwXXnhBPXv2VFxcnCIjI+X1evWvf/0r6HLET3XgwAFdd911Sk5ODuwjJSUlUNeJqOrzoHfv3oqPjw8sN2zYUA0aNAhc1jye4cOHy+PxBJZTUlLUo0cPrVmzRpK0fft2ZWZm6qqrrlKNGv99a4+Li9NvfvMbbdy4UQUFBZIkn8+n559/XgcPHlSnTp1kZlq4cKEiIiLK7PfXv/61atasGViOj4/XwIEDtW7dOhUXF5db64YNG/T999+XmX2WnJysX/ziF5W+TAVUFmEGZ6ynn35aGRkZ+vDDD5WZmamPP/5YPXv2DOoTExOjhISEoLaDBw+qUaNGQR8sktSgQQNFRkbq4MGDQe2NGjUqs+/SttK+33zzjV5++WV5vd6gn3POOUeSgu7tkKTGjRtX6bE2bNhQQ4cO1axZs1RcXKyPP/5Yb7/9tm644YYqjVOVOkePHq0NGzbo888/l/TD7DGfz6dhw4YF+ixevFhDhgxRkyZN9Mwzz2jDhg3KyMjQ6NGjdfjw4SrVVpGSkhL169dPixcv1u23367Vq1fr/fff18aNGyVJ33///QmNW9XnQd26dcuM4fP5Kr3/ip5Hpfsp/V3ecyMpKUklJSU6dOhQoK1ly5a68MILdfjwYY0YMaLC51RF+z1y5Ijy8vLK3eZ4tRx9bICfitlMOGO1adMmMJupIkd/UEk/fCi99957MrOg9QcOHFBRUZHq1asX1D8rK6vMGKVtpR9w9erVU/v27TVlypRy60hKSjpuXcczbtw4zZs3Ty+99JJee+011apVq8JZWxWpSp3Dhg3T+PHjNXfuXE2ZMkXz5s3ToEGDVLt27UCfZ555RmlpaXruueeCHtPRN9CWp/RswdF9jw5+n376qT766CPNnTtXI0eODLTv3LnzuPs4lqo+D36qip5Hpc+h0t9ff/11mX6ZmZmqUaNG0LH/5z//qRUrVqhbt26aMWOGhg4dqvPOO6/S+42KilJcXFy5tR6vluo+NgBnZoAq6tOnj/Ly8rR06dKg9qeffjqw/sdWr16tb775JrBcXFys5557Ti1atFDTpk0lSQMGDNCnn36qFi1aqEuXLmV+jg4z5fH5fJIqPtPQuXNn9ejRQ/fff7/mz5+vUaNGKTY2ttKPu6p11q5dW4MGDdLTTz+t5cuXKysrq8wlJo/Ho6ioqKAwkJWVVanZTKmpqZKkjz/+OKh92bJlZfYh/ff4lJo1a1aZMY93DH+sqs+Dn2rhwoUys8Dy3r17tX79+sAMq1atWqlJkyZasGBBUL/8/HwtWrQoMMNJkj755BPddNNNuvrqq/X222+rffv2Gjp0aNCZm1KLFy8OOkuWm5url19+WRdeeGG5l6UkqXv37oqOjtYzzzwT1P7ll1/qzTffDDo2VTnmQIVCescOEAIVzWY62siRIy02NrZMe+kslvj4eHv44Ydt1apVNnHiRPN6vVWazfTss88G+mVmZlpKSoq1bt3aZs6caatXr7YVK1bYP/7xD7v00ktt//79ZvbfmzIfeOCBMnXl5+dbdHS09ezZ09asWWMZGRn21VdfBfUpvenX4/EEZpRURWXrLPX666+bJGvatKk1bdo06MZUM7Mnn3zSJNkf//hHW716tc2dO9datGhhZ511VpmbQo++AbioqMhatWplzZo1swULFtirr75qf/jDHywtLS3oBuAjR45YixYtLCUlxRYsWGCvvfaajR071s4++2yTZBMnTgyMWXqz7ZgxY2z9+vWWkZERuGm3otlMlX0ejB07tszxPPoxlefo2UzLly+3+fPnW8uWLS0+Pt527twZ6Fs6m+mSSy6xl156yZ5//nnr2rVr0GymvLw8a926tbVt29by8vLMzGzXrl2WmJhol112WWCso2czLV682F588UXr2rWrRUZG2jvvvBPoe6zZTFdddZW98sorNm/ePGvZsmXQbKYfbztx4kTbuHGjZWRkWGFh4TGPCXA0wgzOOD81zJiZHTx40K677jpr3LixRUZGWkpKik2YMKHMlNLSD7GZM2daixYtzOv1WuvWrW3+/Pllxvz3v/9tN910k6WlpZnX67U6depY586d7c477wx86BwrzJiZLVy40Fq3bm1er7fMB7WZWWFhofl8Prv44ouP+diPpTJ1liouLrbk5GSTZHfeeWe54/3tb3+z1NRU8/l81qZNG3viiSds4sSJxw0zZmY7duywfv36WUJCgtWvX99uvPFGW7FiRZnZTFu3brW+fftafHy81a5d2wYPHmz79u0r9xhNmDDBkpKSrEaNGkHjHB1mzKr+PDhaVcLMvHnz7KabbrL69eubz+ezCy+80DZt2lSm/9KlS+28886zmjVrWmxsrPXp08fefffdwPrf/va3FhMTE5h5VuqFF14wSfbII4+Y2X+fa/fff79NnjzZmjZtalFRUfazn/3MXn/99aBtK5pZ9s9//tPat29vUVFRgbB09H4LCwvt97//vdWvX988Hk+Fs8mAY/GY/eh8JIBq5fF4NHbs2DJ/oCxUXn75Zf3qV7/SihUrdMkll4S6HISxPXv2KC0tTQ888ID+9Kc/hboc4Ji4ARg4A2zdulV79+4N/LXd0qnUAHA6IMwAZ4Drr79e7777rjp16qSnnnqqzGwoM6vwb4aUioiIOKFZVABwsnGZCYDmzp2ra6655ph91qxZU+a7iQAgHBBmAOjgwYPavXv3Mfu0atUq6C/YAkC4IMwAAACn8UfzAACA0077G4BLSkqUmZmp+Ph4bl4EAMARZqbc3FwlJSUFfXlqeU77MJOZmank5ORQlwEAAE7A/v37A1/9UpHTPsyU3rC4f//+Mt9+DMBtfr9fK1euVL9+/eT1ekNdDoBqlJOTo+Tk5EpNPDjtw0zppaWEhATCDHCa8fv9iomJUUJCAmEGOE1V5hYRbgAGAABOI8wAAACnEWYAAIDTCDMAAMBphBkAAOA0wgwAAHAaYQYAADiNMAMAAJxGmAEAAE4jzAAAAKeFNMysW7dOAwcOVFJSkjwej5YuXRpY5/f7dccdd6hdu3aKjY1VUlKSrr76amVmZoauYAAAEHZCGmby8/PVoUMHzZgxo8y6goICbd68WXfffbc2b96sxYsXa8eOHfrVr34VgkoBAEC4CukXTfbv31/9+/cvd11iYqJWrVoV1Pboo4+qW7du2rdvn5o1a1budoWFhSosLAws5+TkSPrhTI/f76+mygGcqIKCAm3fvr1axsr7vlDrP9ml+FobFRftq5YxW7VqpZiYmGoZC8CJq8pntlPfmp2dnS2Px6NatWpV2Gfq1KmaPHlymfaVK1fyBgWEgV27dunWW2+t1jGnVeNYDz30kFq0aFGNIwI4EQUFBZXu6zEzO4m1VJrH49GSJUs0aNCgctcfPnxYF1xwgVq3bq1nnnmmwnHKOzOTnJysb7/9VgkJCdVdNoAqqs4zMzu+ztZtS7bqgcvb6uzGidUyJmdmgPCQk5OjevXqKTs7+7if306cmfH7/bryyitVUlKimTNnHrOvz+eTz1f2dLPX65XX6z1ZJQKopMTERHXr1q1axorae1C+DUd0bsdO6phSt1rGBBAeqvKZHfZhxu/3a8iQIdq9e7fefPNNzq4AAIAgYR1mSoPMF198oTVr1qhuXf7PCwAABAtpmMnLy9POnTsDy7t379aWLVtUp04dJSUl6YorrtDmzZu1fPlyFRcXKysrS5JUp04dRUVFhapsAAAQRkIaZjZt2qTevXsHlsePHy9JGjlypCZNmqRly5ZJkjp27Bi03Zo1a5Senn6qygQAAGEspGEmPT1dx5pMFSYTrQAAQBjju5kAAIDTCDMAAMBphBkAAOA0wgwAAHAaYQYAADiNMAMAAJxGmAEAAE4jzAAAAKcRZgAAgNMIMwAAwGmEGQAA4DTCDAAAcBphBgAAOI0wAwAAnEaYAQAATiPMAAAApxFmAACA0wgzAADAaYQZAADgNMIMAABwGmEGAAA4jTADAACcRpgBAABOI8wAAACnEWYAAIDTCDMAAMBphBkAAOA0wgwAAHAaYQYAADiNMAMAAJxGmAEAAE4jzAAAAKcRZgAAgNMIMwAAwGmEGQAA4DTCDAAAcBphBgAAOI0wAwAAnEaYAQAATiPMAAAApxFmAACA0wgzAADAaYQZAADgNMIMAABwGmEGAAA4jTADAACcRpgBAABOI8wAAACnEWYAAIDTCDMAAMBpIQ0z69at08CBA5WUlCSPx6OlS5cGrTczTZo0SUlJSYqOjlZ6ero+++yz0BQLAADCUkjDTH5+vjp06KAZM2aUu37atGl6+OGHNWPGDGVkZKhRo0bq27evcnNzT3GlAAAgXEWGcuf9+/dX//79y11nZpo+fbruvPNO/frXv5YkPfXUU2rYsKEWLFigMWPGlLtdYWGhCgsLA8s5OTmSJL/fL7/fX82PADiz7DmYr/zC4lCXEbAjKzvod7iI9UUotW5sqMsAnFaVz+yQhplj2b17t7KystSvX79Am8/nU69evbR+/foKw8zUqVM1efLkMu0rV65UTEzMSasXON0d+F6asiU83zJuX7It1CWUcWfHIjWIDnUVgLsKCgoq3Tc835kkZWVlSZIaNmwY1N6wYUPt3bu3wu0mTJig8ePHB5ZzcnKUnJysfv36KSEh4eQUC5wBPsvMkbZs1INXtFPL+uFx1iH/cKFeeztDF1/YVbE1faEuR5K089/5+tOLn6hr9wt0ThLvOcCJKr2yUhlhG2ZKeTyeoGUzK9P2Yz6fTz5f2Tc1r9crr9db7fUBZ4rIyB/eLlo3TtS5TRJDXM0P/H6/vv1c6ta8fti8vkuPU2RkZNjUBLioKq+fsJ2a3ahRI0n/PUNT6sCBA2XO1gAAgDNX2IaZtLQ0NWrUSKtWrQq0HTlyRGvXrlWPHj1CWBkAAAgnIb3MlJeXp507dwaWd+/erS1btqhOnTpq1qyZbr75Zt13330666yzdNZZZ+m+++5TTEyMhg8fHsKqAQBAOAlpmNm0aZN69+4dWC69cXfkyJGaO3eubr/9dn3//fe6/vrrdejQIZ133nlauXKl4uPjQ1UyAAAIMyENM+np6TKzCtd7PB5NmjRJkyZNOnVFAQAAp4TtPTMAAACVQZgBAABOI8wAAACnEWYAAIDTCDMAAMBphBkAAOA0wgwAAHAaYQYAADiNMAMAAJxGmAEAAE4jzAAAAKcRZgAAgNMIMwAAwGmEGQAA4DTCDAAAcBphBgAAOI0wAwAAnEaYAQAATiPMAAAApxFmAACA0wgzAADAaYQZAADgNMIMAABwGmEGAAA4jTADAACcRpgBAABOI8wAAACnEWYAAIDTCDMAAMBphBkAAOA0wgwAAHAaYQYAADiNMAMAAJxGmAEAAE4jzAAAAKcRZgAAgNMIMwAAwGmEGQAA4DTCDAAAcBphBgAAOI0wAwAAnEaYAQAATiPMAAAApxFmAACA0wgzAADAaYQZAADgNMIMAABwGmEGAAA4jTADAACcRpgBAABOC+swU1RUpLvuuktpaWmKjo5W8+bNdc8996ikpCTUpQEAgDARGeoCjuX+++/X448/rqeeekrnnHOONm3apGuuuUaJiYkaN25cqMsDAABhIKzDzIYNG3TZZZfp0ksvlSSlpqZq4cKF2rRpU4grAwAA4SKsw8wFF1ygxx9/XDt27NDZZ5+tjz76SO+8846mT59e4TaFhYUqLCwMLOfk5EiS/H6//H7/yS4ZOG3lF+apRs2vtPPQVpVExoa6HEk/XIrOLMrUJwc+UWRkeLyd/d+hfNWo+ZXyC/Pk98eEuhzAWVX5zA6PV38F7rjjDmVnZ6t169aKiIhQcXGxpkyZomHDhlW4zdSpUzV58uQy7StXrlRMDG8swInanJup2LSZuvuDUFdS1sw3Zoa6hCCxadIr64uVFZ8U6lIAZxUUFFS6r8fM7CTW8pM8++yzuu222/TAAw/onHPO0ZYtW3TzzTfr4Ycf1siRI8vdprwzM8nJyfr222+VkJBwqkoHTjub9x/QsKdX6OEr2ql5/fA5M/Pexvd03vnnhc+ZmX/na/yLn2jh1ZeqU3KDUJcDOCsnJ0f16tVTdnb2cT+/w+PVX4HbbrtNf/7zn3XllVdKktq1a6e9e/dq6tSpFYYZn88nn89Xpt3r9crr9Z7UeoHTWawvTiWHm6hl7bY6t2FiqMuR9MNp6P2R+9WuQbuweX3XKMpWyeH/KNYXFzY1AS6qyusnrKdmFxQUqEaN4BIjIiKYmg0AAALC+szMwIEDNWXKFDVr1kznnHOOPvzwQz388MMaPXp0qEsDAABhIqzDzKOPPqq7775b119/vQ4cOKCkpCSNGTNG//M//xPq0gAAQJgI6zATHx+v6dOnH3MqNgAAOLOF9T0zAAAAx0OYAQAATiPMAAAApxFmAACA0wgzAADAaYQZAADgNMIMAABwGmEGAAA4jTADAACcRpgBAABOI8wAAACnEWYAAIDTCDMAAMBphBkAAOA0wgwAAHAaYQYAADiNMAMAAJxGmAEAAE4jzAAAAKcRZgAAgNMIMwAAwGmEGQAA4LQTCjNFRUV64403NGvWLOXm5kqSMjMzlZeXV63FAQAAHE9kVTfYu3evLr74Yu3bt0+FhYXq27ev4uPjNW3aNB0+fFiPP/74yagTAACgXFU+MzNu3Dh16dJFhw4dUnR0dKD98ssv1+rVq6u1OAAAgOOp8pmZd955R++++66ioqKC2lNSUvTVV19VW2EAAACVUeUzMyUlJSouLi7T/uWXXyo+Pr5aigIAAKisKoeZvn37avr06YFlj8ejvLw8TZw4UZdcckl11gYAAHBcVb7M9Mgjj6h3795q27atDh8+rOHDh+uLL75QvXr1tHDhwpNRIwAAQIWqHGaSkpK0ZcsWLVy4UJs3b1ZJSYl+97vfacSIEUE3BAMAAJwKVQ4zkhQdHa3Ro0dr9OjR1V0PAABAlVQ5zDz99NPHXH/11VefcDEAAABVVeUwM27cuKBlv9+vgoICRUVFKSYmhjADAABOqSrPZjp06FDQT15enrZv364LLriAG4ABAMApVy1fNHnWWWfpb3/7W5mzNgAAACdbtX1rdkREhDIzM6trOAAAgEqp8j0zy5YtC1o2M3399deaMWOGevbsWW2FAQAAVEaVw8ygQYOClj0ej+rXr69f/OIXeuihh6qrLgAAgEqpcpgpKSk5GXUAAACckGq7ZwYAACAUKnVmZvz48ZUe8OGHHz7hYgAAAKqqUmHmww8/rNRgHo/nJxUDAABQVZUKM2vWrDnZdQAAAJwQ7pkBAABOO6Fvzc7IyNALL7ygffv26ciRI0HrFi9eXC2FAQAAVEaVz8w8++yz6tmzp7Zu3aolS5bI7/dr69atevPNN5WYmHgyagQAAKhQlcPMfffdp0ceeUTLly9XVFSU/v73v2vbtm0aMmSImjVrdjJqBAAAqFCVw8yuXbt06aWXSpJ8Pp/y8/Pl8Xh0yy23aPbs2dVeIAAAwLFUOczUqVNHubm5kqQmTZro008/lSR99913KigoqN7qAAAAjqPSYWbLli2SpAsvvFCrVq2SJA0ZMkTjxo3Ttddeq2HDhqlPnz4npUgAAICKVDrMdOrUSZ07d1abNm00bNgwSdKECRP0pz/9Sd98841+/etf61//+le1F/jVV1/pt7/9rerWrauYmBh17NhRH3zwQbXvBwAAuKnSYebdd99Vp06d9OCDD6pFixb67W9/q7Vr1+r222/XsmXL9PDDD6t27drVWtyhQ4fUs2dPeb1evfrqq9q6daseeugh1apVq1r3AwAA3FXpMNO9e3c98cQTysrK0mOPPaYvv/xSF110kVq0aKEpU6boyy+/rPbi7r//fiUnJ2vOnDnq1q2bUlNT1adPH7Vo0aLa9wUAANxU5T+aFx0drZEjR2rkyJHatWuX5syZo1mzZmnSpEnq27evXnnllWorbtmyZfrlL3+pwYMHa+3atWrSpImuv/56XXvttRVuU1hYqMLCwsByTk6OJMnv98vv91dbbcCZJvf7H15XH+37j4qKikJczQ/yDxdq07+lev/3b8XW9IW6HEnSzn/nS5KKiop4zwF+gqq8fjxmZj9lZ3l5eZo/f77+8pe/6LvvvlNxcfFPGS5IzZo1Jf3wrd2DBw/W+++/r5tvvlmzZs3S1VdfXe42kyZN0uTJk8u0L1iwQDExMdVWG3Cm2fCNR8/+X0Soy3DGnR2L1CA61FUA7iooKNDw4cOVnZ2thISEY/Y94TCzdu1aPfnkk1q0aJEiIiI0ZMgQ/e53v9P5559/QkWXJyoqSl26dNH69esDbTfddJMyMjK0YcOGcrcp78xMcnKyvv322+MeDAAV+0/+Eb2x7YCa149VtDc8Qs2OrGzdvmSbpl3eRmc3Cp+/QB7ri1Bq3dhQlwE4LScnR/Xq1atUmKnSZab9+/dr7ty5mjt3rnbv3q0ePXro0Ucf1ZAhQxQbW/0v3MaNG6tt27ZBbW3atNGiRYsq3Mbn88nnK3u62ev1yuv1VnuNwJmiYS2vRnRPC3UZ5Tq7UaI6ptQNdRkAqlFVPrMrHWb69u2rNWvWqH79+rr66qs1evRotWrV6oQKrKyePXtq+/btQW07duxQSkrKSd0vAABwR6XDTHR0tBYtWqQBAwYoIuLUnGK+5ZZb1KNHD913330aMmSI3n//fc2ePZuvTQAAAAGVDjPLli07mXWUq2vXrlqyZIkmTJige+65R2lpaZo+fbpGjBhxymsBAADhqcpTs0+1AQMGaMCAAaEuAwAAhKkqf9EkAABAOCHMAAAApxFmAACA0wgzAADAaYQZAADgNMIMAABwGmEGAAA4jTADAACcRpgBAABOI8wAAACnEWYAAIDTCDMAAMBphBkAAOA0wgwAAHAaYQYAADiNMAMAAJxGmAEAAE4jzAAAAKcRZgAAgNMIMwAAwGmEGQAA4DTCDAAAcBphBgAAOI0wAwAAnEaYAQAATiPMAAAApxFmAACA0wgzAADAaYQZAADgNMIMAABwGmEGAAA4jTADAACcRpgBAABOI8wAAACnEWYAAIDTCDMAAMBphBkAAOA0wgwAAHAaYQYAADiNMAMAAJxGmAEAAE4jzAAAAKcRZgAAgNMIMwAAwGmEGQAA4DTCDAAAcBphBgAAOI0wAwAAnEaYAQAATiPMAAAApzkVZqZOnSqPx6Obb7451KUAAIAw4UyYycjI0OzZs9W+fftQlwIAAMKIE2EmLy9PI0aM0BNPPKHatWuHuhwAABBGIkNdQGWMHTtWl156qS666CL99a9/PWbfwsJCFRYWBpZzcnIkSX6/X36//6TWCeDUKioqCvzm9Q2cXqrymg77MPPss89q8+bNysjIqFT/qVOnavLkyWXaV65cqZiYmOouD0AI7c+TpEht3LhRX30a6moAVKeCgoJK9w3rMLN//36NGzdOK1euVM2aNSu1zYQJEzR+/PjAck5OjpKTk9WvXz8lJCScrFIBhMBH+/4jfbJJ559/vjo0qxPqcgBUo9IrK5UR1mHmgw8+0IEDB9S5c+dAW3FxsdatW6cZM2aosLBQERERQdv4fD75fL4yY3m9Xnm93pNeM4BTJzIyMvCb1zdweqnKazqsw0yfPn30ySefBLVdc801at26te64444yQQYAAJx5wjrMxMfH69xzzw1qi42NVd26dcu0AwCAM5MTU7MBAAAqEtZnZsrz1ltvhboEAAAQRjgzAwAAnEaYAQAATiPMAAAApxFmAACA0wgzAADAaYQZAADgNMIMAABwGmEGAAA4jTADAACcRpgBAABOI8wAAACnEWYAAIDTCDMAAMBphBkAAOA0wgwAAHAaYQYAADiNMAMAAJxGmAEAAE4jzAAAAKcRZgAAgNMIMwAAwGmEGQAA4DTCDAAAcBphBgAAOI0wAwAAnEaYAQAATiPMAAAApxFmAACA0wgzAADAaYQZAADgNMIMAABwGmEGAAA4jTADAACcRpgBAABOI8wAAACnEWYAAIDTCDMAAMBphBkAAOA0wgwAAHAaYQYAADiNMAMAAJxGmAEAAE4jzAAAAKcRZgAAgNMIMwAAwGmEGQAA4DTCDAAAcBphBgAAOI0wAwAAnEaYAQAATgvrMDN16lR17dpV8fHxatCggQYNGqTt27eHuiwAABBGwjrMrF27VmPHjtXGjRu1atUqFRUVqV+/fsrPzw91aQAAIExEhrqAY3nttdeClufMmaMGDRrogw8+0M9//vMQVQUAAMJJWIeZo2VnZ0uS6tSpU2GfwsJCFRYWBpZzcnIkSX6/X36//+QWCOCUKioqCvzm9Q2cXqrymnYmzJiZxo8frwsuuEDnnntuhf2mTp2qyZMnl2lfuXKlYmJiTmaJAE6x/XmSFKmNGzfqq09DXQ2A6lRQUFDpvh4zs5NYS7UZO3asVqxYoXfeeUdNmzatsF95Z2aSk5P17bffKiEh4VSUCuAU+Wjff3TFE5v04rVd1KFZxWdsAbgnJydH9erVU3Z29nE/v504M3PjjTdq2bJlWrdu3TGDjCT5fD75fL4y7V6vV16v92SVCCAEIiMjA795fQOnl6q8psM6zJiZbrzxRi1ZskRvvfWW0tLSQl0SAAAIM2EdZsaOHasFCxbopZdeUnx8vLKysiRJiYmJio6ODnF1AAAgHIT135l57LHHlJ2drfT0dDVu3Djw89xzz4W6NAAAECbC+syMI/cmAwCAEArrMzMAAADHQ5gBAABOI8wAAACnEWYAAIDTCDMAAMBphBkAAOA0wgwAAHAaYQYAADiNMAMAAJxGmAEAAE4jzAAAAKcRZgAAgNMIMwAAwGmEGQAA4DTCDAAAcBphBgAAOI0wAwAAnEaYAQAATiPMAAAApxFmAACA0wgzAADAaYQZAADgtMhQFwDgzFJQUKDPP/+8Wsba/vV3KszaqW2fRqvkYK1qGbN169aKiYmplrEAnBqEGQCn1Oeff67OnTtX65jDn6q+sT744AN16tSp+gYEcNIRZgCcUq1bt9YHH3xQLWPlfV+oFWs26NLe3RUX7auWMVu3bl0t4wA4dQgzAE6pmJiYajvz4ff7dejbA+rerYu8Xm+1jAnAPdwADAAAnEaYAQAATiPMAAAApxFmAACA0wgzAADAaYQZAADgNMIMAABwGmEGAAA4jTADAACcRpgBAABOI8wAAACnEWYAAIDTCDMAAMBpp/23ZpuZJCknJyfElQCobn6/XwUFBcrJyeFbs4HTTOnndunn+LGc9mEmNzdXkpScnBziSgAAQFXl5uYqMTHxmH08VpnI47CSkhJlZmYqPj5eHo8n1OUAqEY5OTlKTk7W/v37lZCQEOpyAFQjM1Nubq6SkpJUo8ax74o57cMMgNNXTk6OEhMTlZ2dTZgBzmDcAAwAAJxGmAEAAE4jzABwls/n08SJE+Xz+UJdCoAQ4p4ZAADgNM7MAAAApxFmAACA0wgzAADAaYQZAADgNMIMAEjas2ePPB6PtmzZctL3NXfuXNWqVeuk7wc4UxBmAJxy6enpuvnmm0NdximRmpqq6dOnB7UNHTpUO3bsCE1BwGnotP+iSQDBjhw5oqioqJDs2+/38+3WkqKjoxUdHR3qMoDTBmdmAMelp6frhhtu0A033KBatWqpbt26uuuuu1T6J6RSU1P117/+VaNGjVJiYqKuvfZaSdKiRYt0zjnnyOfzKTU1VQ899FDQuKmpqbr33ns1fPhwxcXFKSkpSY8++mhQn+zsbP3hD39QgwYNlJCQoF/84hf66KOPAusnTZqkjh076sknn1Tz5s3l8/k0cuRIrV27Vn//+9/l8Xjk8Xi0e/dutWzZUg8++GDQ+J9++qlq1KihXbt2HfMYDBs2TFdeeWVQm9/vV7169TRnzhxJ0muvvaYLLrggcIwGDBhwzHHLuxS0dOnSoC+s3bVrly677DI1bNhQcXFx6tq1q954443A+vT0dO3du1e33HJL4LFWNPZjjz2mFi1aKCoqSq1atdK8efOC1ns8Hv3zn//U5ZdfrpiYGJ111llatmzZMY8LcMYwAE7r1auXxcXF2bhx4+zzzz+3Z555xmJiYmz27NlmZpaSkmIJCQn2wAMP2BdffGFffPGFbdq0yWrUqGH33HOPbd++3ebMmWPR0dE2Z86cwLgpKSkWHx9vU6dOte3bt9v//u//WkREhK1cudLMzEpKSqxnz542cOBAy8jIsB07dtitt95qdevWtYMHD5qZ2cSJEy02NtZ++ctf2ubNm+2jjz6y7777zrp3727XXnutff311/b1119bUVGRTZkyxdq2bRv02G655Rb7+c9/ftxj8PLLL1t0dLTl5uYGtdWsWdOys7PNzOzFF1+0RYsW2Y4dO+zDDz+0gQMHWrt27ay4uNjMzHbv3m2S7MMPPzQzszlz5lhiYmLQfpYsWWI/ftvcsmWLPf744/bxxx/bjh077M4777SaNWva3r17zczs4MGD1rRpU7vnnnsCj7W8sRcvXmxer9f+8Y9/2Pbt2+2hhx6yiIgIe/PNNwN9JFnTpk1twYIF9sUXX9hNN91kcXFxgWMNnMkIM4DjevXqZW3atLGSkpJA2x133GFt2rQxsx9CyaBBg4K2GT58uPXt2zeo7bbbbgsKEykpKXbxxRcH9Rk6dKj179/fzMxWr15tCQkJdvjw4aA+LVq0sFmzZpnZD2HG6/XagQMHytQ8bty4oLbMzEyLiIiw9957z8zMjhw5YvXr17e5c+ce9xgcOXLE6tWrZ08//XSgbdiwYTZ48OAKtzlw4IBJsk8++cTMTizMlKdt27b26KOPBpZTUlLskUceCepz9Ng9evSwa6+9NqjP4MGD7ZJLLgksS7K77rorsJyXl2cej8deffXVY9YDnAm4zAScBs4///ygyx/du3fXF198oeLiYklSly5dgvpv27ZNPXv2DGrr2bNn0Dal4/xY9+7dtW3bNknSBx98oLy8PNWtW1dxcXGBn927dwddvklJSVH9+vWP+xgaN26sSy+9VE8++aQkafny5Tp8+LAGDx583G29Xq8GDx6s+fPnS5Ly8/P10ksvacSIEYE+u3bt0vDhw9W8eXMlJCQoLS1NkrRv377jjl+R/Px83X777Wrbtq1q1aqluLg4ff7551Ues6J/j9JjXap9+/aB/46NjVV8fLwOHDhwwvUDpwtuAAbOALGxsUHLZhYUfkrbKqN0u5KSEjVu3FhvvfVWmT4/vh/k6H0fy+9//3tdddVVeuSRRzRnzhwNHTpUMTExldp2xIgR6tWrlw4cOKBVq1apZs2a6t+/f2D9wIEDlZycrCeeeEJJSUkqKSnRueeeqyNHjpQ7Xo0aNcocE7/fH7R822236fXXX9eDDz6oli1bKjo6WldccUWFYx5Lef8eR7cdffO0x+NRSUlJlfcFnG4IM8BpYOPGjWWWzzrrLEVERJTbv23btnrnnXeC2tavX6+zzz47aJvyxm3durUkqVOnTsrKylJkZKRSU1OrVG9UVFTQGaBSl1xyiWJjY/XYY4/p1Vdf1bp16yo9Zo8ePZScnKznnntOr776qgYPHhyYtXXw4EFt27ZNs2bN0oUXXihJZR7/0erXr6/c3Fzl5+cHAtnRf4Pm7bff1qhRo3T55ZdLkvLy8rRnz55KPdYfa9Omjd555x1dffXVgbb169erTZs2x33cAAgzwGlh//79Gj9+vMaMGaPNmzfr0UcfLTM76cduvfVWde3aVffee6+GDh2qDRs2aMaMGZo5c2ZQv3fffVfTpk3ToEGDtGrVKr3wwgtasWKFJOmiiy5S9+7dNWjQIN1///1q1aqVMjMz9corr2jQoEFlLm39WGpqqt577z3t2bNHcXFxqlOnjmrUqKGIiAiNGjVKEyZMUMuWLctc5joWj8ej4cOH6/HHH9eOHTu0Zs2awLratWurbt26mj17tho3bqx9+/bpz3/+8zHHO++88xQTE6O//OUvuvHGG/X+++9r7ty5QX1atmypxYsXa+DAgfJ4PLr77rvLnClJTU3VunXrdOWVV8rn86levXpl9nXbbbdpyJAh6tSpk/r06aOXX35ZixcvDpoZBeAYQnvLDoCfqlevXnb99dfbddddZwkJCVa7dm3785//HLghuLwbUM1+mN3Ttm1b83q91qxZM3vggQeC1qekpNjkyZNtyJAhFhMTYw0bNrTp06cH9cnJybEbb7zRkpKSzOv1WnJyso0YMcL27dtnZj/cANyhQ4cy+96+fbudf/75Fh0dbZJs9+7dgXW7du0ySTZt2rQqH4vPPvvMJFlKSkrQDdFmZqtWrbI2bdqYz+ez9u3b21tvvWWSbMmSJWZW9gZgsx9u+G3ZsqXVrFnTBgwYYLNnzw66AXj37t3Wu3dvi46OtuTkZJsxY0aZm5s3bNhg7du3N5/PF9i2vJuLZ86cac2bNzev12tnn3120M3MZhZUa6nExMSgGWjAmcpjVskL5QDCUnp6ujp27Fjmr8z+VKmpqbr55ptP+V/qfffdd5Wenq4vv/xSDRs2PKX7BuAmLjMBCAuFhYXav3+/7r77bg0ZMoQgA6DSmJoNICwsXLhQrVq1UnZ2tqZNmxa0bv78+UHTv3/8c84554SoYgDhgstMAMJebm6uvvnmm3LXeb1epaSknOKKAIQTwgwAAHAal5kAAIDTCDMAAMBphBkAAOA0wgwAAHAaYQYAADiNMAMAAJxGmAEAAE77fyz/3zqcSBjMAAAAAElFTkSuQmCC",
      "text/plain": [
       "<Figure size 640x480 with 1 Axes>"
      ]
     },
     "metadata": {},
     "output_type": "display_data"
    }
   ],
   "source": [
    "# Boxplots for customer address' numeric columns\n",
    "customer_address[num_address].boxplot()\n",
    "plt.title('Property_evaluation boxplot')\n",
    "plt.ylabel('Value')\n",
    "plt.show()"
   ]
  },
  {
   "cell_type": "code",
<<<<<<< HEAD
   "execution_count": 23,
=======
   "execution_count": 66,
>>>>>>> e14b551b545e52c22207d678cf564683de5c237a
   "metadata": {},
   "outputs": [
    {
     "data": {
      "image/png": "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",
      "text/plain": [
       "<Figure size 640x480 with 1 Axes>"
      ]
     },
     "metadata": {},
     "output_type": "display_data"
    }
   ],
   "source": [
    "# Boxplots for customer demographic's numeric columns\n",
    "customer_demographic[num_demographic].boxplot()\n",
    "plt.title('Past_3_years_purchases and tenure boxplots')\n",
    "plt.ylabel('Value')\n",
    "plt.show()"
   ]
  },
  {
   "cell_type": "markdown",
   "metadata": {},
   "source": [
    "**Conclusion:**\n",
    "\n",
    "There is an outlier in transactions dataset's standard_cost"
   ]
  },
  {
   "cell_type": "code",
<<<<<<< HEAD
   "execution_count": 24,
=======
   "execution_count": 67,
>>>>>>> e14b551b545e52c22207d678cf564683de5c237a
   "metadata": {},
   "outputs": [],
   "source": [
    "# Fuction for selecting outliers\n",
    "def filter_outliers(df, column):\n",
    "    Q1 = df[column].quantile(q=0.25)\n",
    "    Q3 = df[column].quantile(q=0.75)\n",
    "\n",
    "    IQR = Q3 - Q1\n",
    "\n",
    "    lower_limit = Q1 - 1.5 * IQR\n",
    "    \n",
    "    upper_limit = Q3 + 1.5 * IQR\n",
    "\n",
    "    return (df[column] < lower_limit) | (df[column] > upper_limit)"
   ]
  },
  {
   "cell_type": "code",
<<<<<<< HEAD
   "execution_count": 25,
=======
   "execution_count": 68,
>>>>>>> e14b551b545e52c22207d678cf564683de5c237a
   "metadata": {},
   "outputs": [],
   "source": [
    "# Removing outliers in transactions\n",
    "transactions_mask = filter_outliers(transactions, 'standard_cost')\n",
    "transactions = transactions[~transactions_mask]"
   ]
  },
  {
   "cell_type": "code",
<<<<<<< HEAD
   "execution_count": 26,
=======
   "execution_count": 69,
>>>>>>> e14b551b545e52c22207d678cf564683de5c237a
   "metadata": {},
   "outputs": [
    {
     "name": "stdout",
     "output_type": "stream",
     "text": [
      "min   2017-01-01\n",
      "max   2017-12-30\n",
      "Name: transaction_date, dtype: datetime64[ns] \n",
      "\n",
      "min   1843-12-21\n",
      "max   2002-03-11\n",
      "Name: DOB, dtype: datetime64[ns]\n"
     ]
    }
   ],
   "source": [
    "# Checking datetime datatypes for outliers\n",
    "print(transactions['transaction_date'].agg(['min', 'max']), '\\n')\n",
    "print(customer_demographic['DOB'].agg(['min', 'max']))"
   ]
  },
  {
   "cell_type": "code",
<<<<<<< HEAD
   "execution_count": 27,
=======
   "execution_count": 70,
>>>>>>> e14b551b545e52c22207d678cf564683de5c237a
   "metadata": {},
   "outputs": [],
   "source": [
    "# Replacing 1843-12-21 00:00:00 value\n",
    "customer_demographic['DOB'].replace({'1843-12-21 00:00:00': '1943-12-21 00:00:00'}, inplace=True)"
   ]
  },
  {
   "cell_type": "markdown",
   "metadata": {},
   "source": [
    "### Misnamed Classes Check\n",
    "\n",
    "Checking for the presence of misnamed classes in the non-numeric columns of the datasets."
   ]
  },
  {
   "cell_type": "code",
<<<<<<< HEAD
   "execution_count": 28,
=======
   "execution_count": 71,
>>>>>>> e14b551b545e52c22207d678cf564683de5c237a
   "metadata": {},
   "outputs": [],
   "source": [
    "# Lists of datasets non_numeric columns\n",
    "obj_transactions = ['order_status', 'brand', 'product_line', 'product_class', 'product_size']\n",
    "obj_address = ['address', 'state', 'country']\n",
    "obj_demographic = ['first_name', 'last_name', 'gender', 'job_title', 'job_industry_category', 'wealth_segment', 'deceased_indicator']"
   ]
  },
  {
   "cell_type": "code",
<<<<<<< HEAD
   "execution_count": 29,
=======
   "execution_count": 72,
>>>>>>> e14b551b545e52c22207d678cf564683de5c237a
   "metadata": {},
   "outputs": [],
   "source": [
    "# # Checking value counts in transactions' non-numeric columns\n",
    "# for col in obj_transactions:\n",
    "#     print(transactions[col].value_counts(), '\\n')"
   ]
  },
  {
   "cell_type": "code",
<<<<<<< HEAD
   "execution_count": 30,
=======
   "execution_count": 73,
>>>>>>> e14b551b545e52c22207d678cf564683de5c237a
   "metadata": {},
   "outputs": [],
   "source": [
    "# # Checking value counts in customer_address' non-numeric columns\n",
    "# for col in obj_address:\n",
    "#     print(customer_address[col].value_counts(), '\\n')"
   ]
  },
  {
   "cell_type": "code",
<<<<<<< HEAD
   "execution_count": 31,
=======
   "execution_count": 74,
>>>>>>> e14b551b545e52c22207d678cf564683de5c237a
   "metadata": {},
   "outputs": [],
   "source": [
    "# # Checking value counts in customer_demographic's non-numeric columns\n",
    "# for col in obj_demographic:\n",
    "#     print(customer_demographic[col].value_counts(), '\\n')"
   ]
  },
  {
   "cell_type": "code",
<<<<<<< HEAD
   "execution_count": 32,
=======
   "execution_count": 75,
>>>>>>> e14b551b545e52c22207d678cf564683de5c237a
   "metadata": {},
   "outputs": [
    {
     "data": {
      "text/plain": [
       "gender\n",
       "Female    1480\n",
       "Male      1380\n",
       "F            1\n",
       "U            1\n",
       "Femal        1\n",
       "Name: count, dtype: int64"
      ]
     },
<<<<<<< HEAD
     "execution_count": 32,
=======
     "execution_count": 75,
>>>>>>> e14b551b545e52c22207d678cf564683de5c237a
     "metadata": {},
     "output_type": "execute_result"
    }
   ],
   "source": [
    "customer_demographic['gender'].value_counts()"
   ]
  },
  {
   "cell_type": "code",
<<<<<<< HEAD
   "execution_count": 33,
=======
   "execution_count": 76,
>>>>>>> e14b551b545e52c22207d678cf564683de5c237a
   "metadata": {},
   "outputs": [
    {
     "data": {
      "text/html": [
       "<div>\n",
       "<style scoped>\n",
       "    .dataframe tbody tr th:only-of-type {\n",
       "        vertical-align: middle;\n",
       "    }\n",
       "\n",
       "    .dataframe tbody tr th {\n",
       "        vertical-align: top;\n",
       "    }\n",
       "\n",
       "    .dataframe thead th {\n",
       "        text-align: right;\n",
       "    }\n",
       "</style>\n",
       "<table border=\"1\" class=\"dataframe\">\n",
       "  <thead>\n",
       "    <tr style=\"text-align: right;\">\n",
       "      <th></th>\n",
       "      <th>customer_id</th>\n",
       "      <th>first_name</th>\n",
       "      <th>last_name</th>\n",
       "      <th>gender</th>\n",
       "      <th>past_3_years_purchases</th>\n",
       "      <th>DOB</th>\n",
       "      <th>job_title</th>\n",
       "      <th>job_industry_category</th>\n",
       "      <th>wealth_segment</th>\n",
       "      <th>deceased_indicator</th>\n",
       "      <th>owns_car</th>\n",
       "      <th>tenure</th>\n",
       "    </tr>\n",
       "  </thead>\n",
       "  <tbody>\n",
       "    <tr>\n",
       "      <th>33</th>\n",
       "      <td>34</td>\n",
       "      <td>Jephthah</td>\n",
       "      <td>Bachmann</td>\n",
       "      <td>U</td>\n",
       "      <td>59</td>\n",
       "      <td>1943-12-21</td>\n",
       "      <td>Legal Assistant</td>\n",
       "      <td>IT</td>\n",
       "      <td>Affluent Customer</td>\n",
       "      <td>N</td>\n",
       "      <td>No</td>\n",
       "      <td>20.0</td>\n",
       "    </tr>\n",
       "  </tbody>\n",
       "</table>\n",
       "</div>"
      ],
      "text/plain": [
       "    customer_id first_name last_name gender  past_3_years_purchases  \\\n",
       "33           34   Jephthah  Bachmann      U                      59   \n",
       "\n",
       "          DOB        job_title job_industry_category     wealth_segment  \\\n",
       "33 1943-12-21  Legal Assistant                    IT  Affluent Customer   \n",
       "\n",
       "   deceased_indicator owns_car  tenure  \n",
       "33                  N       No    20.0  "
      ]
     },
<<<<<<< HEAD
     "execution_count": 33,
=======
     "execution_count": 76,
>>>>>>> e14b551b545e52c22207d678cf564683de5c237a
     "metadata": {},
     "output_type": "execute_result"
    }
   ],
   "source": [
    "customer_demographic[customer_demographic['gender'] == 'U']"
   ]
  },
  {
   "cell_type": "markdown",
   "metadata": {},
   "source": [
    "**Conclusions:**\n",
    "\n",
    "Transactions has no errors in recording\n",
    "\n",
    "Customer Address state column has some errors (new south wales instead of NSW and Victoria instead of VIC)\n",
    "\n",
    "Customer Demographic gender column has errors (F and Femal instead of Female)"
   ]
  },
  {
   "cell_type": "code",
<<<<<<< HEAD
   "execution_count": 34,
=======
   "execution_count": 77,
>>>>>>> e14b551b545e52c22207d678cf564683de5c237a
   "metadata": {},
   "outputs": [],
   "source": [
    "# Replacing errored values with correct ones\n",
    "customer_address['state'].replace({'New South Wales': 'NSW', 'Victoria': 'VIC'}, inplace=True)\n",
    "customer_demographic['gender'].replace({'Femal': 'Female', 'F': 'Female', 'U': 'Male'}, inplace=True)"
   ]
  },
  {
   "cell_type": "markdown",
   "metadata": {},
   "source": [
    "## Step 3: Merging the datasets\n",
    "\n",
    "I will merge all the datasets into one, having the transactions dataset as the left most dataset."
   ]
  },
  {
   "cell_type": "code",
<<<<<<< HEAD
   "execution_count": 35,
=======
   "execution_count": 78,
>>>>>>> e14b551b545e52c22207d678cf564683de5c237a
   "metadata": {},
   "outputs": [
    {
     "name": "stdout",
     "output_type": "stream",
     "text": [
      "3494\n",
      "3999\n",
      "4000\n"
     ]
    }
   ],
   "source": [
    "# Checking unique customer IDs per dataset\n",
    "for _ in Datasets:\n",
    "    print(_['customer_id'].nunique())"
   ]
  },
  {
   "cell_type": "markdown",
   "metadata": {},
   "source": [
    "**Conclusion:**\n",
    "\n",
    "The customer id total records are not equal in number in the datasets. This may be problematic when joining the data. Let me proceed and view the resulting dataframe."
   ]
  },
  {
   "cell_type": "code",
<<<<<<< HEAD
   "execution_count": 36,
=======
   "execution_count": 79,
>>>>>>> e14b551b545e52c22207d678cf564683de5c237a
   "metadata": {},
   "outputs": [],
   "source": [
    "# Joining the datasets\n",
    "data = transactions.merge(customer_address, on='customer_id', how='left', suffixes=('_transactions', '_address')).merge(customer_demographic, on='customer_id', how='left', suffixes=('_address', '_demographic'))"
   ]
  },
  {
   "cell_type": "code",
<<<<<<< HEAD
   "execution_count": 37,
=======
   "execution_count": 80,
>>>>>>> e14b551b545e52c22207d678cf564683de5c237a
   "metadata": {},
   "outputs": [
    {
     "data": {
      "text/plain": [
       "transaction_id               0\n",
       "product_id                   0\n",
       "customer_id                  0\n",
       "transaction_date             0\n",
       "online_order               352\n",
       "order_status                 0\n",
       "brand                        0\n",
       "product_line                 0\n",
       "product_class                0\n",
       "product_size                 0\n",
       "list_price                   0\n",
       "standard_cost                0\n",
       "address                     30\n",
       "postcode                    30\n",
       "state                       30\n",
       "country                     30\n",
       "property_valuation          30\n",
       "first_name                5441\n",
       "last_name                 5441\n",
       "gender                    5441\n",
       "past_3_years_purchases    5441\n",
       "DOB                       5441\n",
       "job_title                 5441\n",
       "job_industry_category     5441\n",
       "wealth_segment            5441\n",
       "deceased_indicator        5441\n",
       "owns_car                  5441\n",
       "tenure                    5441\n",
       "dtype: int64"
      ]
     },
<<<<<<< HEAD
     "execution_count": 37,
=======
     "execution_count": 80,
>>>>>>> e14b551b545e52c22207d678cf564683de5c237a
     "metadata": {},
     "output_type": "execute_result"
    }
   ],
   "source": [
    "# Checking for missing values in the joined dataset\n",
    "data.isna().sum()"
   ]
  },
  {
   "cell_type": "markdown",
   "metadata": {},
   "source": [
    "Due to the unmatched ID records among the datasets there are a number of missing values."
   ]
  },
  {
   "cell_type": "code",
<<<<<<< HEAD
   "execution_count": 38,
=======
   "execution_count": 81,
>>>>>>> e14b551b545e52c22207d678cf564683de5c237a
   "metadata": {},
   "outputs": [
    {
     "data": {
      "text/html": [
       "<div>\n",
       "<style scoped>\n",
       "    .dataframe tbody tr th:only-of-type {\n",
       "        vertical-align: middle;\n",
       "    }\n",
       "\n",
       "    .dataframe tbody tr th {\n",
       "        vertical-align: top;\n",
       "    }\n",
       "\n",
       "    .dataframe thead th {\n",
       "        text-align: right;\n",
       "    }\n",
       "</style>\n",
       "<table border=\"1\" class=\"dataframe\">\n",
       "  <thead>\n",
       "    <tr style=\"text-align: right;\">\n",
       "      <th></th>\n",
       "      <th>transaction_id</th>\n",
       "      <th>product_id</th>\n",
       "      <th>customer_id</th>\n",
       "      <th>transaction_date</th>\n",
       "      <th>online_order</th>\n",
       "      <th>order_status</th>\n",
       "      <th>brand</th>\n",
       "      <th>product_line</th>\n",
       "      <th>product_class</th>\n",
       "      <th>product_size</th>\n",
       "      <th>list_price</th>\n",
       "      <th>standard_cost</th>\n",
       "      <th>address</th>\n",
       "      <th>postcode</th>\n",
       "      <th>state</th>\n",
       "      <th>country</th>\n",
       "      <th>property_valuation</th>\n",
       "      <th>first_name</th>\n",
       "      <th>last_name</th>\n",
       "      <th>gender</th>\n",
       "      <th>past_3_years_purchases</th>\n",
       "      <th>DOB</th>\n",
       "      <th>job_title</th>\n",
       "      <th>job_industry_category</th>\n",
       "      <th>wealth_segment</th>\n",
       "      <th>deceased_indicator</th>\n",
       "      <th>owns_car</th>\n",
       "      <th>tenure</th>\n",
       "    </tr>\n",
       "  </thead>\n",
       "  <tbody>\n",
       "    <tr>\n",
<<<<<<< HEAD
       "      <th>9236</th>\n",
       "      <td>9411</td>\n",
       "      <td>49</td>\n",
       "      <td>1183</td>\n",
       "      <td>2017-06-20</td>\n",
       "      <td>1.0</td>\n",
       "      <td>Approved</td>\n",
       "      <td>Trek Bicycles</td>\n",
       "      <td>Road</td>\n",
       "      <td>medium</td>\n",
       "      <td>medium</td>\n",
       "      <td>533.51</td>\n",
       "      <td>400.13</td>\n",
       "      <td>85931 Johnson Alley</td>\n",
       "      <td>3039.0</td>\n",
       "      <td>VIC</td>\n",
       "      <td>Australia</td>\n",
       "      <td>6.0</td>\n",
=======
       "      <th>2350</th>\n",
       "      <td>2388</td>\n",
       "      <td>0</td>\n",
       "      <td>1742</td>\n",
       "      <td>2017-04-16</td>\n",
       "      <td>1.0</td>\n",
       "      <td>Approved</td>\n",
       "      <td>Norco Bicycles</td>\n",
       "      <td>Standard</td>\n",
       "      <td>medium</td>\n",
       "      <td>medium</td>\n",
       "      <td>360.40</td>\n",
       "      <td>270.30</td>\n",
       "      <td>17 Ohio Drive</td>\n",
       "      <td>4053.0</td>\n",
       "      <td>QLD</td>\n",
       "      <td>Australia</td>\n",
       "      <td>7.0</td>\n",
>>>>>>> e14b551b545e52c22207d678cf564683de5c237a
       "      <td>NaN</td>\n",
       "      <td>NaN</td>\n",
       "      <td>NaN</td>\n",
       "      <td>NaN</td>\n",
       "      <td>NaT</td>\n",
       "      <td>NaN</td>\n",
       "      <td>NaN</td>\n",
       "      <td>NaN</td>\n",
       "      <td>NaN</td>\n",
       "      <td>NaN</td>\n",
       "      <td>NaN</td>\n",
       "    </tr>\n",
       "    <tr>\n",
<<<<<<< HEAD
       "      <th>16954</th>\n",
       "      <td>17282</td>\n",
       "      <td>16</td>\n",
       "      <td>18</td>\n",
       "      <td>2017-08-18</td>\n",
       "      <td>0.0</td>\n",
       "      <td>Approved</td>\n",
       "      <td>Norco Bicycles</td>\n",
       "      <td>Standard</td>\n",
       "      <td>high</td>\n",
       "      <td>small</td>\n",
       "      <td>1661.92</td>\n",
       "      <td>1479.11</td>\n",
       "      <td>092 2nd Alley</td>\n",
       "      <td>2135.0</td>\n",
       "      <td>NSW</td>\n",
       "      <td>Australia</td>\n",
       "      <td>12.0</td>\n",
       "      <td>NaN</td>\n",
       "      <td>NaN</td>\n",
       "      <td>NaN</td>\n",
       "      <td>NaN</td>\n",
       "      <td>NaT</td>\n",
       "      <td>NaN</td>\n",
       "      <td>NaN</td>\n",
       "      <td>NaN</td>\n",
       "      <td>NaN</td>\n",
       "      <td>NaN</td>\n",
       "      <td>NaN</td>\n",
       "    </tr>\n",
       "    <tr>\n",
       "      <th>16136</th>\n",
       "      <td>16449</td>\n",
       "      <td>33</td>\n",
       "      <td>1683</td>\n",
       "      <td>2017-10-09</td>\n",
       "      <td>1.0</td>\n",
       "      <td>Approved</td>\n",
       "      <td>Giant Bicycles</td>\n",
       "      <td>Standard</td>\n",
       "      <td>medium</td>\n",
       "      <td>small</td>\n",
       "      <td>1311.44</td>\n",
       "      <td>1167.18</td>\n",
       "      <td>4709 Cardinal Hill</td>\n",
       "      <td>2028.0</td>\n",
       "      <td>NSW</td>\n",
       "      <td>Australia</td>\n",
       "      <td>12.0</td>\n",
=======
       "      <th>13036</th>\n",
       "      <td>13286</td>\n",
       "      <td>0</td>\n",
       "      <td>1711</td>\n",
       "      <td>2017-07-01</td>\n",
       "      <td>1.0</td>\n",
       "      <td>Approved</td>\n",
       "      <td>Giant Bicycles</td>\n",
       "      <td>Standard</td>\n",
       "      <td>medium</td>\n",
       "      <td>medium</td>\n",
       "      <td>230.91</td>\n",
       "      <td>173.18</td>\n",
       "      <td>2 Dwight Point</td>\n",
       "      <td>4133.0</td>\n",
       "      <td>QLD</td>\n",
       "      <td>Australia</td>\n",
       "      <td>5.0</td>\n",
       "      <td>NaN</td>\n",
       "      <td>NaN</td>\n",
       "      <td>NaN</td>\n",
       "      <td>NaN</td>\n",
       "      <td>NaT</td>\n",
       "      <td>NaN</td>\n",
       "      <td>NaN</td>\n",
       "      <td>NaN</td>\n",
       "      <td>NaN</td>\n",
       "      <td>NaN</td>\n",
       "      <td>NaN</td>\n",
       "    </tr>\n",
       "    <tr>\n",
       "      <th>11081</th>\n",
       "      <td>11290</td>\n",
       "      <td>85</td>\n",
       "      <td>2553</td>\n",
       "      <td>2017-08-02</td>\n",
       "      <td>0.0</td>\n",
       "      <td>Approved</td>\n",
       "      <td>WeareA2B</td>\n",
       "      <td>Standard</td>\n",
       "      <td>medium</td>\n",
       "      <td>medium</td>\n",
       "      <td>1228.07</td>\n",
       "      <td>400.91</td>\n",
       "      <td>463 Atwood Court</td>\n",
       "      <td>4160.0</td>\n",
       "      <td>QLD</td>\n",
       "      <td>Australia</td>\n",
       "      <td>7.0</td>\n",
>>>>>>> e14b551b545e52c22207d678cf564683de5c237a
       "      <td>NaN</td>\n",
       "      <td>NaN</td>\n",
       "      <td>NaN</td>\n",
       "      <td>NaN</td>\n",
       "      <td>NaT</td>\n",
       "      <td>NaN</td>\n",
       "      <td>NaN</td>\n",
       "      <td>NaN</td>\n",
       "      <td>NaN</td>\n",
       "      <td>NaN</td>\n",
       "      <td>NaN</td>\n",
       "    </tr>\n",
       "  </tbody>\n",
       "</table>\n",
       "</div>"
      ],
      "text/plain": [
       "       transaction_id  product_id  customer_id transaction_date  online_order  \\\n",
<<<<<<< HEAD
       "9236             9411          49         1183       2017-06-20           1.0   \n",
       "16954           17282          16           18       2017-08-18           0.0   \n",
       "16136           16449          33         1683       2017-10-09           1.0   \n",
       "\n",
       "      order_status           brand product_line product_class product_size  \\\n",
       "9236      Approved   Trek Bicycles         Road        medium       medium   \n",
       "16954     Approved  Norco Bicycles     Standard          high        small   \n",
       "16136     Approved  Giant Bicycles     Standard        medium        small   \n",
       "\n",
       "       list_price  standard_cost              address  postcode state  \\\n",
       "9236       533.51         400.13  85931 Johnson Alley    3039.0   VIC   \n",
       "16954     1661.92        1479.11        092 2nd Alley    2135.0   NSW   \n",
       "16136     1311.44        1167.18   4709 Cardinal Hill    2028.0   NSW   \n",
       "\n",
       "         country  property_valuation first_name last_name gender  \\\n",
       "9236   Australia                 6.0        NaN       NaN    NaN   \n",
       "16954  Australia                12.0        NaN       NaN    NaN   \n",
       "16136  Australia                12.0        NaN       NaN    NaN   \n",
       "\n",
       "       past_3_years_purchases DOB job_title job_industry_category  \\\n",
       "9236                      NaN NaT       NaN                   NaN   \n",
       "16954                     NaN NaT       NaN                   NaN   \n",
       "16136                     NaN NaT       NaN                   NaN   \n",
       "\n",
       "      wealth_segment deceased_indicator owns_car  tenure  \n",
       "9236             NaN                NaN      NaN     NaN  \n",
       "16954            NaN                NaN      NaN     NaN  \n",
       "16136            NaN                NaN      NaN     NaN  "
      ]
     },
     "execution_count": 38,
=======
       "2350             2388           0         1742       2017-04-16           1.0   \n",
       "13036           13286           0         1711       2017-07-01           1.0   \n",
       "11081           11290          85         2553       2017-08-02           0.0   \n",
       "\n",
       "      order_status           brand product_line product_class product_size  \\\n",
       "2350      Approved  Norco Bicycles     Standard        medium       medium   \n",
       "13036     Approved  Giant Bicycles     Standard        medium       medium   \n",
       "11081     Approved        WeareA2B     Standard        medium       medium   \n",
       "\n",
       "       list_price  standard_cost           address  postcode state    country  \\\n",
       "2350       360.40         270.30     17 Ohio Drive    4053.0   QLD  Australia   \n",
       "13036      230.91         173.18    2 Dwight Point    4133.0   QLD  Australia   \n",
       "11081     1228.07         400.91  463 Atwood Court    4160.0   QLD  Australia   \n",
       "\n",
       "       property_valuation first_name last_name gender  past_3_years_purchases  \\\n",
       "2350                  7.0        NaN       NaN    NaN                     NaN   \n",
       "13036                 5.0        NaN       NaN    NaN                     NaN   \n",
       "11081                 7.0        NaN       NaN    NaN                     NaN   \n",
       "\n",
       "      DOB job_title job_industry_category wealth_segment deceased_indicator  \\\n",
       "2350  NaT       NaN                   NaN            NaN                NaN   \n",
       "13036 NaT       NaN                   NaN            NaN                NaN   \n",
       "11081 NaT       NaN                   NaN            NaN                NaN   \n",
       "\n",
       "      owns_car  tenure  \n",
       "2350       NaN     NaN  \n",
       "13036      NaN     NaN  \n",
       "11081      NaN     NaN  "
      ]
     },
     "execution_count": 81,
>>>>>>> e14b551b545e52c22207d678cf564683de5c237a
     "metadata": {},
     "output_type": "execute_result"
    }
   ],
   "source": [
    "# Viewing some of the records with missing values in any column\n",
    "data[data.isna().any(axis=1)].sample(3)"
   ]
  },
  {
   "cell_type": "markdown",
   "metadata": {},
   "source": [
    "**Conclusion:**\n",
    "\n",
    "Majorly, missing values result from the matching of the joined dataframe to customer_demographic dataframe, which had the least number of unique customer IDd recorded.\n",
    "\n",
    "I will drop the missing values."
   ]
  },
  {
   "cell_type": "code",
<<<<<<< HEAD
   "execution_count": 39,
=======
   "execution_count": 82,
>>>>>>> e14b551b545e52c22207d678cf564683de5c237a
   "metadata": {},
   "outputs": [
    {
     "data": {
      "text/plain": [
       "(13908, 28)"
      ]
     },
<<<<<<< HEAD
     "execution_count": 39,
=======
     "execution_count": 82,
>>>>>>> e14b551b545e52c22207d678cf564683de5c237a
     "metadata": {},
     "output_type": "execute_result"
    }
   ],
   "source": [
    "# Dropping records with missing values\n",
    "data.dropna(inplace=True)\n",
    "\n",
    "# Checking the new shape of the dataframe\n",
    "data.shape"
   ]
  },
  {
   "cell_type": "code",
<<<<<<< HEAD
   "execution_count": 40,
=======
   "execution_count": 83,
>>>>>>> e14b551b545e52c22207d678cf564683de5c237a
   "metadata": {},
   "outputs": [],
   "source": [
    "# Extracting cleaned and joined data\n",
    "data.to_excel('../KPMG Virtual Internship/Data/Clean data.xlsx', sheet_name='Cleaned data')"
   ]
  },
  {
   "cell_type": "markdown",
   "metadata": {},
   "source": [
    "# Phase 2: Pre-processing and modelling\n",
    "\n",
    "Using the existing 3 datasets (Customer demographic, customer address and transactions) as a labelled dataset, please recommend which of these 1000 new customers should be targeted to drive the most value for the organisation. \n",
    "\n",
    "In building this recommendation, we need to start with a PowerPoint presentation which outlines the approach which we will be taking. The client has agreed on a 3 week scope with the following 3 phases as follows - Data Exploration; Model Development and Interpretation.\n",
    "\n",
    "Prepare a detailed approach for completing the analysis including activities – i.e. understanding the data distributions, feature engineering, data transformations, modelling, results interpretation and reporting. This detailed plan needs to be presented to the client to get a sign-off. Please advise what steps you would take. \n",
    "\n",
    "Please ensure your PowerPoint presentation includes a detailed approach for our strategy behind each of the 3 phases including activities involved in each - i.e. understanding the data distributions, feature engineering, data transformations, modelling, results interpretation and reporting. This detailed plan needs to be presented to the client to get a sign-off.\n",
    "\n",
    "Tips: Raw data fields may be transformed into other calculated fields for modelling purposes (i.e. converting D.O.B to age or age groups). Tips: You may source external data from the ABS / Census to add additional variables that may help support your model. "
   ]
  },
  {
   "cell_type": "markdown",
   "metadata": {},
   "source": [
    "## Step 1: Feature Engineering\n",
    "\n",
    "### Age Column"
   ]
  },
  {
   "cell_type": "code",
<<<<<<< HEAD
   "execution_count": 41,
=======
   "execution_count": 84,
>>>>>>> e14b551b545e52c22207d678cf564683de5c237a
   "metadata": {},
   "outputs": [],
   "source": [
    "# Engineering the 'Age' column\n",
    "data['transaction_year'] = 2017\n",
    "data['YOB'] = data['DOB'].astype('str').map(lambda x: x[:4])\n",
    "data['age'] = data['transaction_year'] - data['YOB'].astype(int)\n",
    "\n",
    "# Dropping columns created/involved in age calculation\n",
    "data.drop(columns=['transaction_year', 'YOB', 'DOB'], inplace=True)"
   ]
  },
  {
   "cell_type": "code",
<<<<<<< HEAD
   "execution_count": 42,
=======
   "execution_count": 85,
>>>>>>> e14b551b545e52c22207d678cf564683de5c237a
   "metadata": {},
   "outputs": [
    {
     "data": {
      "text/plain": [
       "count    13908.000000\n",
       "mean        39.723612\n",
       "std         12.593579\n",
       "min         15.000000\n",
       "25%         30.000000\n",
       "50%         40.000000\n",
       "75%         49.000000\n",
       "max         86.000000\n",
       "Name: age, dtype: float64"
      ]
     },
<<<<<<< HEAD
     "execution_count": 42,
=======
     "execution_count": 85,
>>>>>>> e14b551b545e52c22207d678cf564683de5c237a
     "metadata": {},
     "output_type": "execute_result"
    }
   ],
   "source": [
    "# Checking 'age' description\n",
    "data['age'].describe()"
   ]
  },
  {
   "cell_type": "markdown",
   "metadata": {},
   "source": [
    "### Profit and percentage_profit column"
   ]
  },
  {
   "cell_type": "code",
<<<<<<< HEAD
   "execution_count": 43,
=======
   "execution_count": 86,
>>>>>>> e14b551b545e52c22207d678cf564683de5c237a
   "metadata": {},
   "outputs": [],
   "source": [
    "# Profit and Percentage profit columns formulation\n",
    "data['profit'] = data['list_price'] - data['standard_cost']\n",
    "data['percentage_profit'] = ((data['list_price'] - data['standard_cost']) / data['standard_cost'] * 100).round(2)"
   ]
  },
  {
   "cell_type": "code",
<<<<<<< HEAD
   "execution_count": 44,
=======
   "execution_count": 87,
>>>>>>> e14b551b545e52c22207d678cf564683de5c237a
   "metadata": {},
   "outputs": [
    {
     "data": {
      "text/html": [
       "<div>\n",
       "<style scoped>\n",
       "    .dataframe tbody tr th:only-of-type {\n",
       "        vertical-align: middle;\n",
       "    }\n",
       "\n",
       "    .dataframe tbody tr th {\n",
       "        vertical-align: top;\n",
       "    }\n",
       "\n",
       "    .dataframe thead th {\n",
       "        text-align: right;\n",
       "    }\n",
       "</style>\n",
       "<table border=\"1\" class=\"dataframe\">\n",
       "  <thead>\n",
       "    <tr style=\"text-align: right;\">\n",
       "      <th></th>\n",
       "      <th>profit</th>\n",
       "      <th>percentage_profit</th>\n",
       "      <th>list_price</th>\n",
       "      <th>standard_cost</th>\n",
       "    </tr>\n",
       "  </thead>\n",
       "  <tbody>\n",
       "    <tr>\n",
       "      <th>profit</th>\n",
       "      <td>1.000000</td>\n",
       "      <td>0.403784</td>\n",
       "      <td>0.744624</td>\n",
       "      <td>-0.159568</td>\n",
       "    </tr>\n",
       "    <tr>\n",
       "      <th>percentage_profit</th>\n",
       "      <td>0.403784</td>\n",
       "      <td>1.000000</td>\n",
       "      <td>0.145230</td>\n",
       "      <td>-0.294317</td>\n",
       "    </tr>\n",
       "    <tr>\n",
       "      <th>list_price</th>\n",
       "      <td>0.744624</td>\n",
       "      <td>0.145230</td>\n",
       "      <td>1.000000</td>\n",
       "      <td>0.540114</td>\n",
       "    </tr>\n",
       "    <tr>\n",
       "      <th>standard_cost</th>\n",
       "      <td>-0.159568</td>\n",
       "      <td>-0.294317</td>\n",
       "      <td>0.540114</td>\n",
       "      <td>1.000000</td>\n",
       "    </tr>\n",
       "  </tbody>\n",
       "</table>\n",
       "</div>"
      ],
      "text/plain": [
       "                     profit  percentage_profit  list_price  standard_cost\n",
       "profit             1.000000           0.403784    0.744624      -0.159568\n",
       "percentage_profit  0.403784           1.000000    0.145230      -0.294317\n",
       "list_price         0.744624           0.145230    1.000000       0.540114\n",
       "standard_cost     -0.159568          -0.294317    0.540114       1.000000"
      ]
     },
<<<<<<< HEAD
     "execution_count": 44,
=======
     "execution_count": 87,
>>>>>>> e14b551b545e52c22207d678cf564683de5c237a
     "metadata": {},
     "output_type": "execute_result"
    }
   ],
   "source": [
    "# Correlation overview\n",
    "data[['profit', 'percentage_profit', 'list_price', 'standard_cost']].corr()"
   ]
  },
  {
   "cell_type": "code",
<<<<<<< HEAD
   "execution_count": 45,
=======
   "execution_count": 88,
>>>>>>> e14b551b545e52c22207d678cf564683de5c237a
   "metadata": {},
   "outputs": [
    {
     "data": {
      "text/html": [
       "<div>\n",
       "<style scoped>\n",
       "    .dataframe tbody tr th:only-of-type {\n",
       "        vertical-align: middle;\n",
       "    }\n",
       "\n",
       "    .dataframe tbody tr th {\n",
       "        vertical-align: top;\n",
       "    }\n",
       "\n",
       "    .dataframe thead th {\n",
       "        text-align: right;\n",
       "    }\n",
       "</style>\n",
       "<table border=\"1\" class=\"dataframe\">\n",
       "  <thead>\n",
       "    <tr style=\"text-align: right;\">\n",
       "      <th></th>\n",
       "      <th>profit</th>\n",
       "      <th>percentage_profit</th>\n",
       "    </tr>\n",
       "  </thead>\n",
       "  <tbody>\n",
       "    <tr>\n",
       "      <th>count</th>\n",
       "      <td>13908.000000</td>\n",
       "      <td>13908.000000</td>\n",
       "    </tr>\n",
       "    <tr>\n",
       "      <th>mean</th>\n",
       "      <td>554.892714</td>\n",
       "      <td>318.246724</td>\n",
       "    </tr>\n",
       "    <tr>\n",
       "      <th>std</th>\n",
       "      <td>494.642286</td>\n",
       "      <td>1026.244169</td>\n",
       "    </tr>\n",
       "    <tr>\n",
       "      <th>min</th>\n",
       "      <td>4.800000</td>\n",
       "      <td>7.780000</td>\n",
       "    </tr>\n",
       "    <tr>\n",
       "      <th>25%</th>\n",
       "      <td>133.780000</td>\n",
       "      <td>33.330000</td>\n",
       "    </tr>\n",
       "    <tr>\n",
       "      <th>50%</th>\n",
       "      <td>445.210000</td>\n",
       "      <td>66.670000</td>\n",
       "    </tr>\n",
       "    <tr>\n",
       "      <th>75%</th>\n",
       "      <td>830.240000</td>\n",
       "      <td>208.720000</td>\n",
       "    </tr>\n",
       "    <tr>\n",
       "      <th>max</th>\n",
       "      <td>1702.550000</td>\n",
       "      <td>9519.350000</td>\n",
       "    </tr>\n",
       "  </tbody>\n",
       "</table>\n",
       "</div>"
      ],
      "text/plain": [
       "             profit  percentage_profit\n",
       "count  13908.000000       13908.000000\n",
       "mean     554.892714         318.246724\n",
       "std      494.642286        1026.244169\n",
       "min        4.800000           7.780000\n",
       "25%      133.780000          33.330000\n",
       "50%      445.210000          66.670000\n",
       "75%      830.240000         208.720000\n",
       "max     1702.550000        9519.350000"
      ]
     },
<<<<<<< HEAD
     "execution_count": 45,
=======
     "execution_count": 88,
>>>>>>> e14b551b545e52c22207d678cf564683de5c237a
     "metadata": {},
     "output_type": "execute_result"
    }
   ],
   "source": [
    "# Checking distribution demographic\n",
    "data[['profit', 'percentage_profit']].describe()"
   ]
  },
  {
   "cell_type": "markdown",
   "metadata": {},
   "source": [
    "<h3>Product details Dataframe<h3>"
   ]
  },
  {
   "cell_type": "markdown",
   "metadata": {},
   "source": [
    "\n",
    "Analysing the products sold by the company. Coming up with a measure of lucrativeness for the products sold. "
   ]
  },
  {
   "cell_type": "code",
<<<<<<< HEAD
   "execution_count": 46,
=======
   "execution_count": 89,
>>>>>>> e14b551b545e52c22207d678cf564683de5c237a
   "metadata": {},
   "outputs": [],
   "source": [
    "# Subsetting necessary columns pertaining to products\n",
    "product_details = data[['product_id', 'brand', 'product_line', 'product_class', 'product_size', 'list_price', 'standard_cost', 'percentage_profit']].copy()"
   ]
  },
  {
   "cell_type": "code",
<<<<<<< HEAD
   "execution_count": 47,
=======
   "execution_count": 90,
>>>>>>> e14b551b545e52c22207d678cf564683de5c237a
   "metadata": {},
   "outputs": [],
   "source": [
    "# Dropping duplicates since the aim is to analyse individual products\n",
    "product_details.drop_duplicates(inplace=True)"
   ]
  },
  {
   "cell_type": "code",
<<<<<<< HEAD
   "execution_count": 48,
=======
   "execution_count": 91,
>>>>>>> e14b551b545e52c22207d678cf564683de5c237a
   "metadata": {},
   "outputs": [
    {
     "data": {
      "text/plain": [
       "product_id\n",
       "0      24\n",
       "62      2\n",
       "90      2\n",
       "100     2\n",
       "97      2\n",
       "Name: count, dtype: int64"
      ]
     },
<<<<<<< HEAD
     "execution_count": 48,
=======
     "execution_count": 91,
>>>>>>> e14b551b545e52c22207d678cf564683de5c237a
     "metadata": {},
     "output_type": "execute_result"
    }
   ],
   "source": [
    "# Checking for presence of duplicates in product ID\n",
    "product_details['product_id'].value_counts().head()"
   ]
  },
  {
   "cell_type": "markdown",
   "metadata": {},
   "source": [
    "**Conclusion:**\n",
    "\n",
    "Clearly there are duplicates in product ID, this will make the study of individual products difficult.\n",
    "\n",
    "Dropping the product_id column, then removing the duplicates from the data. \n",
    "\n",
    "This helps solve the problem of duplicate IDs since the other classifying details for the products shouldn't be the same."
   ]
  },
  {
   "cell_type": "markdown",
   "metadata": {},
   "source": [
    "### Product ID replacement"
   ]
  },
  {
   "cell_type": "code",
<<<<<<< HEAD
   "execution_count": 49,
=======
   "execution_count": 92,
>>>>>>> e14b551b545e52c22207d678cf564683de5c237a
   "metadata": {},
   "outputs": [],
   "source": [
    "# Dropping product id\n",
    "product_details.drop('product_id', axis=1, inplace=True)\n",
    "\n",
    "# Dropping duplicates from the remaining of the columns\n",
    "product_details.drop_duplicates(inplace=True)"
   ]
  },
  {
   "cell_type": "code",
<<<<<<< HEAD
   "execution_count": 50,
=======
   "execution_count": 93,
>>>>>>> e14b551b545e52c22207d678cf564683de5c237a
   "metadata": {},
   "outputs": [],
   "source": [
    "# Sorting values by brand so that the product IDs are in some range per brand\n",
    "product_details.sort_values(by='brand', inplace=True)\n",
    "\n",
    "# Creating new product_id from the reset index\n",
    "product_details.reset_index(drop=True, inplace=True)\n",
    "product_details.reset_index(inplace=True)\n",
    "\n",
    "# Renaming the reset index to product_id\n",
    "product_details.rename({'index': 'product_id'}, axis=1, inplace=True)"
   ]
  },
  {
   "cell_type": "code",
<<<<<<< HEAD
   "execution_count": 51,
=======
   "execution_count": 94,
>>>>>>> e14b551b545e52c22207d678cf564683de5c237a
   "metadata": {},
   "outputs": [
    {
     "data": {
      "image/png": "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",
      "text/plain": [
       "<Figure size 640x480 with 1 Axes>"
      ]
     },
     "metadata": {},
     "output_type": "display_data"
    }
   ],
   "source": [
    "# Plotting a boxplot to check for outliers\n",
    "product_details.boxplot(column=['percentage_profit'])\n",
    "plt.title('Percentage_profit boxplot')\n",
    "plt.ylabel('Value')\n",
    "plt.show()"
   ]
  },
  {
   "cell_type": "code",
<<<<<<< HEAD
   "execution_count": 52,
=======
   "execution_count": 95,
>>>>>>> e14b551b545e52c22207d678cf564683de5c237a
   "metadata": {},
   "outputs": [
    {
     "data": {
      "text/html": [
       "<div>\n",
       "<style scoped>\n",
       "    .dataframe tbody tr th:only-of-type {\n",
       "        vertical-align: middle;\n",
       "    }\n",
       "\n",
       "    .dataframe tbody tr th {\n",
       "        vertical-align: top;\n",
       "    }\n",
       "\n",
       "    .dataframe thead th {\n",
       "        text-align: right;\n",
       "    }\n",
       "</style>\n",
       "<table border=\"1\" class=\"dataframe\">\n",
       "  <thead>\n",
       "    <tr style=\"text-align: right;\">\n",
       "      <th></th>\n",
       "      <th>product_id</th>\n",
       "      <th>list_price</th>\n",
       "      <th>standard_cost</th>\n",
       "      <th>percentage_profit</th>\n",
       "    </tr>\n",
       "  </thead>\n",
       "  <tbody>\n",
       "    <tr>\n",
       "      <th>count</th>\n",
       "      <td>13.000000</td>\n",
       "      <td>13.000000</td>\n",
       "      <td>13.000000</td>\n",
       "      <td>13.000000</td>\n",
       "    </tr>\n",
       "    <tr>\n",
       "      <th>mean</th>\n",
       "      <td>65.000000</td>\n",
       "      <td>1420.091538</td>\n",
       "      <td>138.451538</td>\n",
       "      <td>1853.463846</td>\n",
       "    </tr>\n",
       "    <tr>\n",
       "      <th>std</th>\n",
       "      <td>23.825756</td>\n",
       "      <td>372.070725</td>\n",
       "      <td>93.308137</td>\n",
       "      <td>2470.319130</td>\n",
       "    </tr>\n",
       "    <tr>\n",
       "      <th>min</th>\n",
       "      <td>31.000000</td>\n",
       "      <td>795.340000</td>\n",
       "      <td>13.440000</td>\n",
       "      <td>483.900000</td>\n",
       "    </tr>\n",
       "    <tr>\n",
       "      <th>25%</th>\n",
       "      <td>45.000000</td>\n",
       "      <td>1231.150000</td>\n",
       "      <td>74.510000</td>\n",
       "      <td>620.770000</td>\n",
       "    </tr>\n",
       "    <tr>\n",
       "      <th>50%</th>\n",
       "      <td>67.000000</td>\n",
       "      <td>1362.990000</td>\n",
       "      <td>108.760000</td>\n",
       "      <td>682.970000</td>\n",
       "    </tr>\n",
       "    <tr>\n",
       "      <th>75%</th>\n",
       "      <td>88.000000</td>\n",
       "      <td>1769.640000</td>\n",
       "      <td>161.600000</td>\n",
       "      <td>1631.110000</td>\n",
       "    </tr>\n",
       "    <tr>\n",
       "      <th>max</th>\n",
       "      <td>95.000000</td>\n",
       "      <td>1945.430000</td>\n",
       "      <td>333.180000</td>\n",
       "      <td>9519.350000</td>\n",
       "    </tr>\n",
       "  </tbody>\n",
       "</table>\n",
       "</div>"
      ],
      "text/plain": [
       "       product_id   list_price  standard_cost  percentage_profit\n",
       "count   13.000000    13.000000      13.000000          13.000000\n",
       "mean    65.000000  1420.091538     138.451538        1853.463846\n",
       "std     23.825756   372.070725      93.308137        2470.319130\n",
       "min     31.000000   795.340000      13.440000         483.900000\n",
       "25%     45.000000  1231.150000      74.510000         620.770000\n",
       "50%     67.000000  1362.990000     108.760000         682.970000\n",
       "75%     88.000000  1769.640000     161.600000        1631.110000\n",
       "max     95.000000  1945.430000     333.180000        9519.350000"
      ]
     },
<<<<<<< HEAD
     "execution_count": 52,
=======
     "execution_count": 95,
>>>>>>> e14b551b545e52c22207d678cf564683de5c237a
     "metadata": {},
     "output_type": "execute_result"
    }
   ],
   "source": [
    "# Filtering the outliers in the data\n",
    "product_profit_mask = filter_outliers(product_details, 'percentage_profit')\n",
    "\n",
    "# Checking out the description of the outliers in the data\n",
    "product_details[product_profit_mask].describe()"
   ]
  },
  {
   "cell_type": "markdown",
   "metadata": {},
   "source": [
    "Based on the distribution of the percentage_profit of the products, a generalization can be done in 3 classes; Low, Medium, High. \n",
    "\n",
    "I am going to create a new column based on this generalization criteria:\n",
    "\n",
    "- > 0 to 100: Low lucrative products (Based on the distribution of profits, a product returning profit worth one other product can be considered low in terms of lucrativeness)\n",
    "- > greater than 100 to 400: Medium lucrative products\n",
    "- > greater than 400: High lucrative products (The values in this class are the outliers in the product list profits + 2 more values between 400 -480)"
   ]
  },
  {
   "cell_type": "markdown",
   "metadata": {},
   "source": [
    "### product_profitability column"
   ]
  },
  {
   "cell_type": "code",
<<<<<<< HEAD
   "execution_count": 53,
=======
   "execution_count": 96,
>>>>>>> e14b551b545e52c22207d678cf564683de5c237a
   "metadata": {},
   "outputs": [
    {
     "data": {
      "text/plain": [
       "product_profitability\n",
       "low       58\n",
       "medium    25\n",
       "high      16\n",
       "Name: count, dtype: int64"
      ]
     },
<<<<<<< HEAD
     "execution_count": 53,
=======
     "execution_count": 96,
>>>>>>> e14b551b545e52c22207d678cf564683de5c237a
     "metadata": {},
     "output_type": "execute_result"
    }
   ],
   "source": [
    "# Creating product_profitability column\n",
    "lucrative = list()\n",
    "\n",
    "for value in product_details['percentage_profit']:\n",
    "    if value <= 70:\n",
    "        lucrative.append('low')\n",
    "\n",
    "    elif value > 70 and value <= 400:\n",
    "        lucrative.append('medium')\n",
    "\n",
    "    else:\n",
    "        lucrative.append('high')\n",
    "\n",
    "product_details['product_profitability'] = lucrative\n",
    "\n",
    "# Checking the lucrative product balance of classes\n",
    "product_details['product_profitability'].value_counts()"
   ]
  },
  {
   "cell_type": "code",
<<<<<<< HEAD
   "execution_count": 54,
=======
   "execution_count": 97,
>>>>>>> e14b551b545e52c22207d678cf564683de5c237a
   "metadata": {},
   "outputs": [
    {
     "name": "stdout",
     "output_type": "stream",
     "text": [
      "product_profitability\n",
      "low       58\n",
      "medium    25\n",
      "high      16\n",
      "Name: count, dtype: int64\n"
     ]
    }
   ],
   "source": [
    "# Distribution of purchases of products according to lucrativeness\n",
    "print(product_details['product_profitability'].value_counts())"
   ]
  },
  {
   "cell_type": "code",
<<<<<<< HEAD
   "execution_count": 55,
=======
   "execution_count": 98,
>>>>>>> e14b551b545e52c22207d678cf564683de5c237a
   "metadata": {},
   "outputs": [
    {
     "data": {
      "image/png": "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",
      "text/plain": [
       "<Figure size 640x480 with 1 Axes>"
      ]
     },
     "metadata": {},
     "output_type": "display_data"
    },
    {
     "data": {
      "image/png": "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",
      "text/plain": [
       "<Figure size 640x480 with 1 Axes>"
      ]
     },
     "metadata": {},
     "output_type": "display_data"
    },
    {
     "data": {
      "image/png": "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",
      "text/plain": [
       "<Figure size 640x480 with 1 Axes>"
      ]
     },
     "metadata": {},
     "output_type": "display_data"
    },
    {
     "data": {
      "image/png": "iVBORw0KGgoAAAANSUhEUgAAAh8AAAHcCAYAAAB2ychWAAAAOXRFWHRTb2Z0d2FyZQBNYXRwbG90bGliIHZlcnNpb24zLjcuMiwgaHR0cHM6Ly9tYXRwbG90bGliLm9yZy8pXeV/AAAACXBIWXMAAA9hAAAPYQGoP6dpAAAppElEQVR4nO3dfVjUdb7/8dd4N4IyeJMyoiioaN5r6hE1hdag43pK46osatOO2+aS60HXNVmrxbbAY5dI5ZUd6zqG5+Sp3W6s67Qp7GVhRRzxbusgx229g2MQmcTgHRh8f3/4c44TVo7C58sMz8d1zXU53+93hrc1XTz7fL8z47AsyxIAAIAh7eweAAAAtC3EBwAAMIr4AAAARhEfAADAKOIDAAAYRXwAAACjiA8AAGAU8QEAAIzqYPcA39XY2KgvvvhCYWFhcjgcdo8DAACugGVZqq2tVWRkpNq1++G1jVYXH1988YWioqLsHgMAAFyF8vJy9evX7wePaXXxERYWJunC8C6Xy+ZpAADAlfB4PIqKivL+Hv8hrS4+Lp5qcblcxAcAAAHmSi6Z4IJTAABgFPEBAACMIj4AAIBRxAcAADCK+AAAAEYRHwAAwCjiAwAAGEV8AAAAo4gPAABgFPEBAACMIj4AAIBRxAcAADCK+AAAAEYRHwAAwCjiAwAAGNXB7gECWfSKd+0eISgcXT3L7hEAAAax8gEAAIwiPgAAgFHEBwAAMIr4AAAARhEfAADAKOIDAAAYRXwAAACjiA8AAGAU8QEAAIwiPgAAgFHEBwAAMIr4AAAARhEfAADAKOIDAAAYRXwAAACjiA8AAGAU8QEAAIwiPgAAgFHEBwAAMIr4AAAARhEfAADAKOIDAAAYRXwAAACjiA8AAGAU8QEAAIwiPgAAgFF+x8fx48d13333qWfPngoNDdXYsWO1Z88e737LspSRkaHIyEiFhIQoISFBJSUlzTo0AAAIXH7FR3V1taZOnaqOHTvqvffe04EDB7R27Vp169bNe8yaNWuUnZ2t9evXq7i4WG63W4mJiaqtrW3u2QEAQADq4M/B//zP/6yoqCht2rTJuy06Otr7Z8uylJOTo5UrVyo5OVmSlJubq4iICG3ZskUPPfRQ80wNAAACll8rH++8844mTJigO++8U71799a4ceP04osvevcfOXJElZWVSkpK8m5zOp2Kj49XYWFh800NAAACll/xcfjwYW3YsEGxsbHavn27Fi5cqMWLF2vz5s2SpMrKSklSRESEz+MiIiK8+76rrq5OHo/H5wYAAIKXX6ddGhsbNWHCBGVmZkqSxo0bp5KSEm3YsEH333+/9ziHw+HzOMuymmy7KCsrS6tWrfJ3bgAAEKD8Wvno06ePhg8f7rNt2LBhKisrkyS53W5JarLKUVVV1WQ15KL09HTV1NR4b+Xl5f6MBAAAAoxf8TF16lQdPHjQZ9tf//pXDRgwQJIUExMjt9ut/Px87/76+noVFBRoypQpl31Op9Mpl8vlcwMAAMHLr9MuS5Ys0ZQpU5SZmam77rpLu3bt0saNG7Vx40ZJF063pKWlKTMzU7GxsYqNjVVmZqZCQ0OVkpLSIn8BAAAQWPyKj4kTJ+qtt95Senq6nnjiCcXExCgnJ0f33nuv95jly5fr7NmzSk1NVXV1tSZNmqS8vDyFhYU1+/AAACDwOCzLsuwe4lIej0fh4eGqqalp9adgole8a/cIQeHo6ll2jwAAuEb+/P7mu10AAIBRxAcAADCK+AAAAEYRHwAAwCjiAwAAGEV8AAAAo4gPAABgFPEBAACMIj4AAIBRxAcAADCK+AAAAEYRHwAAwCjiAwAAGEV8AAAAo4gPAABgFPEBAACMIj4AAIBRxAcAADCK+AAAAEYRHwAAwCjiAwAAGEV8AAAAo4gPAABgFPEBAACMIj4AAIBRxAcAADCK+AAAAEYRHwAAwCjiAwAAGEV8AAAAo4gPAABgFPEBAACMIj4AAIBRxAcAADCK+AAAAEYRHwAAwCjiAwAAGEV8AAAAo4gPAABgFPEBAACMIj4AAIBRxAcAADDKr/jIyMiQw+Hwubndbu9+y7KUkZGhyMhIhYSEKCEhQSUlJc0+NAAACFx+r3yMGDFCFRUV3ttnn33m3bdmzRplZ2dr/fr1Ki4ultvtVmJiompra5t1aAAAELj8jo8OHTrI7XZ7b7169ZJ0YdUjJydHK1euVHJyskaOHKnc3FydOXNGW7ZsafbBAQBAYPI7Pj7//HNFRkYqJiZGd999tw4fPixJOnLkiCorK5WUlOQ91ul0Kj4+XoWFhc03MQAACGgd/Dl40qRJ2rx5s4YMGaIvv/xSTz75pKZMmaKSkhJVVlZKkiIiInweExERoWPHjn3vc9bV1amurs573+Px+DMSAAAIMH7Fx8yZM71/HjVqlCZPnqxBgwYpNzdXcXFxkiSHw+HzGMuymmy7VFZWllatWuXPGAAAIIBd01ttu3TpolGjRunzzz/3vuvl4grIRVVVVU1WQy6Vnp6umpoa7628vPxaRgIAAK3cNcVHXV2dSktL1adPH8XExMjtdis/P9+7v76+XgUFBZoyZcr3PofT6ZTL5fK5AQCA4OXXaZdly5bp1ltvVf/+/VVVVaUnn3xSHo9H8+bNk8PhUFpamjIzMxUbG6vY2FhlZmYqNDRUKSkpLTU/AAAIMH7Fx//+7//qnnvu0YkTJ9SrVy/FxcWpqKhIAwYMkCQtX75cZ8+eVWpqqqqrqzVp0iTl5eUpLCysRYYHAACBx2FZlmX3EJfyeDwKDw9XTU1Nqz8FE73iXbtHCApHV8+yewQAwDXy5/c33+0CAACMIj4AAIBRxAcAADCK+AAAAEYRHwAAwCjiAwAAGEV8AAAAo4gPAABgFPEBAACMIj4AAIBRxAcAADCK+AAAAEYRHwAAwCjiAwAAGEV8AAAAo4gPAABgFPEBAACMIj4AAIBRxAcAADCK+AAAAEYRHwAAwCjiAwAAGEV8AAAAo4gPAABgFPEBAACMIj4AAIBRxAcAADCK+AAAAEYRHwAAwCjiAwAAGEV8AAAAo4gPAABgFPEBAACMIj4AAIBRxAcAADCK+AAAAEYRHwAAwCjiAwAAGEV8AAAAo4gPAABgFPEBAACMIj4AAIBRxAcAADDqmuIjKytLDodDaWlp3m2WZSkjI0ORkZEKCQlRQkKCSkpKrnVOAAAQJK46PoqLi7Vx40aNHj3aZ/uaNWuUnZ2t9evXq7i4WG63W4mJiaqtrb3mYQEAQOC7qvg4deqU7r33Xr344ovq3r27d7tlWcrJydHKlSuVnJyskSNHKjc3V2fOnNGWLVuabWgAABC4rio+Hn74Yc2aNUs333yzz/YjR46osrJSSUlJ3m1Op1Px8fEqLCy87HPV1dXJ4/H43AAAQPDq4O8DXn31Ve3du1fFxcVN9lVWVkqSIiIifLZHRETo2LFjl32+rKwsrVq1yt8xAABAgPJr5aO8vFz/9E//pH//939X586dv/c4h8Phc9+yrCbbLkpPT1dNTY33Vl5e7s9IAAAgwPi18rFnzx5VVVVp/Pjx3m0NDQ3auXOn1q9fr4MHD0q6sALSp08f7zFVVVVNVkMucjqdcjqdVzM7AAAIQH6tfMyYMUOfffaZ9u/f771NmDBB9957r/bv36+BAwfK7XYrPz/f+5j6+noVFBRoypQpzT48AAAIPH6tfISFhWnkyJE+27p06aKePXt6t6elpSkzM1OxsbGKjY1VZmamQkNDlZKS0nxTAwCAgOX3Bac/Zvny5Tp79qxSU1NVXV2tSZMmKS8vT2FhYc39owAAQAByWJZl2T3EpTwej8LDw1VTUyOXy2X3OD8oesW7do8QFI6unmX3CACAa+TP72++2wUAABhFfAAAAKOIDwAAYBTxAQAAjCI+AACAUcQHAAAwivgAAABGER8AAMAo4gMAABhFfAAAAKOIDwAAYBTxAQAAjCI+AACAUcQHAAAwivgAAABGER8AAMAo4gMAABhFfAAAAKOIDwAAYBTxAQAAjCI+AACAUcQHAAAwivgAAABGER8AAMAo4gMAABhFfAAAAKOIDwAAYBTxAQAAjCI+AACAUcQHAAAwivgAAABGER8AAMAo4gMAABhFfAAAAKOIDwAAYBTxAQAAjCI+AACAUcQHAAAwivgAAABGER8AAMAo4gMAABhFfAAAAKP8io8NGzZo9OjRcrlccrlcmjx5st577z3vfsuylJGRocjISIWEhCghIUElJSXNPjQAAAhcfsVHv379tHr1au3evVu7d+/WT37yE82ePdsbGGvWrFF2drbWr1+v4uJiud1uJSYmqra2tkWGBwAAgcev+Lj11lv105/+VEOGDNGQIUP01FNPqWvXrioqKpJlWcrJydHKlSuVnJyskSNHKjc3V2fOnNGWLVtaan4AABBgrvqaj4aGBr366qs6ffq0Jk+erCNHjqiyslJJSUneY5xOp+Lj41VYWNgswwIAgMDXwd8HfPbZZ5o8ebLOnTunrl276q233tLw4cO9gREREeFzfEREhI4dO/a9z1dXV6e6ujrvfY/H4+9IAAAggPi98jF06FDt379fRUVF+uUvf6l58+bpwIED3v0Oh8PneMuymmy7VFZWlsLDw723qKgof0cCAAABxO/46NSpkwYPHqwJEyYoKytLY8aM0TPPPCO32y1Jqqys9Dm+qqqqyWrIpdLT01VTU+O9lZeX+zsSAAAIINf8OR+WZamurk4xMTFyu93Kz8/37quvr1dBQYGmTJnyvY93Op3et+5evAEAgODl1zUfv/3tbzVz5kxFRUWptrZWr776qj744ANt27ZNDodDaWlpyszMVGxsrGJjY5WZmanQ0FClpKS01PwAACDA+BUfX375pX72s5+poqJC4eHhGj16tLZt26bExERJ0vLly3X27FmlpqaqurpakyZNUl5ensLCwlpkeAAAEHgclmVZdg9xKY/Ho/DwcNXU1LT6UzDRK961e4SgcHT1LLtHAABcI39+f/PdLgAAwCjiAwAAGEV8AAAAo4gPAABgFPEBAACMIj4AAIBRxAcAADCK+AAAAEYRHwAAwCjiAwAAGEV8AAAAo4gPAABgFPEBAACMIj4AAIBRxAcAADCK+AAAAEYRHwAAwCjiAwAAGEV8AAAAo4gPAABgFPEBAACMIj4AAIBRxAcAADCK+AAAAEYRHwAAwCjiAwAAGEV8AAAAo4gPAABgFPEBAACMIj4AAIBRxAcAADCK+AAAAEYRHwAAwCjiAwAAGEV8AAAAo4gPAABgFPEBAACMIj4AAIBRxAcAADCK+AAAAEYRHwAAwCjiAwAAGOVXfGRlZWnixIkKCwtT7969NWfOHB08eNDnGMuylJGRocjISIWEhCghIUElJSXNOjQAAAhcfsVHQUGBHn74YRUVFSk/P1/ffvutkpKSdPr0ae8xa9asUXZ2ttavX6/i4mK53W4lJiaqtra22YcHAACBp4M/B2/bts3n/qZNm9S7d2/t2bNH06dPl2VZysnJ0cqVK5WcnCxJys3NVUREhLZs2aKHHnqo+SYHAAAB6Zqu+aipqZEk9ejRQ5J05MgRVVZWKikpyXuM0+lUfHy8CgsLr+VHAQCAIOHXyselLMvS0qVLdeONN2rkyJGSpMrKSklSRESEz7ERERE6duzYZZ+nrq5OdXV13vsej+dqRwIAAAHgqlc+Fi1apE8//VT/8R//0WSfw+HwuW9ZVpNtF2VlZSk8PNx7i4qKutqRAABAALiq+PjVr36ld955R++//7769evn3e52uyX93wrIRVVVVU1WQy5KT09XTU2N91ZeXn41IwEAgADhV3xYlqVFixbpzTff1I4dOxQTE+OzPyYmRm63W/n5+d5t9fX1Kigo0JQpUy77nE6nUy6Xy+cGAACCl1/XfDz88MPasmWL3n77bYWFhXlXOMLDwxUSEiKHw6G0tDRlZmYqNjZWsbGxyszMVGhoqFJSUlrkLwAAAAKLX/GxYcMGSVJCQoLP9k2bNmn+/PmSpOXLl+vs2bNKTU1VdXW1Jk2apLy8PIWFhTXLwAAAILD5FR+WZf3oMQ6HQxkZGcrIyLjamQBcpegV79o9QtA4unqW3SMAQYvvdgEAAEYRHwAAwCjiAwAAGEV8AAAAo4gPAABgFPEBAACMIj4AAIBRxAcAADCK+AAAAEYRHwAAwCjiAwAAGEV8AAAAo4gPAABgFPEBAACMIj4AAIBRxAcAADCK+AAAAEYRHwAAwCjiAwAAGEV8AAAAo4gPAABgFPEBAACMIj4AAIBRxAcAADCK+AAAAEYRHwAAwKgOdg8AAAhe0SvetXuEoHF09Sy7R2g2rHwAAACjiA8AAGAU8QEAAIwiPgAAgFHEBwAAMIr4AAAARhEfAADAKOIDAAAYRXwAAACjiA8AAGAU8QEAAIwiPgAAgFHEBwAAMIr4AAAARhEfAADAKOIDAAAY5Xd87Ny5U7feeqsiIyPlcDi0detWn/2WZSkjI0ORkZEKCQlRQkKCSkpKmmteAAAQ4PyOj9OnT2vMmDFav379ZfevWbNG2dnZWr9+vYqLi+V2u5WYmKja2tprHhYAAAS+Dv4+YObMmZo5c+Zl91mWpZycHK1cuVLJycmSpNzcXEVERGjLli166KGHrm1aAAAQ8Jr1mo8jR46osrJSSUlJ3m1Op1Px8fEqLCy87GPq6urk8Xh8bgAAIHg1a3xUVlZKkiIiIny2R0REePd9V1ZWlsLDw723qKio5hwJAAC0Mi3ybheHw+Fz37KsJtsuSk9PV01NjfdWXl7eEiMBAIBWwu9rPn6I2+2WdGEFpE+fPt7tVVVVTVZDLnI6nXI6nc05BgAAaMWadeUjJiZGbrdb+fn53m319fUqKCjQlClTmvNHAQCAAOX3ysepU6f0t7/9zXv/yJEj2r9/v3r06KH+/fsrLS1NmZmZio2NVWxsrDIzMxUaGqqUlJRmHRwAAAQmv+Nj9+7duummm7z3ly5dKkmaN2+eXn75ZS1fvlxnz55VamqqqqurNWnSJOXl5SksLKz5pgYAAAHL7/hISEiQZVnfu9/hcCgjI0MZGRnXMhcAAAhSfLcLAAAwivgAAABGER8AAMAo4gMAABhFfAAAAKOIDwAAYBTxAQAAjCI+AACAUcQHAAAwivgAAABGER8AAMAo4gMAABhFfAAAAKOIDwAAYBTxAQAAjCI+AACAUcQHAAAwivgAAABGER8AAMAo4gMAABhFfAAAAKOIDwAAYBTxAQAAjCI+AACAUcQHAAAwivgAAABGER8AAMAo4gMAABhFfAAAAKOIDwAAYBTxAQAAjCI+AACAUcQHAAAwivgAAABGER8AAMAo4gMAABhFfAAAAKOIDwAAYBTxAQAAjCI+AACAUcQHAAAwivgAAABGtVh8PP/884qJiVHnzp01fvx4ffjhhy31owAAQABpkfh47bXXlJaWppUrV2rfvn2aNm2aZs6cqbKyspb4cQAAIIC0SHxkZ2drwYIF+vnPf65hw4YpJydHUVFR2rBhQ0v8OAAAEECaPT7q6+u1Z88eJSUl+WxPSkpSYWFhc/84AAAQYDo09xOeOHFCDQ0NioiI8NkeERGhysrKJsfX1dWprq7Oe7+mpkaS5PF4mnu0ZtdYd8buEYJCIPy7DhS8JpsPr8vmwWuy+bT21+TF+SzL+tFjmz0+LnI4HD73Lctqsk2SsrKytGrVqibbo6KiWmo0tDLhOXZPADTF6xKtTaC8JmtraxUeHv6DxzR7fFx33XVq3759k1WOqqqqJqshkpSenq6lS5d67zc2NurkyZPq2bPnZWMFV87j8SgqKkrl5eVyuVx2jwPwmkSrxOuyeViWpdraWkVGRv7osc0eH506ddL48eOVn5+v22+/3bs9Pz9fs2fPbnK80+mU0+n02datW7fmHqtNc7lc/AeFVoXXJFojXpfX7sdWPC5qkdMuS5cu1c9+9jNNmDBBkydP1saNG1VWVqaFCxe2xI8DAAABpEXiY+7cufr666/1xBNPqKKiQiNHjtSf/vQnDRgwoCV+HAAACCAtdsFpamqqUlNTW+rpcQWcTqd+97vfNTmtBdiF1yRaI16X5jmsK3lPDAAAQDPhi+UAAIBRxAcAADCK+AAAAEYRHwAAwCjiAwAAGNVib7UFAKA1SU5OvuJj33zzzRacBMRHkDl37pyee+45vf/++6qqqlJjY6PP/r1799o0Gdq6Q4cOadOmTTp06JCeeeYZ9e7dW9u2bVNUVJRGjBhh93hoA670o7/R8vicjyCTkpKi/Px83XHHHYqIiGjy5Xy/+93vbJoMbVlBQYFmzpypqVOnaufOnSotLdXAgQO1Zs0a7dq1S6+//rrdIwIwiPgIMuHh4frTn/6kqVOn2j0K4DV58mTdeeedWrp0qcLCwvSXv/xFAwcOVHFxsebMmaPjx4/bPSIAgzjtEmT69u2rsLAwu8cAfHz22WfasmVLk+29evXS119/bcNEaIvGjRvXZDX4+3CKumURH0Fm7dq1euSRR/TCCy/wRX5oNbp166aKigrFxMT4bN+3b5/69u1r01Roa+bMmWP3CPj/iI8gM2HCBJ07d04DBw5UaGioOnbs6LP/5MmTNk2GtiwlJUWPPPKI/vjHP8rhcKixsVEff/yxli1bpvvvv9/u8dBGcM1b68E1H0Hm5ptvVllZmRYsWHDZC07nzZtn02Roy86fP6/58+fr1VdflWVZ6tChgxoaGpSSkqKXX35Z7du3t3tEAAYRH0EmNDRUn3zyicaMGWP3KEAThw4d0r59+9TY2Khx48YpNjbW7pHQRjU0NGjdunX6wx/+oLKyMtXX1/vsZ5W4ZXHaJchcf/31Onv2rN1jAJc1aNAgDRo0yO4xAK1atUovvfSSli5dqscee0wrV67U0aNHtXXrVj3++ON2jxf0WPkIMnl5eVq1apWeeuopjRo1qsk1Hy6Xy6bJ0JYtXbr0stsdDoc6d+6swYMHa/bs2erRo4fhydBWDRo0SM8++6xmzZqlsLAw7d+/37utqKjosu/OQvMhPoJMu3YXvq7nu9d6WJYlh8OhhoYGO8ZCG3fTTTdp7969amho0NChQ2VZlj7//HO1b99e119/vQ4ePCiHw6GPPvpIw4cPt3tctAFdunRRaWmp+vfvrz59+ujdd9/VDTfcoMOHD2vcuHGqqamxe8SgxmmXIPP+++/bPQLQxMVVjU2bNnlX3zwejxYsWKAbb7xRDz74oFJSUrRkyRJt377d5mnRFvTr108VFRXq37+/Bg8erLy8PN1www0qLi6W0+m0e7ygx8oHgBbXt29f5efnN1nVKCkpUVJSko4fP669e/cqKSlJJ06csGlKtCUrVqyQy+XSb3/7W73++uu65557FB0drbKyMi1ZskSrV6+2e8SgxspHkNm5c+cP7p8+fbqhSYD/U1NTo6qqqibx8dVXX8nj8Ui68EFk333HAdBSLo2LO+64Q/369VNhYaEGDx6s2267zcbJ2gbiI8gkJCQ02Xbp9R9c8wE7zJ49W//4j/+otWvXauLEiXI4HNq1a5eWLVvm/dTJXbt2aciQIfYOijYrLi5OcXFxdo/RZnDaJch89yKp8+fPa9++fXrsscf01FNPacaMGTZNhrbs1KlTWrJkiTZv3qxvv/1WktShQwfNmzdP69atU5cuXbR//35J0tixY+0bFG3K8ePH9fHHH6uqqkqNjY0++xYvXmzTVG0D8dFG7Ny5U0uWLNGePXvsHgVtTENDgz766CONGjVKnTp10uHDh2VZlgYNGqSuXbvaPR7aqE2bNmnhwoXq1KmTevbs6bNC7HA4dPjwYRunC37ERxtRWlqqiRMn6tSpU3aPgjaoc+fOKi0tbfLFcoBdoqKitHDhQqWnp3s/ogDmcM1HkPn000997luWpYqKCq1evZqPXIdtRo0apcOHDxMfaDXOnDmju+++m/CwCSsfQaZdu3ZyOBz67r/WuLg4/eu//quuv/56myZDW5aXl6dHHnlEv//97zV+/Hh16dLFZz+fvAvTli9frh49emjFihV2j9ImER9B5tixYz7327Vrp169eqlz5842TQTI5/8uLz23zifvwi4NDQ36h3/4B509e/ayX0WRnZ1t02RtA6ddgsyAAQPsHgFogk/eRWuTmZmp7du3a+jQoZLU5IJTtCxWPoLAs88+q1/84hfq3Lmznn322R88lrePAYDUvXt3rVu3TvPnz7d7lDaJ+AgCMTEx2r17t3r27PmDF/Tx9jHY7cyZMyorK2vySaajR4+2aSK0VW63Wx9++KFiY2PtHqVNIj4AtLivvvpKDzzwgN57773L7ueaD5iWlZWlioqKH10tRsvgmg8ALS4tLU3V1dUqKirSTTfdpLfeektffvmlnnzySa1du9bu8dAG7dq1Szt27NB//ud/asSIEU0uOH3zzTdtmqxtID6CwNKlS6/4WK7ghh127Niht99+WxMnTlS7du00YMAAJSYmyuVyKSsrS7NmzbJ7RLQx3bp1U3Jyst1jtFnERxDYt2+fz/09e/aooaHBexX3X//6V7Vv317jx4+3YzxAp0+fVu/evSVJPXr00FdffaUhQ4Zo1KhR2rt3r83ToS16/vnn1djY6P3MmaNHj2rr1q0aNmyYbrnlFpunC37ERxC49G2M2dnZCgsLU25urrp37y5Jqq6u1gMPPKBp06bZNSLauKFDh+rgwYOKjo7W2LFj9S//8i+Kjo7WCy+8oD59+tg9Htqg2bNnKzk5WQsXLtQ333yjuLg4dezYUSdOnFB2drZ++ctf2j1iUOOC0yDTt29f5eXlacSIET7b//u//1tJSUn64osvbJoMbdkrr7yi8+fPa/78+dq3b59uueUWnThxQp06dVJubq7mzp1r94hoY6677joVFBRoxIgReumll/Tcc89p3759euONN/T444+rtLTU7hGDGisfQcbj8ejLL79sEh9VVVWqra21aSq0dffee6/3z+PGjdPRo0f1P//zP+rfv7+uu+46GydDW3XmzBmFhYVJuvDx/8nJyWrXrp3i4uKafFI0mh/xEWRuv/12PfDAA1q7dq3i4uIkSUVFRfrNb37DxVUwiguh0ZoNHjxYW7du1e23367t27dryZIlki78jxrfNdTyiI8g88ILL2jZsmW67777dP78eUlShw4dtGDBAj399NM2T4e25LsXQn8fPsoadnj88ceVkpKiJUuWaMaMGZo8ebKkC6sg48aNs3m64Mc1H0Hq9OnTOnTokCzL0uDBg5t8iygAtHWVlZWqqKjQmDFjvF9+uGvXLrlcLr4BvIURH0Hqb3/7mw4dOqTp06crJCTE++2hAADYrd2PH4JA8vXXX2vGjBkaMmSIfvrTn6qiokKS9POf/1y//vWvbZ4OAADiI+gsWbJEHTt2VFlZmUJDQ73b586dq23bttk4GQAAF3DBaZDJy8vT9u3b1a9fP5/tsbGxvH0MANAqsPIRZE6fPu2z4nHRiRMn5HQ6bZgIAABfxEeQmT59ujZv3uy973A41NjYqKefflo33XSTjZMBAHAB73YJMgcOHFBCQoLGjx+vHTt26LbbblNJSYlOnjypjz/+WIMGDbJ7RABAG0d8BKGKigq98MIL2rNnjxobG3XDDTfo4Ycf5gu8AACtAvERhM6dO6dPP/1UVVVVamxs9Nl322232TQVAAAX8G6XILNt2zbdf//9+vrrr/XdrnQ4HGpoaLBpMgAALuCC0yCzaNEi3Xnnnfriiy/U2NjocyM8AACtAaddgozL5dK+ffu4sBQA0Gqx8hFk7rjjDn3wwQd2jwEAwPdi5SPInDlzRnfeead69eqlUaNGqWPHjj77Fy9ebNNkAABcQHwEmZdeekkLFy5USEiIevbs6fNNtg6HQ4cPH7ZxOgAAiI+g43a7tXjxYq1YsULt2nFWDQDQ+vDbKcjU19dr7ty5hAcAoNXiN1SQmTdvnl577TW7xwAA4HvxIWNBpqGhQWvWrNH27ds1evToJhecZmdn2zQZAAAXcM1HkPmhb651OBzasWOHwWkAAGiK+AAAAEZxzQcAADCK+AAAAEYRHwAAwCjiAwAAGEV8APBbdHS0cnJy7B7jezkcDm3dutXuMQB8Dz7nA4Dt5s+fr2+++abZgqGiokLdu3dvlucC0PyID6CNqq+vV6dOneweo0W43W67RwDwAzjtAgSJhIQELVq0SIsWLVK3bt3Us2dPPfroo7r4UT7R0dF68sknNX/+fIWHh+vBBx+UJL3xxhsaMWKEnE6noqOjtXbtWp/nraqq0q233qqQkBDFxMTolVde8dl/9OhRORwO7d+/37vtm2++kcPh0AcffODdVlJSolmzZsnlciksLEzTpk3ToUOHlJGRodzcXL399ttyOBxNHnc59fX1WrRokfr06aPOnTsrOjpaWVlZ3v2XnnbJyMjwPu+lt5dfflmSZFmW1qxZo4EDByokJERjxozR66+/7sc/eQD+YuUDCCK5ublasGCB/uu//ku7d+/WL37xCw0YMMAbGk8//bQee+wxPfroo5KkPXv26K677lJGRobmzp2rwsJCpaamqmfPnpo/f76kC6dEysvLtWPHDnXq1EmLFy9WVVWVX3MdP35c06dPV0JCgnbs2CGXy6WPP/5Y3377rZYtW6bS0lJ5PB5t2rRJktSjR48ffL5nn31W77zzjv7whz+of//+Ki8vV3l5+WWPXbZsmRYuXOi9/8orr+jxxx/XhAkTJEmPPvqo3nzzTW3YsEGxsbHauXOn7rvvPvXq1Uvx8fF+/T0BXCELQFCIj4+3hg0bZjU2Nnq3PfLII9awYcMsy7KsAQMGWHPmzPF5TEpKipWYmOiz7Te/+Y01fPhwy7Is6+DBg5Ykq6ioyLu/tLTUkmStW7fOsizLOnLkiCXJ2rdvn/eY6upqS5L1/vvvW5ZlWenp6VZMTIxVX19/2dnnzZtnzZ49+4r/rr/61a+sn/zkJz5/10tJst56660m2z/55BOrc+fO1muvvWZZlmWdOnXK6ty5s1VYWOhz3IIFC6x77rnniucB4B9OuwBBJC4uTg6Hw3t/8uTJ+vzzz9XQ0CBJ3v/bv6i0tFRTp0712TZ16lTvY0pLS9WhQwefx11//fXq1q2bX3Pt379f06ZNa/JFh1dr/vz52r9/v4YOHarFixcrLy/vRx9TVlamOXPmaNmyZbrrrrskSQcOHNC5c+eUmJiorl27em+bN2/WoUOHmmVWAE1x2gVoQ7p06eJz37Isn1i5uO27f/7uMZdq165dk8edP3/e55iQkJCrG/h73HDDDTpy5Ijee+89/fnPf9Zdd92lm2+++Xuv1Th9+rRuu+02TZ48WU888YR3e2NjoyTp3XffVd++fX0e43Q6m3VmAP+HlQ8giBQVFTW5Hxsbq/bt21/2+OHDh+ujjz7y2VZYWKghQ4aoffv2GjZsmL799lvt3r3bu//gwYP65ptvvPd79eol6cLbWy+69OJTSRo9erQ+/PDDJlFyUadOnbyrM1fK5XJp7ty5evHFF/Xaa6/pjTfe0MmTJ5scZ1mW7rvvPjU2Nurf/u3ffEJq+PDhcjqdKisr0+DBg31uUVFRfs0D4Mqx8gEEkfLyci1dulQPPfSQ9u7dq+eee67Ju1cu9etf/1oTJ07U73//e82dO1effPKJ1q9fr+eff16SNHToUP393/+9HnzwQW3cuFEdOnRQWlqaz0pGSEiI4uLitHr1akVHR+vEiRPeC1ovWrRokZ577jndfffdSk9PV3h4uIqKivR3f/d3Gjp0qKKjo7V9+3YdPHhQPXv2VHh4+A+eolm3bp369OmjsWPHql27dvrjH/8ot9t92dNBGRkZ+vOf/6y8vDydOnVKp06dkiSFh4crLCxMy5Yt05IlS9TY2Kgbb7xRHo9HhYWF6tq1q+bNm+fPP34AV8rWK04ANJv4+HgrNTXVWrhwoeVyuazu3btbK1as8F6UOWDAAO9Fopd6/fXXreHDh1sdO3a0+vfvbz399NM++ysqKqxZs2ZZTqfT6t+/v7V58+Ymz3XgwAErLi7OCgkJscaOHWvl5eX5XHBqWZb1l7/8xUpKSrJCQ0OtsLAwa9q0adahQ4csy7KsqqoqKzEx0eratWuTx13Oxo0brbFjx1pdunSxXC6XNWPGDGvv3r3e/brkgtP4+HhLUpPbpk2bLMuyrMbGRuuZZ56xhg4danXs2NHq1auXdcstt1gFBQVX9g8egN8clnXJiVoAASshIUFjx45t1R97DgAS13wAAADDiA8ArU5mZqbPW18vvc2cOdPu8QBcI067AGh1Tp48edl3rkgXLnD97ttiAQQW4gMAABjFaRcAAGAU8QEAAIwiPgAAgFHEBwAAMIr4AAAARhEfAADAKOIDAAAYRXwAAACj/h8b0f/ry65QogAAAABJRU5ErkJggg==",
      "text/plain": [
       "<Figure size 640x480 with 1 Axes>"
      ]
     },
     "metadata": {},
     "output_type": "display_data"
    },
    {
     "data": {
      "image/png": "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",
      "text/plain": [
       "<Figure size 640x480 with 1 Axes>"
      ]
     },
     "metadata": {},
     "output_type": "display_data"
    }
   ],
   "source": [
    "product_categories_list = ['brand', 'product_line', 'product_class', 'product_size', 'product_profitability']\n",
    "\n",
    "# Checking out the distribution of values in categorical product related columns\n",
    "for col in product_categories_list:\n",
    "    product_details[col].value_counts().plot.bar()\n",
    "    plt.show()"
   ]
  },
  {
   "cell_type": "code",
<<<<<<< HEAD
   "execution_count": 56,
=======
   "execution_count": 99,
>>>>>>> e14b551b545e52c22207d678cf564683de5c237a
   "metadata": {},
   "outputs": [],
   "source": [
    "# Extracting product details (with unique and new IDs) data\n",
    "product_details.to_excel('../KPMG Virtual Internship/Data/Product details.xlsx', sheet_name='Product Info')"
   ]
  },
  {
   "cell_type": "markdown",
   "metadata": {},
   "source": [
    "### Merging product details to the whole transactions dataset"
   ]
  },
  {
   "cell_type": "code",
<<<<<<< HEAD
   "execution_count": 57,
=======
   "execution_count": 100,
>>>>>>> e14b551b545e52c22207d678cf564683de5c237a
   "metadata": {},
   "outputs": [],
   "source": [
    "# Dropping product_id and percentage profit columns from data to prevent joining error\n",
    "data.drop(columns=['product_id', 'percentage_profit'], inplace=True)\n",
    "\n",
    "# Joining the data\n",
    "data = data.merge(product_details, \n",
    "                  left_on=['brand', 'product_line', 'product_class', 'product_size', 'list_price', 'standard_cost'], \n",
    "                  right_on=['brand', 'product_line', 'product_class', 'product_size', 'list_price', 'standard_cost'], \n",
    "                  how='left', \n",
    "                  suffixes=(\"\", \"\"))\n",
    "\n",
    "# Reindexing data columns\n",
    "data = data.reindex(columns=['customer_id', 'age', 'address', 'postcode', 'state', 'property_valuation', 'gender', 'past_3_years_purchases', 'job_title', 'job_industry_category', \n",
    "                             'wealth_segment', 'tenure', 'transaction_date', 'product_id', 'online_order', 'brand', 'product_line', 'product_class', 'product_size', 'list_price', 'standard_cost', \n",
    "                             'profit', 'percentage_profit', 'product_profitability'])"
   ]
  },
  {
   "cell_type": "code",
<<<<<<< HEAD
   "execution_count": 58,
=======
   "execution_count": 101,
>>>>>>> e14b551b545e52c22207d678cf564683de5c237a
   "metadata": {},
   "outputs": [
    {
     "data": {
      "text/plain": [
       "(13908, 24)"
      ]
     },
<<<<<<< HEAD
     "execution_count": 58,
=======
     "execution_count": 101,
>>>>>>> e14b551b545e52c22207d678cf564683de5c237a
     "metadata": {},
     "output_type": "execute_result"
    }
   ],
   "source": [
    "# Confirming original shape (length) has been maintained\n",
    "data.shape"
   ]
  },
  {
   "cell_type": "markdown",
   "metadata": {},
   "source": [
    "<h3>Customer Details Dataframe<h3>"
   ]
  },
  {
   "cell_type": "markdown",
   "metadata": {},
   "source": [
    "I will analyse the customers of the company and come up with a measure of marketability for the customerss based on their features.  "
   ]
  },
  {
   "cell_type": "code",
<<<<<<< HEAD
   "execution_count": 59,
=======
   "execution_count": 102,
>>>>>>> e14b551b545e52c22207d678cf564683de5c237a
   "metadata": {},
   "outputs": [],
   "source": [
    "# Subsetting columns that are not customer related\n",
    "customer_unrelated = ['brand', 'product_line', 'product_class', 'product_size', 'list_price', 'standard_cost', 'percentage_profit', 'transaction_date']\n",
    "\n",
    "# Creating customer Dataframe\n",
    "customer_details = data[[column for column in data.columns.to_list() if column not in customer_unrelated]].copy()"
   ]
  },
  {
   "cell_type": "code",
<<<<<<< HEAD
   "execution_count": 60,
=======
   "execution_count": 103,
>>>>>>> e14b551b545e52c22207d678cf564683de5c237a
   "metadata": {},
   "outputs": [
    {
     "data": {
      "text/html": [
       "<div>\n",
       "<style scoped>\n",
       "    .dataframe tbody tr th:only-of-type {\n",
       "        vertical-align: middle;\n",
       "    }\n",
       "\n",
       "    .dataframe tbody tr th {\n",
       "        vertical-align: top;\n",
       "    }\n",
       "\n",
       "    .dataframe thead th {\n",
       "        text-align: right;\n",
       "    }\n",
       "</style>\n",
       "<table border=\"1\" class=\"dataframe\">\n",
       "  <thead>\n",
       "    <tr style=\"text-align: right;\">\n",
       "      <th></th>\n",
       "      <th>customer_id</th>\n",
       "      <th>age</th>\n",
       "      <th>address</th>\n",
       "      <th>postcode</th>\n",
       "      <th>state</th>\n",
       "      <th>property_valuation</th>\n",
       "      <th>gender</th>\n",
       "      <th>past_3_years_purchases</th>\n",
       "      <th>job_title</th>\n",
       "      <th>job_industry_category</th>\n",
       "      <th>wealth_segment</th>\n",
       "      <th>tenure</th>\n",
       "      <th>product_id</th>\n",
       "      <th>online_order</th>\n",
       "      <th>profit</th>\n",
       "      <th>product_profitability</th>\n",
       "    </tr>\n",
       "  </thead>\n",
       "  <tbody>\n",
       "    <tr>\n",
       "      <th>0</th>\n",
       "      <td>2950</td>\n",
       "      <td>62</td>\n",
       "      <td>984 Hoepker Court</td>\n",
       "      <td>3064.0</td>\n",
       "      <td>VIC</td>\n",
       "      <td>6.0</td>\n",
       "      <td>Male</td>\n",
       "      <td>19.0</td>\n",
       "      <td>Software Engineer I</td>\n",
       "      <td>Financial Services</td>\n",
       "      <td>Mass Customer</td>\n",
       "      <td>10.0</td>\n",
       "      <td>53</td>\n",
       "      <td>0.0</td>\n",
       "      <td>17.87</td>\n",
       "      <td>low</td>\n",
       "    </tr>\n",
       "    <tr>\n",
       "      <th>1</th>\n",
       "      <td>3120</td>\n",
       "      <td>38</td>\n",
       "      <td>4 Shopko Circle</td>\n",
       "      <td>2196.0</td>\n",
       "      <td>NSW</td>\n",
       "      <td>5.0</td>\n",
       "      <td>Female</td>\n",
       "      <td>89.0</td>\n",
       "      <td>Clinical Specialist</td>\n",
       "      <td>Health</td>\n",
       "      <td>Mass Customer</td>\n",
       "      <td>10.0</td>\n",
       "      <td>68</td>\n",
       "      <td>1.0</td>\n",
       "      <td>1702.55</td>\n",
       "      <td>high</td>\n",
       "    </tr>\n",
       "    <tr>\n",
       "      <th>2</th>\n",
       "      <td>402</td>\n",
       "      <td>40</td>\n",
       "      <td>586 Miller Parkway</td>\n",
       "      <td>2835.0</td>\n",
       "      <td>NSW</td>\n",
       "      <td>1.0</td>\n",
       "      <td>Male</td>\n",
       "      <td>9.0</td>\n",
       "      <td>Desktop Support Technician</td>\n",
       "      <td>Retail</td>\n",
       "      <td>Affluent Customer</td>\n",
       "      <td>22.0</td>\n",
       "      <td>33</td>\n",
       "      <td>0.0</td>\n",
       "      <td>1544.61</td>\n",
       "      <td>high</td>\n",
       "    </tr>\n",
       "    <tr>\n",
       "      <th>3</th>\n",
       "      <td>3135</td>\n",
       "      <td>55</td>\n",
       "      <td>1617 Harper Parkway</td>\n",
       "      <td>2096.0</td>\n",
       "      <td>NSW</td>\n",
       "      <td>10.0</td>\n",
       "      <td>Male</td>\n",
       "      <td>83.0</td>\n",
       "      <td>Staff Scientist</td>\n",
       "      <td>Financial Services</td>\n",
       "      <td>Mass Customer</td>\n",
       "      <td>16.0</td>\n",
       "      <td>17</td>\n",
       "      <td>0.0</td>\n",
       "      <td>817.36</td>\n",
       "      <td>medium</td>\n",
       "    </tr>\n",
       "    <tr>\n",
       "      <th>4</th>\n",
       "      <td>2339</td>\n",
       "      <td>59</td>\n",
       "      <td>7174 Thackeray Point</td>\n",
       "      <td>2153.0</td>\n",
       "      <td>NSW</td>\n",
       "      <td>10.0</td>\n",
       "      <td>Male</td>\n",
       "      <td>3.0</td>\n",
       "      <td>Web Designer II</td>\n",
       "      <td>Property</td>\n",
       "      <td>Affluent Customer</td>\n",
       "      <td>16.0</td>\n",
       "      <td>14</td>\n",
       "      <td>1.0</td>\n",
       "      <td>709.34</td>\n",
       "      <td>medium</td>\n",
       "    </tr>\n",
       "  </tbody>\n",
       "</table>\n",
       "</div>"
      ],
      "text/plain": [
       "   customer_id  age               address  postcode state  property_valuation  \\\n",
       "0         2950   62     984 Hoepker Court    3064.0   VIC                 6.0   \n",
       "1         3120   38       4 Shopko Circle    2196.0   NSW                 5.0   \n",
       "2          402   40    586 Miller Parkway    2835.0   NSW                 1.0   \n",
       "3         3135   55   1617 Harper Parkway    2096.0   NSW                10.0   \n",
       "4         2339   59  7174 Thackeray Point    2153.0   NSW                10.0   \n",
       "\n",
       "   gender  past_3_years_purchases                   job_title  \\\n",
       "0    Male                    19.0         Software Engineer I   \n",
       "1  Female                    89.0         Clinical Specialist   \n",
       "2    Male                     9.0  Desktop Support Technician   \n",
       "3    Male                    83.0             Staff Scientist   \n",
       "4    Male                     3.0             Web Designer II   \n",
       "\n",
       "  job_industry_category     wealth_segment  tenure  product_id  online_order  \\\n",
       "0    Financial Services      Mass Customer    10.0          53           0.0   \n",
       "1                Health      Mass Customer    10.0          68           1.0   \n",
       "2                Retail  Affluent Customer    22.0          33           0.0   \n",
       "3    Financial Services      Mass Customer    16.0          17           0.0   \n",
       "4              Property  Affluent Customer    16.0          14           1.0   \n",
       "\n",
       "    profit product_profitability  \n",
       "0    17.87                   low  \n",
       "1  1702.55                  high  \n",
       "2  1544.61                  high  \n",
       "3   817.36                medium  \n",
       "4   709.34                medium  "
      ]
     },
<<<<<<< HEAD
     "execution_count": 60,
=======
     "execution_count": 103,
>>>>>>> e14b551b545e52c22207d678cf564683de5c237a
     "metadata": {},
     "output_type": "execute_result"
    }
   ],
   "source": [
    "# Viewing the customers dataframe\n",
    "customer_details.head()"
   ]
  },
  {
   "cell_type": "code",
<<<<<<< HEAD
   "execution_count": 61,
=======
   "execution_count": 104,
>>>>>>> e14b551b545e52c22207d678cf564683de5c237a
   "metadata": {},
   "outputs": [
    {
     "data": {
      "text/html": [
       "<div>\n",
       "<style scoped>\n",
       "    .dataframe tbody tr th:only-of-type {\n",
       "        vertical-align: middle;\n",
       "    }\n",
       "\n",
       "    .dataframe tbody tr th {\n",
       "        vertical-align: top;\n",
       "    }\n",
       "\n",
       "    .dataframe thead th {\n",
       "        text-align: right;\n",
       "    }\n",
       "</style>\n",
       "<table border=\"1\" class=\"dataframe\">\n",
       "  <thead>\n",
       "    <tr style=\"text-align: right;\">\n",
       "      <th></th>\n",
       "      <th>age</th>\n",
       "      <th>property_valuation</th>\n",
       "      <th>past_3_years_purchases</th>\n",
       "      <th>tenure</th>\n",
       "      <th>profit</th>\n",
       "    </tr>\n",
       "  </thead>\n",
       "  <tbody>\n",
       "    <tr>\n",
       "      <th>age</th>\n",
       "      <td>1.000000</td>\n",
       "      <td>0.002174</td>\n",
       "      <td>-0.046930</td>\n",
       "      <td>0.436658</td>\n",
       "      <td>-0.002772</td>\n",
       "    </tr>\n",
       "    <tr>\n",
       "      <th>property_valuation</th>\n",
       "      <td>0.002174</td>\n",
       "      <td>1.000000</td>\n",
       "      <td>0.016689</td>\n",
       "      <td>-0.027435</td>\n",
       "      <td>-0.009856</td>\n",
       "    </tr>\n",
       "    <tr>\n",
       "      <th>past_3_years_purchases</th>\n",
       "      <td>-0.046930</td>\n",
       "      <td>0.016689</td>\n",
       "      <td>1.000000</td>\n",
       "      <td>-0.016959</td>\n",
       "      <td>0.014046</td>\n",
       "    </tr>\n",
       "    <tr>\n",
       "      <th>tenure</th>\n",
       "      <td>0.436658</td>\n",
       "      <td>-0.027435</td>\n",
       "      <td>-0.016959</td>\n",
       "      <td>1.000000</td>\n",
       "      <td>0.014967</td>\n",
       "    </tr>\n",
       "    <tr>\n",
       "      <th>profit</th>\n",
       "      <td>-0.002772</td>\n",
       "      <td>-0.009856</td>\n",
       "      <td>0.014046</td>\n",
       "      <td>0.014967</td>\n",
       "      <td>1.000000</td>\n",
       "    </tr>\n",
       "  </tbody>\n",
       "</table>\n",
       "</div>"
      ],
      "text/plain": [
       "                             age  property_valuation  past_3_years_purchases  \\\n",
       "age                     1.000000            0.002174               -0.046930   \n",
       "property_valuation      0.002174            1.000000                0.016689   \n",
       "past_3_years_purchases -0.046930            0.016689                1.000000   \n",
       "tenure                  0.436658           -0.027435               -0.016959   \n",
       "profit                 -0.002772           -0.009856                0.014046   \n",
       "\n",
       "                          tenure    profit  \n",
       "age                     0.436658 -0.002772  \n",
       "property_valuation     -0.027435 -0.009856  \n",
       "past_3_years_purchases -0.016959  0.014046  \n",
       "tenure                  1.000000  0.014967  \n",
       "profit                  0.014967  1.000000  "
      ]
     },
<<<<<<< HEAD
     "execution_count": 61,
=======
     "execution_count": 104,
>>>>>>> e14b551b545e52c22207d678cf564683de5c237a
     "metadata": {},
     "output_type": "execute_result"
    }
   ],
   "source": [
    "customer_details[['age', 'property_valuation', 'past_3_years_purchases', 'tenure', 'profit']].corr()"
   ]
  },
  {
   "cell_type": "markdown",
   "metadata": {},
   "source": [
    "Tenure and age have a moderate positive correlation. It is to be expected as the older one is the higher the chance that they have been a customer for a long period of time. \n",
    "\n",
    "The rest of the values have low correlation."
   ]
  },
  {
   "cell_type": "markdown",
   "metadata": {},
   "source": [
    "### Target feature (Marketability)\n",
    "\n",
    "There is no clear target feature in the data in regards to marketability of customers. Therefore I am going to create such a feature.\n",
    "\n",
    "Going by the 80-20 rule of sales 20% of customers are responsible for 80% of a company's sales revenue.\n",
    "\n",
    "Therefore, that 20% of the customers demographic will be the best candidates for marketing.\n",
    "\n",
    "There will be 3 categories in the target feature:\n",
    "\n",
    "1. High - The upper 20% (80-100) in customers bringing in most profit\n",
    "2. Medium - 35-80% of the customers\n",
    "3. Low 0-35% of the customers\n",
    "\n",
    "In computing the feature weights are assigned to the involved features in the engineering. \n",
    "\n",
    "    3/4(Current Year profit) * 1/4(Past 3 years purchases)"
   ]
  },
  {
   "cell_type": "code",
<<<<<<< HEAD
   "execution_count": 62,
=======
   "execution_count": 105,
>>>>>>> e14b551b545e52c22207d678cf564683de5c237a
   "metadata": {},
   "outputs": [],
   "source": [
    "# Creating a dataframe of grouped data by customer ID and summating profit values to get the total revenue per customer\n",
    "customer_profitability = pd.DataFrame(customer_details.groupby(by='customer_id')[['profit', 'past_3_years_purchases']]\n",
    "                                      .aggregate({'profit': np.sum, 'past_3_years_purchases': np.mean})).reset_index()\n",
    "\n",
    "# Renaming columns as necessary\n",
    "customer_profitability.rename(mapper={'profit': 'total_profit'}, axis=1, inplace=True)\n",
    "\n",
    "# Creating profit&purchases (TARGET) column\n",
    "customer_profitability['profit&purchases'] = (3/4*customer_profitability['total_profit']) * (1/4*customer_profitability['past_3_years_purchases'])"
   ]
  },
  {
   "cell_type": "code",
<<<<<<< HEAD
   "execution_count": 63,
=======
   "execution_count": 106,
>>>>>>> e14b551b545e52c22207d678cf564683de5c237a
   "metadata": {},
   "outputs": [
    {
     "data": {
      "text/html": [
       "<div>\n",
       "<style scoped>\n",
       "    .dataframe tbody tr th:only-of-type {\n",
       "        vertical-align: middle;\n",
       "    }\n",
       "\n",
       "    .dataframe tbody tr th {\n",
       "        vertical-align: top;\n",
       "    }\n",
       "\n",
       "    .dataframe thead th {\n",
       "        text-align: right;\n",
       "    }\n",
       "</style>\n",
       "<table border=\"1\" class=\"dataframe\">\n",
       "  <thead>\n",
       "    <tr style=\"text-align: right;\">\n",
       "      <th></th>\n",
       "      <th>customer_id</th>\n",
       "      <th>total_profit</th>\n",
       "      <th>past_3_years_purchases</th>\n",
       "      <th>profit&amp;purchases</th>\n",
       "    </tr>\n",
       "  </thead>\n",
       "  <tbody>\n",
       "    <tr>\n",
       "      <th>customer_id</th>\n",
       "      <td>1.000000</td>\n",
       "      <td>0.007475</td>\n",
       "      <td>-0.001196</td>\n",
       "      <td>0.014764</td>\n",
       "    </tr>\n",
       "    <tr>\n",
       "      <th>total_profit</th>\n",
       "      <td>0.007475</td>\n",
       "      <td>1.000000</td>\n",
       "      <td>0.024243</td>\n",
       "      <td>0.657900</td>\n",
       "    </tr>\n",
       "    <tr>\n",
       "      <th>past_3_years_purchases</th>\n",
       "      <td>-0.001196</td>\n",
       "      <td>0.024243</td>\n",
       "      <td>1.000000</td>\n",
       "      <td>0.670904</td>\n",
       "    </tr>\n",
       "    <tr>\n",
       "      <th>profit&amp;purchases</th>\n",
       "      <td>0.014764</td>\n",
       "      <td>0.657900</td>\n",
       "      <td>0.670904</td>\n",
       "      <td>1.000000</td>\n",
       "    </tr>\n",
       "  </tbody>\n",
       "</table>\n",
       "</div>"
      ],
      "text/plain": [
       "                        customer_id  total_profit  past_3_years_purchases  \\\n",
       "customer_id                1.000000      0.007475               -0.001196   \n",
       "total_profit               0.007475      1.000000                0.024243   \n",
       "past_3_years_purchases    -0.001196      0.024243                1.000000   \n",
       "profit&purchases           0.014764      0.657900                0.670904   \n",
       "\n",
       "                        profit&purchases  \n",
       "customer_id                     0.014764  \n",
       "total_profit                    0.657900  \n",
       "past_3_years_purchases          0.670904  \n",
       "profit&purchases                1.000000  "
      ]
     },
<<<<<<< HEAD
     "execution_count": 63,
=======
     "execution_count": 106,
>>>>>>> e14b551b545e52c22207d678cf564683de5c237a
     "metadata": {},
     "output_type": "execute_result"
    }
   ],
   "source": [
    "customer_profitability.corr()"
   ]
  },
  {
   "cell_type": "code",
<<<<<<< HEAD
   "execution_count": 64,
=======
   "execution_count": 107,
>>>>>>> e14b551b545e52c22207d678cf564683de5c237a
   "metadata": {},
   "outputs": [
    {
     "data": {
      "text/plain": [
       "count      2521.000000\n",
       "mean      28586.921594\n",
       "std       25408.218763\n",
       "min           0.000000\n",
       "25%        9233.358750\n",
       "50%       21709.340625\n",
       "75%       41070.830625\n",
       "max      186086.100000\n",
       "Name: profit&purchases, dtype: float64"
      ]
     },
<<<<<<< HEAD
     "execution_count": 64,
=======
     "execution_count": 107,
>>>>>>> e14b551b545e52c22207d678cf564683de5c237a
     "metadata": {},
     "output_type": "execute_result"
    }
   ],
   "source": [
    "# Looking at the profits & purchases distribution\n",
    "customer_profitability['profit&purchases'].describe()"
   ]
  },
  {
   "cell_type": "code",
<<<<<<< HEAD
   "execution_count": 65,
=======
   "execution_count": 108,
>>>>>>> e14b551b545e52c22207d678cf564683de5c237a
   "metadata": {},
   "outputs": [
    {
     "name": "stdout",
     "output_type": "stream",
     "text": [
      "High Class lower Limit: 47571\n",
      "Medium Class lower Limit: 13606\n"
     ]
    }
   ],
   "source": [
    "# Checking the class division limits\n",
    "print('High Class lower Limit:', customer_profitability['profit&purchases'].quantile(0.80).__floor__())\n",
    "print('Medium Class lower Limit:', customer_profitability['profit&purchases'].quantile(0.35).__floor__())"
   ]
  },
  {
   "cell_type": "code",
<<<<<<< HEAD
   "execution_count": 66,
=======
   "execution_count": 109,
>>>>>>> e14b551b545e52c22207d678cf564683de5c237a
   "metadata": {},
   "outputs": [],
   "source": [
    "# Generating marketablity column\n",
    "# Setting empty list\n",
    "marketable = list()\n",
    "\n",
    "for value in customer_profitability['profit&purchases']:\n",
    "    if value <= 13817:\n",
    "        marketable.append('low')\n",
    "\n",
    "    elif value > 13817 and value <= 48506:\n",
    "        marketable.append('medium')\n",
    "\n",
    "    else:\n",
    "        marketable.append('high')\n",
    "\n",
    "# Creating the column\n",
    "customer_profitability['marketability'] = marketable"
   ]
  },
  {
   "cell_type": "code",
<<<<<<< HEAD
   "execution_count": 67,
=======
   "execution_count": 110,
>>>>>>> e14b551b545e52c22207d678cf564683de5c237a
   "metadata": {},
   "outputs": [
    {
     "data": {
      "image/png": "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",
      "text/plain": [
       "<Figure size 640x480 with 1 Axes>"
      ]
     },
     "metadata": {},
     "output_type": "display_data"
    }
   ],
   "source": [
    "# Bargraph of of marketability classes\n",
    "customer_profitability['marketability'].value_counts().plot.bar()\n",
    "\n",
    "# Customizing the plot\n",
    "plt.title('Counts of customers per marketability class')\n",
    "plt.ylabel('Class')\n",
    "plt.xlabel('Count')\n",
    "plt.show()\n"
   ]
  },
  {
   "cell_type": "markdown",
   "metadata": {},
   "source": [
    "### Merging customer profitability dataset back the data to the whole larger dataframe"
   ]
  },
  {
   "cell_type": "code",
<<<<<<< HEAD
   "execution_count": 68,
=======
   "execution_count": 111,
>>>>>>> e14b551b545e52c22207d678cf564683de5c237a
   "metadata": {},
   "outputs": [],
   "source": [
    "# Extracting customer profitability data\n",
    "customer_profitability.to_excel('../KPMG Virtual Internship/Data/Customer profitability.xlsx', sheet_name='Customer details and revenue')"
   ]
  },
  {
   "cell_type": "code",
<<<<<<< HEAD
   "execution_count": 69,
=======
   "execution_count": 112,
>>>>>>> e14b551b545e52c22207d678cf564683de5c237a
   "metadata": {},
   "outputs": [],
   "source": [
    "# Joining customer_profitability to 'data'\n",
    "final_data = data.merge(customer_profitability[['customer_id', 'marketability']], on='customer_id', how='left')"
   ]
  },
  {
   "cell_type": "code",
<<<<<<< HEAD
   "execution_count": 70,
=======
   "execution_count": 113,
>>>>>>> e14b551b545e52c22207d678cf564683de5c237a
   "metadata": {},
   "outputs": [
    {
     "name": "stdout",
     "output_type": "stream",
     "text": [
      "Final data shape is: (13908, 25)\n"
     ]
    },
    {
     "data": {
      "text/html": [
       "<div>\n",
       "<style scoped>\n",
       "    .dataframe tbody tr th:only-of-type {\n",
       "        vertical-align: middle;\n",
       "    }\n",
       "\n",
       "    .dataframe tbody tr th {\n",
       "        vertical-align: top;\n",
       "    }\n",
       "\n",
       "    .dataframe thead th {\n",
       "        text-align: right;\n",
       "    }\n",
       "</style>\n",
       "<table border=\"1\" class=\"dataframe\">\n",
       "  <thead>\n",
       "    <tr style=\"text-align: right;\">\n",
       "      <th></th>\n",
       "      <th>customer_id</th>\n",
       "      <th>age</th>\n",
       "      <th>address</th>\n",
       "      <th>postcode</th>\n",
       "      <th>state</th>\n",
       "      <th>property_valuation</th>\n",
       "      <th>gender</th>\n",
       "      <th>past_3_years_purchases</th>\n",
       "      <th>job_title</th>\n",
       "      <th>job_industry_category</th>\n",
       "      <th>wealth_segment</th>\n",
       "      <th>tenure</th>\n",
       "      <th>transaction_date</th>\n",
       "      <th>product_id</th>\n",
       "      <th>online_order</th>\n",
       "      <th>brand</th>\n",
       "      <th>product_line</th>\n",
       "      <th>product_class</th>\n",
       "      <th>product_size</th>\n",
       "      <th>list_price</th>\n",
       "      <th>standard_cost</th>\n",
       "      <th>profit</th>\n",
       "      <th>percentage_profit</th>\n",
       "      <th>product_profitability</th>\n",
       "      <th>marketability</th>\n",
       "    </tr>\n",
       "  </thead>\n",
       "  <tbody>\n",
       "    <tr>\n",
<<<<<<< HEAD
       "      <th>4454</th>\n",
       "      <td>210</td>\n",
       "      <td>54</td>\n",
       "      <td>19969 5th Parkway</td>\n",
       "      <td>3152.0</td>\n",
       "      <td>VIC</td>\n",
       "      <td>9.0</td>\n",
       "      <td>Male</td>\n",
       "      <td>50.0</td>\n",
       "      <td>Assistant Manager</td>\n",
       "      <td>Property</td>\n",
       "      <td>Mass Customer</td>\n",
       "      <td>18.0</td>\n",
       "      <td>2017-06-28</td>\n",
       "      <td>20</td>\n",
       "      <td>1.0</td>\n",
       "      <td>Norco Bicycles</td>\n",
       "      <td>Standard</td>\n",
       "      <td>high</td>\n",
       "      <td>small</td>\n",
       "      <td>1661.92</td>\n",
       "      <td>1479.11</td>\n",
       "      <td>182.81</td>\n",
       "      <td>12.36</td>\n",
       "      <td>low</td>\n",
       "      <td>medium</td>\n",
       "    </tr>\n",
       "    <tr>\n",
       "      <th>2340</th>\n",
       "      <td>1685</td>\n",
       "      <td>45</td>\n",
       "      <td>116 Sullivan Avenue</td>\n",
       "      <td>3941.0</td>\n",
       "      <td>VIC</td>\n",
       "      <td>9.0</td>\n",
       "      <td>Female</td>\n",
       "      <td>32.0</td>\n",
       "      <td>Budget/Accounting Analyst III</td>\n",
       "      <td>IT</td>\n",
       "      <td>Mass Customer</td>\n",
       "      <td>8.0</td>\n",
       "      <td>2017-12-05</td>\n",
       "      <td>26</td>\n",
       "      <td>1.0</td>\n",
       "      <td>Norco Bicycles</td>\n",
       "      <td>Road</td>\n",
       "      <td>medium</td>\n",
       "      <td>medium</td>\n",
       "      <td>544.05</td>\n",
       "      <td>376.84</td>\n",
       "      <td>167.21</td>\n",
       "      <td>44.37</td>\n",
=======
       "      <th>64</th>\n",
       "      <td>2682</td>\n",
       "      <td>30</td>\n",
       "      <td>446 Warrior Pass</td>\n",
       "      <td>4740.0</td>\n",
       "      <td>QLD</td>\n",
       "      <td>5.0</td>\n",
       "      <td>Female</td>\n",
       "      <td>54.0</td>\n",
       "      <td>Accountant III</td>\n",
       "      <td>Manufacturing</td>\n",
       "      <td>High Net Worth</td>\n",
       "      <td>20.0</td>\n",
       "      <td>2017-04-04</td>\n",
       "      <td>38</td>\n",
       "      <td>1.0</td>\n",
       "      <td>OHM Cycles</td>\n",
       "      <td>Road</td>\n",
       "      <td>high</td>\n",
       "      <td>large</td>\n",
       "      <td>12.01</td>\n",
       "      <td>7.21</td>\n",
       "      <td>4.80</td>\n",
       "      <td>66.57</td>\n",
       "      <td>low</td>\n",
       "      <td>medium</td>\n",
       "    </tr>\n",
       "    <tr>\n",
       "      <th>9243</th>\n",
       "      <td>1317</td>\n",
       "      <td>44</td>\n",
       "      <td>58563 Monterey Hill</td>\n",
       "      <td>4300.0</td>\n",
       "      <td>QLD</td>\n",
       "      <td>2.0</td>\n",
       "      <td>Male</td>\n",
       "      <td>2.0</td>\n",
       "      <td>General Manager</td>\n",
       "      <td>Retail</td>\n",
       "      <td>Mass Customer</td>\n",
       "      <td>5.0</td>\n",
       "      <td>2017-12-20</td>\n",
       "      <td>2</td>\n",
       "      <td>0.0</td>\n",
       "      <td>Giant Bicycles</td>\n",
       "      <td>Standard</td>\n",
       "      <td>medium</td>\n",
       "      <td>large</td>\n",
       "      <td>569.56</td>\n",
       "      <td>528.43</td>\n",
       "      <td>41.13</td>\n",
       "      <td>7.78</td>\n",
>>>>>>> e14b551b545e52c22207d678cf564683de5c237a
       "      <td>low</td>\n",
       "      <td>low</td>\n",
       "    </tr>\n",
       "    <tr>\n",
<<<<<<< HEAD
       "      <th>2701</th>\n",
       "      <td>1468</td>\n",
       "      <td>39</td>\n",
       "      <td>45725 Hagan Pass</td>\n",
       "      <td>2519.0</td>\n",
       "      <td>NSW</td>\n",
       "      <td>9.0</td>\n",
       "      <td>Female</td>\n",
       "      <td>37.0</td>\n",
       "      <td>Financial Advisor</td>\n",
       "      <td>Financial Services</td>\n",
       "      <td>Mass Customer</td>\n",
       "      <td>22.0</td>\n",
       "      <td>2017-06-20</td>\n",
       "      <td>92</td>\n",
       "      <td>1.0</td>\n",
       "      <td>WeareA2B</td>\n",
       "      <td>Standard</td>\n",
       "      <td>medium</td>\n",
       "      <td>small</td>\n",
       "      <td>1415.01</td>\n",
       "      <td>1259.36</td>\n",
       "      <td>155.65</td>\n",
       "      <td>12.36</td>\n",
       "      <td>low</td>\n",
       "      <td>medium</td>\n",
=======
       "      <th>10384</th>\n",
       "      <td>216</td>\n",
       "      <td>22</td>\n",
       "      <td>231 Havey Court</td>\n",
       "      <td>2153.0</td>\n",
       "      <td>NSW</td>\n",
       "      <td>10.0</td>\n",
       "      <td>Female</td>\n",
       "      <td>12.0</td>\n",
       "      <td>Quality Engineer</td>\n",
       "      <td>Financial Services</td>\n",
       "      <td>High Net Worth</td>\n",
       "      <td>7.0</td>\n",
       "      <td>2017-02-11</td>\n",
       "      <td>16</td>\n",
       "      <td>1.0</td>\n",
       "      <td>Norco Bicycles</td>\n",
       "      <td>Standard</td>\n",
       "      <td>low</td>\n",
       "      <td>medium</td>\n",
       "      <td>958.74</td>\n",
       "      <td>748.90</td>\n",
       "      <td>209.84</td>\n",
       "      <td>28.02</td>\n",
       "      <td>low</td>\n",
       "      <td>low</td>\n",
>>>>>>> e14b551b545e52c22207d678cf564683de5c237a
       "    </tr>\n",
       "  </tbody>\n",
       "</table>\n",
       "</div>"
      ],
      "text/plain": [
<<<<<<< HEAD
       "      customer_id  age              address  postcode state  \\\n",
       "4454          210   54    19969 5th Parkway    3152.0   VIC   \n",
       "2340         1685   45  116 Sullivan Avenue    3941.0   VIC   \n",
       "2701         1468   39     45725 Hagan Pass    2519.0   NSW   \n",
       "\n",
       "      property_valuation  gender  past_3_years_purchases  \\\n",
       "4454                 9.0    Male                    50.0   \n",
       "2340                 9.0  Female                    32.0   \n",
       "2701                 9.0  Female                    37.0   \n",
       "\n",
       "                          job_title job_industry_category wealth_segment  \\\n",
       "4454              Assistant Manager              Property  Mass Customer   \n",
       "2340  Budget/Accounting Analyst III                    IT  Mass Customer   \n",
       "2701              Financial Advisor    Financial Services  Mass Customer   \n",
       "\n",
       "      tenure transaction_date  product_id  online_order           brand  \\\n",
       "4454    18.0       2017-06-28          20           1.0  Norco Bicycles   \n",
       "2340     8.0       2017-12-05          26           1.0  Norco Bicycles   \n",
       "2701    22.0       2017-06-20          92           1.0        WeareA2B   \n",
       "\n",
       "     product_line product_class product_size  list_price  standard_cost  \\\n",
       "4454     Standard          high        small     1661.92        1479.11   \n",
       "2340         Road        medium       medium      544.05         376.84   \n",
       "2701     Standard        medium        small     1415.01        1259.36   \n",
       "\n",
       "      profit  percentage_profit product_profitability marketability  \n",
       "4454  182.81              12.36                   low        medium  \n",
       "2340  167.21              44.37                   low           low  \n",
       "2701  155.65              12.36                   low        medium  "
      ]
     },
     "execution_count": 70,
=======
       "       customer_id  age              address  postcode state  \\\n",
       "64            2682   30     446 Warrior Pass    4740.0   QLD   \n",
       "9243          1317   44  58563 Monterey Hill    4300.0   QLD   \n",
       "10384          216   22      231 Havey Court    2153.0   NSW   \n",
       "\n",
       "       property_valuation  gender  past_3_years_purchases         job_title  \\\n",
       "64                    5.0  Female                    54.0    Accountant III   \n",
       "9243                  2.0    Male                     2.0   General Manager   \n",
       "10384                10.0  Female                    12.0  Quality Engineer   \n",
       "\n",
       "      job_industry_category  wealth_segment  tenure transaction_date  \\\n",
       "64            Manufacturing  High Net Worth    20.0       2017-04-04   \n",
       "9243                 Retail   Mass Customer     5.0       2017-12-20   \n",
       "10384    Financial Services  High Net Worth     7.0       2017-02-11   \n",
       "\n",
       "       product_id  online_order           brand product_line product_class  \\\n",
       "64             38           1.0      OHM Cycles         Road          high   \n",
       "9243            2           0.0  Giant Bicycles     Standard        medium   \n",
       "10384          16           1.0  Norco Bicycles     Standard           low   \n",
       "\n",
       "      product_size  list_price  standard_cost  profit  percentage_profit  \\\n",
       "64           large       12.01           7.21    4.80              66.57   \n",
       "9243         large      569.56         528.43   41.13               7.78   \n",
       "10384       medium      958.74         748.90  209.84              28.02   \n",
       "\n",
       "      lucrative_product marketability  \n",
       "64                  low        medium  \n",
       "9243                low           low  \n",
       "10384               low           low  "
      ]
     },
     "execution_count": 113,
>>>>>>> e14b551b545e52c22207d678cf564683de5c237a
     "metadata": {},
     "output_type": "execute_result"
    }
   ],
   "source": [
    "# Getting final data shape and sample view\n",
    "print('Final data shape is:', final_data.shape)\n",
    "final_data.sample(3)"
   ]
  },
  {
   "cell_type": "code",
<<<<<<< HEAD
   "execution_count": 71,
=======
   "execution_count": 114,
>>>>>>> e14b551b545e52c22207d678cf564683de5c237a
   "metadata": {},
   "outputs": [
    {
     "data": {
      "text/html": [
       "<div>\n",
       "<style scoped>\n",
       "    .dataframe tbody tr th:only-of-type {\n",
       "        vertical-align: middle;\n",
       "    }\n",
       "\n",
       "    .dataframe tbody tr th {\n",
       "        vertical-align: top;\n",
       "    }\n",
       "\n",
       "    .dataframe thead th {\n",
       "        text-align: right;\n",
       "    }\n",
       "</style>\n",
       "<table border=\"1\" class=\"dataframe\">\n",
       "  <thead>\n",
       "    <tr style=\"text-align: right;\">\n",
       "      <th></th>\n",
       "      <th>tenure</th>\n",
       "      <th>profit</th>\n",
       "      <th>past_3_years_purchases</th>\n",
       "      <th>age</th>\n",
       "      <th>property_valuation</th>\n",
       "    </tr>\n",
       "  </thead>\n",
       "  <tbody>\n",
       "    <tr>\n",
       "      <th>tenure</th>\n",
       "      <td>1.000000</td>\n",
       "      <td>0.014967</td>\n",
       "      <td>-0.016959</td>\n",
       "      <td>0.436658</td>\n",
       "      <td>-0.027435</td>\n",
       "    </tr>\n",
       "    <tr>\n",
       "      <th>profit</th>\n",
       "      <td>0.014967</td>\n",
       "      <td>1.000000</td>\n",
       "      <td>0.014046</td>\n",
       "      <td>-0.002772</td>\n",
       "      <td>-0.009856</td>\n",
       "    </tr>\n",
       "    <tr>\n",
       "      <th>past_3_years_purchases</th>\n",
       "      <td>-0.016959</td>\n",
       "      <td>0.014046</td>\n",
       "      <td>1.000000</td>\n",
       "      <td>-0.046930</td>\n",
       "      <td>0.016689</td>\n",
       "    </tr>\n",
       "    <tr>\n",
       "      <th>age</th>\n",
       "      <td>0.436658</td>\n",
       "      <td>-0.002772</td>\n",
       "      <td>-0.046930</td>\n",
       "      <td>1.000000</td>\n",
       "      <td>0.002174</td>\n",
       "    </tr>\n",
       "    <tr>\n",
       "      <th>property_valuation</th>\n",
       "      <td>-0.027435</td>\n",
       "      <td>-0.009856</td>\n",
       "      <td>0.016689</td>\n",
       "      <td>0.002174</td>\n",
       "      <td>1.000000</td>\n",
       "    </tr>\n",
       "  </tbody>\n",
       "</table>\n",
       "</div>"
      ],
      "text/plain": [
       "                          tenure    profit  past_3_years_purchases       age  \\\n",
       "tenure                  1.000000  0.014967               -0.016959  0.436658   \n",
       "profit                  0.014967  1.000000                0.014046 -0.002772   \n",
       "past_3_years_purchases -0.016959  0.014046                1.000000 -0.046930   \n",
       "age                     0.436658 -0.002772               -0.046930  1.000000   \n",
       "property_valuation     -0.027435 -0.009856                0.016689  0.002174   \n",
       "\n",
       "                        property_valuation  \n",
       "tenure                           -0.027435  \n",
       "profit                           -0.009856  \n",
       "past_3_years_purchases            0.016689  \n",
       "age                               0.002174  \n",
       "property_valuation                1.000000  "
      ]
     },
<<<<<<< HEAD
     "execution_count": 71,
=======
     "execution_count": 114,
>>>>>>> e14b551b545e52c22207d678cf564683de5c237a
     "metadata": {},
     "output_type": "execute_result"
    }
   ],
   "source": [
    "# Correlation among numerical variables in the final data\n",
    "final_data[['tenure', 'profit', 'past_3_years_purchases', 'age', 'property_valuation']].corr() "
   ]
  },
  {
   "cell_type": "code",
<<<<<<< HEAD
   "execution_count": 72,
=======
   "execution_count": 115,
>>>>>>> e14b551b545e52c22207d678cf564683de5c237a
   "metadata": {},
   "outputs": [],
   "source": [
    "# Extracting the final data after engineering all relevant columns\n",
    "final_data.to_excel('../KPMG Virtual Internship/Data/Final data.xlsx', sheet_name='Final data before modelling')"
   ]
  },
  {
   "cell_type": "markdown",
   "metadata": {},
   "source": [
    "<h4>The rest of the analysis continues in Tableau<h4>\n",
    "\n",
    "[Tableau Dashboard Link](https://public.tableau.com/shared/53S6YTYPK?:display_count=n&:origin=viz_share_link)"
   ]
  },
  {
   "cell_type": "markdown",
   "metadata": {},
   "source": [
    "## Step 2: Feature Selection"
   ]
  },
  {
   "cell_type": "code",
   "execution_count": 79,
   "metadata": {},
   "outputs": [
    {
     "data": {
      "text/plain": [
       "14"
      ]
     },
     "execution_count": 79,
     "metadata": {},
     "output_type": "execute_result"
    }
   ],
   "source": [
    "# Setting valid columns list for the necessary features for the model\n",
    "valid_columns = ['age', 'postcode', 'state', 'property_valuation', 'gender', 'past_3_years_purchases', 'job_industry_category', 'wealth_segment', 'tenure', 'brand', 'product_line', 'profit', 'product_profitability', 'marketability', ]\n",
    "\n",
    "# Checking number of features\n",
    "len(valid_columns)"
   ]
  },
  {
   "cell_type": "code",
   "execution_count": 80,
   "metadata": {},
   "outputs": [],
   "source": [
    "# Subsetting the valid features\n",
    "model_data = final_data[valid_columns].copy()\n",
    "\n",
    "@\n",
    "model_data.head(3)"
   ]
  },
  {
   "cell_type": "code",
   "execution_count": null,
   "metadata": {},
   "outputs": [],
   "source": [
    "model_data.describe().loc['std']"
   ]
  },
  {
   "cell_type": "code",
   "execution_count": 94,
   "metadata": {},
   "outputs": [
    {
     "data": {
      "image/png": "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",
      "text/plain": [
       "<Figure size 640x480 with 6 Axes>"
      ]
     },
     "metadata": {},
     "output_type": "display_data"
    }
   ],
   "source": [
    "model_data[['age', 'postcode', 'property_valuation', 'past_3_years_purchases', 'tenure', 'profit']].hist()\n",
    "plt.tight_layout()\n",
    "plt.show()"
   ]
  },
  {
   "cell_type": "markdown",
   "metadata": {},
   "source": [
    "Based on the different variances of the numerical features, I will standardize the values for ease and accuracy in modelling. This is in consideration that the models used will be calssification models. "
   ]
  },
  {
   "cell_type": "markdown",
   "metadata": {},
   "source": []
  }
 ],
 "metadata": {
  "kernelspec": {
   "display_name": "pylearn",
   "language": "python",
   "name": "python3"
  },
  "language_info": {
   "codemirror_mode": {
    "name": "ipython",
    "version": 3
   },
   "file_extension": ".py",
   "mimetype": "text/x-python",
   "name": "python",
   "nbconvert_exporter": "python",
   "pygments_lexer": "ipython3",
   "version": "3.10.12"
  },
  "orig_nbformat": 4
 },
 "nbformat": 4,
 "nbformat_minor": 2
}
